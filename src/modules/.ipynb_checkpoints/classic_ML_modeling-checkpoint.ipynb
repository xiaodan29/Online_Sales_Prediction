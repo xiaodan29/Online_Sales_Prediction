{
 "cells": [
  {
   "cell_type": "markdown",
   "id": "2a80b207-271c-4c6e-a23f-4a9767172071",
   "metadata": {
    "id": "2a80b207-271c-4c6e-a23f-4a9767172071",
    "tags": []
   },
   "source": [
    "### Modeling"
   ]
  },
  {
   "cell_type": "code",
   "execution_count": 1,
   "id": "440f8533-09b0-4014-bf5b-dcb0744c618f",
   "metadata": {
    "executionInfo": {
     "elapsed": 2431,
     "status": "ok",
     "timestamp": 1682102608179,
     "user": {
      "displayName": "LEAH CHEN",
      "userId": "04389040899043702332"
     },
     "user_tz": 420
    },
    "id": "440f8533-09b0-4014-bf5b-dcb0744c618f",
    "tags": []
   },
   "outputs": [],
   "source": [
    "import pandas as pd\n",
    "import numpy as np\n",
    "import seaborn as sns\n",
    "import matplotlib.pyplot as plt\n",
    "from sklearn.model_selection import train_test_split\n",
    "from sklearn.model_selection import train_test_split\n",
    "from sklearn.preprocessing import StandardScaler, OneHotEncoder\n",
    "from sklearn.compose import ColumnTransformer\n",
    "from sklearn.pipeline import Pipeline\n",
    "from sklearn.linear_model import LinearRegression\n",
    "from sklearn.ensemble import RandomForestRegressor\n",
    "from xgboost import XGBRegressor\n",
    "from sklearn.metrics import mean_squared_error\n",
    "from sklearn.metrics import mean_absolute_error\n",
    "from sklearn.metrics import r2_score\n",
    "from sklearn.linear_model import Ridge, Lasso\n",
    "from xgboost import XGBRegressor\n",
    "from sklearn.model_selection import GridSearchCV\n"
   ]
  },
  {
   "cell_type": "markdown",
   "id": "nTKRPu4iH904",
   "metadata": {
    "id": "nTKRPu4iH904"
   },
   "source": [
    "- from Google Drive"
   ]
  },
  {
   "cell_type": "code",
   "execution_count": 2,
   "id": "MgJmpvnSH5VE",
   "metadata": {
    "colab": {
     "base_uri": "https://localhost:8080/"
    },
    "executionInfo": {
     "elapsed": 15333,
     "status": "ok",
     "timestamp": 1682102687377,
     "user": {
      "displayName": "LEAH CHEN",
      "userId": "04389040899043702332"
     },
     "user_tz": 420
    },
    "id": "MgJmpvnSH5VE",
    "outputId": "e6b5a03c-9d54-471a-f92a-f373263f1aba"
   },
   "outputs": [
    {
     "name": "stdout",
     "output_type": "stream",
     "text": [
      "Mounted at /content/drive\n"
     ]
    }
   ],
   "source": [
    "from google.colab import drive\n",
    "drive.mount('/content/drive')"
   ]
  },
  {
   "cell_type": "code",
   "execution_count": null,
   "id": "9ff9cf88-f344-42f5-8e78-fbd7491e10bb",
   "metadata": {},
   "outputs": [],
   "source": [
    "df = pd.read_csv('/content/drive/Othercomputers/My Mac/Final Project/Time-Series-Forecasting/data/cleaned_05.csv')"
   ]
  },
  {
   "cell_type": "code",
   "execution_count": null,
   "id": "D6x5ULbHH47a",
   "metadata": {
    "id": "D6x5ULbHH47a"
   },
   "outputs": [],
   "source": []
  },
  {
   "cell_type": "markdown",
   "id": "0306byS6IBgr",
   "metadata": {
    "id": "0306byS6IBgr"
   },
   "source": [
    "- from Local Computer"
   ]
  },
  {
   "cell_type": "code",
   "execution_count": 2,
   "id": "396fdf36-772a-487c-9d7a-b9c902a1c466",
   "metadata": {
    "id": "396fdf36-772a-487c-9d7a-b9c902a1c466",
    "tags": []
   },
   "outputs": [],
   "source": [
    "df = pd.read_csv('/Users/leahchen/Documents/LHL/Final Project/Time-Series-Forecasting/data/cleaned_05.csv')"
   ]
  },
  {
   "cell_type": "code",
   "execution_count": 3,
   "id": "f5dd495a-5030-48c7-bd3b-1d62427eb176",
   "metadata": {
    "id": "f5dd495a-5030-48c7-bd3b-1d62427eb176",
    "outputId": "1696dbe3-a9ed-4aa4-b58d-bf34102ce0eb",
    "tags": []
   },
   "outputs": [
    {
     "data": {
      "text/html": [
       "<div>\n",
       "<style scoped>\n",
       "    .dataframe tbody tr th:only-of-type {\n",
       "        vertical-align: middle;\n",
       "    }\n",
       "\n",
       "    .dataframe tbody tr th {\n",
       "        vertical-align: top;\n",
       "    }\n",
       "\n",
       "    .dataframe thead th {\n",
       "        text-align: right;\n",
       "    }\n",
       "</style>\n",
       "<table border=\"1\" class=\"dataframe\">\n",
       "  <thead>\n",
       "    <tr style=\"text-align: right;\">\n",
       "      <th></th>\n",
       "      <th>order_id</th>\n",
       "      <th>date</th>\n",
       "      <th>country</th>\n",
       "      <th>quantity</th>\n",
       "      <th>gift_quantity</th>\n",
       "      <th>gross_revenue</th>\n",
       "      <th>profit</th>\n",
       "      <th>day_of_week_x</th>\n",
       "      <th>month_of_year_x</th>\n",
       "      <th>year_x</th>\n",
       "      <th>...</th>\n",
       "      <th>payment_CARD_CSOB</th>\n",
       "      <th>payment_CHECKOUT_CARD</th>\n",
       "      <th>payment_PAYPAL_EXPRESS</th>\n",
       "      <th>payment_CHECKOUT_APPLE</th>\n",
       "      <th>payment_CHECKOUT_BANCONTACT</th>\n",
       "      <th>payment_BANK_TRANSFER</th>\n",
       "      <th>payment_CASH</th>\n",
       "      <th>payment_CSOB_CARD</th>\n",
       "      <th>payment_INVOICE_HUF</th>\n",
       "      <th>payment_PAYPAL_IDEALO</th>\n",
       "    </tr>\n",
       "  </thead>\n",
       "  <tbody>\n",
       "    <tr>\n",
       "      <th>0</th>\n",
       "      <td>1900079010</td>\n",
       "      <td>2019-06-01</td>\n",
       "      <td>Czech Republic</td>\n",
       "      <td>3</td>\n",
       "      <td>0.0</td>\n",
       "      <td>265.519767</td>\n",
       "      <td>109.789535</td>\n",
       "      <td>5</td>\n",
       "      <td>6</td>\n",
       "      <td>2019</td>\n",
       "      <td>...</td>\n",
       "      <td>0</td>\n",
       "      <td>0</td>\n",
       "      <td>0</td>\n",
       "      <td>0</td>\n",
       "      <td>0</td>\n",
       "      <td>0</td>\n",
       "      <td>0</td>\n",
       "      <td>0</td>\n",
       "      <td>0</td>\n",
       "      <td>0</td>\n",
       "    </tr>\n",
       "    <tr>\n",
       "      <th>1</th>\n",
       "      <td>1900079006</td>\n",
       "      <td>2019-06-01</td>\n",
       "      <td>Czech Republic</td>\n",
       "      <td>5</td>\n",
       "      <td>0.0</td>\n",
       "      <td>80.658914</td>\n",
       "      <td>34.230620</td>\n",
       "      <td>5</td>\n",
       "      <td>6</td>\n",
       "      <td>2019</td>\n",
       "      <td>...</td>\n",
       "      <td>0</td>\n",
       "      <td>0</td>\n",
       "      <td>0</td>\n",
       "      <td>0</td>\n",
       "      <td>0</td>\n",
       "      <td>0</td>\n",
       "      <td>0</td>\n",
       "      <td>0</td>\n",
       "      <td>0</td>\n",
       "      <td>0</td>\n",
       "    </tr>\n",
       "    <tr>\n",
       "      <th>2</th>\n",
       "      <td>1900080490</td>\n",
       "      <td>2019-06-01</td>\n",
       "      <td>Czech Republic</td>\n",
       "      <td>2</td>\n",
       "      <td>0.0</td>\n",
       "      <td>228.329457</td>\n",
       "      <td>53.247287</td>\n",
       "      <td>5</td>\n",
       "      <td>6</td>\n",
       "      <td>2019</td>\n",
       "      <td>...</td>\n",
       "      <td>1</td>\n",
       "      <td>0</td>\n",
       "      <td>0</td>\n",
       "      <td>0</td>\n",
       "      <td>0</td>\n",
       "      <td>0</td>\n",
       "      <td>0</td>\n",
       "      <td>0</td>\n",
       "      <td>0</td>\n",
       "      <td>0</td>\n",
       "    </tr>\n",
       "    <tr>\n",
       "      <th>3</th>\n",
       "      <td>1900078998</td>\n",
       "      <td>2019-06-01</td>\n",
       "      <td>Czech Republic</td>\n",
       "      <td>2</td>\n",
       "      <td>0.0</td>\n",
       "      <td>23.384108</td>\n",
       "      <td>11.603101</td>\n",
       "      <td>5</td>\n",
       "      <td>6</td>\n",
       "      <td>2019</td>\n",
       "      <td>...</td>\n",
       "      <td>1</td>\n",
       "      <td>0</td>\n",
       "      <td>0</td>\n",
       "      <td>0</td>\n",
       "      <td>0</td>\n",
       "      <td>0</td>\n",
       "      <td>0</td>\n",
       "      <td>0</td>\n",
       "      <td>0</td>\n",
       "      <td>0</td>\n",
       "    </tr>\n",
       "    <tr>\n",
       "      <th>4</th>\n",
       "      <td>1900078996</td>\n",
       "      <td>2019-06-01</td>\n",
       "      <td>Slovakia</td>\n",
       "      <td>1</td>\n",
       "      <td>0.0</td>\n",
       "      <td>45.199763</td>\n",
       "      <td>17.174569</td>\n",
       "      <td>5</td>\n",
       "      <td>6</td>\n",
       "      <td>2019</td>\n",
       "      <td>...</td>\n",
       "      <td>0</td>\n",
       "      <td>0</td>\n",
       "      <td>0</td>\n",
       "      <td>0</td>\n",
       "      <td>0</td>\n",
       "      <td>0</td>\n",
       "      <td>0</td>\n",
       "      <td>0</td>\n",
       "      <td>0</td>\n",
       "      <td>0</td>\n",
       "    </tr>\n",
       "  </tbody>\n",
       "</table>\n",
       "<p>5 rows × 58 columns</p>\n",
       "</div>"
      ],
      "text/plain": [
       "     order_id        date         country  quantity  gift_quantity  \\\n",
       "0  1900079010  2019-06-01  Czech Republic         3            0.0   \n",
       "1  1900079006  2019-06-01  Czech Republic         5            0.0   \n",
       "2  1900080490  2019-06-01  Czech Republic         2            0.0   \n",
       "3  1900078998  2019-06-01  Czech Republic         2            0.0   \n",
       "4  1900078996  2019-06-01        Slovakia         1            0.0   \n",
       "\n",
       "   gross_revenue      profit  day_of_week_x  month_of_year_x  year_x  ...  \\\n",
       "0     265.519767  109.789535              5                6    2019  ...   \n",
       "1      80.658914   34.230620              5                6    2019  ...   \n",
       "2     228.329457   53.247287              5                6    2019  ...   \n",
       "3      23.384108   11.603101              5                6    2019  ...   \n",
       "4      45.199763   17.174569              5                6    2019  ...   \n",
       "\n",
       "   payment_CARD_CSOB  payment_CHECKOUT_CARD  payment_PAYPAL_EXPRESS  \\\n",
       "0                  0                      0                       0   \n",
       "1                  0                      0                       0   \n",
       "2                  1                      0                       0   \n",
       "3                  1                      0                       0   \n",
       "4                  0                      0                       0   \n",
       "\n",
       "   payment_CHECKOUT_APPLE  payment_CHECKOUT_BANCONTACT  payment_BANK_TRANSFER  \\\n",
       "0                       0                            0                      0   \n",
       "1                       0                            0                      0   \n",
       "2                       0                            0                      0   \n",
       "3                       0                            0                      0   \n",
       "4                       0                            0                      0   \n",
       "\n",
       "   payment_CASH  payment_CSOB_CARD  payment_INVOICE_HUF  payment_PAYPAL_IDEALO  \n",
       "0             0                  0                    0                      0  \n",
       "1             0                  0                    0                      0  \n",
       "2             0                  0                    0                      0  \n",
       "3             0                  0                    0                      0  \n",
       "4             0                  0                    0                      0  \n",
       "\n",
       "[5 rows x 58 columns]"
      ]
     },
     "execution_count": 3,
     "metadata": {},
     "output_type": "execute_result"
    }
   ],
   "source": [
    "df.head()"
   ]
  },
  {
   "cell_type": "code",
   "execution_count": 4,
   "id": "81247a0e-da47-4034-b336-306bb29d433f",
   "metadata": {
    "tags": []
   },
   "outputs": [
    {
     "data": {
      "text/plain": [
       "Index(['order_id', 'date', 'country', 'quantity', 'gift_quantity',\n",
       "       'gross_revenue', 'profit', 'day_of_week_x', 'month_of_year_x', 'year_x',\n",
       "       'week_of_year_x', 'price_difference', 'add_on_products', 'hour_of_day',\n",
       "       'morning', 'afternoon', 'evening', 'avg_sales_country_product_day',\n",
       "       'total_orders', 'total_products', 'average_orders_per_day',\n",
       "       'average_products_per_day', 'category_football', 'category_running',\n",
       "       'category_fitness', 'category_lifestyle', 'gender_men', 'gender_women',\n",
       "       'gender_unisex', 'age_adults', 'age_kids', 'color_Red', 'color_White',\n",
       "       'color_Pink', 'color_Blue', 'color_Orange', 'color_Green',\n",
       "       'color_Black', 'color_Silver', 'group0_Other', 'group0_Apparel',\n",
       "       'group0_Footwear', 'group0_Equipment', 'group0_Nutrition',\n",
       "       'payment_COD', 'payment_GOPAY_CARD', 'payment_PAYPAL',\n",
       "       'payment_CARD_GOPAY', 'payment_CARD_CSOB', 'payment_CHECKOUT_CARD',\n",
       "       'payment_PAYPAL_EXPRESS', 'payment_CHECKOUT_APPLE',\n",
       "       'payment_CHECKOUT_BANCONTACT', 'payment_BANK_TRANSFER', 'payment_CASH',\n",
       "       'payment_CSOB_CARD', 'payment_INVOICE_HUF', 'payment_PAYPAL_IDEALO'],\n",
       "      dtype='object')"
      ]
     },
     "execution_count": 4,
     "metadata": {},
     "output_type": "execute_result"
    }
   ],
   "source": [
    "df.columns"
   ]
  },
  {
   "cell_type": "code",
   "execution_count": 5,
   "id": "1156906e-7cbe-4335-9a0d-a9fbfa8d4be5",
   "metadata": {
    "id": "1156906e-7cbe-4335-9a0d-a9fbfa8d4be5",
    "outputId": "e2324c90-2a8b-4cf6-f2de-ac02ad4d24b8",
    "tags": []
   },
   "outputs": [
    {
     "data": {
      "text/html": [
       "<div>\n",
       "<style scoped>\n",
       "    .dataframe tbody tr th:only-of-type {\n",
       "        vertical-align: middle;\n",
       "    }\n",
       "\n",
       "    .dataframe tbody tr th {\n",
       "        vertical-align: top;\n",
       "    }\n",
       "\n",
       "    .dataframe thead th {\n",
       "        text-align: right;\n",
       "    }\n",
       "</style>\n",
       "<table border=\"1\" class=\"dataframe\">\n",
       "  <thead>\n",
       "    <tr style=\"text-align: right;\">\n",
       "      <th></th>\n",
       "      <th>order_id</th>\n",
       "      <th>date</th>\n",
       "      <th>country</th>\n",
       "      <th>quantity</th>\n",
       "      <th>gift_quantity</th>\n",
       "      <th>gross_revenue</th>\n",
       "      <th>profit</th>\n",
       "      <th>day_of_week_x</th>\n",
       "      <th>month_of_year_x</th>\n",
       "      <th>year_x</th>\n",
       "      <th>...</th>\n",
       "      <th>payment_CARD_CSOB</th>\n",
       "      <th>payment_CHECKOUT_CARD</th>\n",
       "      <th>payment_PAYPAL_EXPRESS</th>\n",
       "      <th>payment_CHECKOUT_APPLE</th>\n",
       "      <th>payment_CHECKOUT_BANCONTACT</th>\n",
       "      <th>payment_BANK_TRANSFER</th>\n",
       "      <th>payment_CASH</th>\n",
       "      <th>payment_CSOB_CARD</th>\n",
       "      <th>payment_INVOICE_HUF</th>\n",
       "      <th>payment_PAYPAL_IDEALO</th>\n",
       "    </tr>\n",
       "  </thead>\n",
       "  <tbody>\n",
       "    <tr>\n",
       "      <th>0</th>\n",
       "      <td>1900079010</td>\n",
       "      <td>2019-06-01</td>\n",
       "      <td>Czech Republic</td>\n",
       "      <td>3</td>\n",
       "      <td>0.0</td>\n",
       "      <td>265.52</td>\n",
       "      <td>109.79</td>\n",
       "      <td>5</td>\n",
       "      <td>6</td>\n",
       "      <td>2019</td>\n",
       "      <td>...</td>\n",
       "      <td>0</td>\n",
       "      <td>0</td>\n",
       "      <td>0</td>\n",
       "      <td>0</td>\n",
       "      <td>0</td>\n",
       "      <td>0</td>\n",
       "      <td>0</td>\n",
       "      <td>0</td>\n",
       "      <td>0</td>\n",
       "      <td>0</td>\n",
       "    </tr>\n",
       "    <tr>\n",
       "      <th>1</th>\n",
       "      <td>1900079006</td>\n",
       "      <td>2019-06-01</td>\n",
       "      <td>Czech Republic</td>\n",
       "      <td>5</td>\n",
       "      <td>0.0</td>\n",
       "      <td>80.66</td>\n",
       "      <td>34.23</td>\n",
       "      <td>5</td>\n",
       "      <td>6</td>\n",
       "      <td>2019</td>\n",
       "      <td>...</td>\n",
       "      <td>0</td>\n",
       "      <td>0</td>\n",
       "      <td>0</td>\n",
       "      <td>0</td>\n",
       "      <td>0</td>\n",
       "      <td>0</td>\n",
       "      <td>0</td>\n",
       "      <td>0</td>\n",
       "      <td>0</td>\n",
       "      <td>0</td>\n",
       "    </tr>\n",
       "    <tr>\n",
       "      <th>2</th>\n",
       "      <td>1900080490</td>\n",
       "      <td>2019-06-01</td>\n",
       "      <td>Czech Republic</td>\n",
       "      <td>2</td>\n",
       "      <td>0.0</td>\n",
       "      <td>228.33</td>\n",
       "      <td>53.25</td>\n",
       "      <td>5</td>\n",
       "      <td>6</td>\n",
       "      <td>2019</td>\n",
       "      <td>...</td>\n",
       "      <td>1</td>\n",
       "      <td>0</td>\n",
       "      <td>0</td>\n",
       "      <td>0</td>\n",
       "      <td>0</td>\n",
       "      <td>0</td>\n",
       "      <td>0</td>\n",
       "      <td>0</td>\n",
       "      <td>0</td>\n",
       "      <td>0</td>\n",
       "    </tr>\n",
       "    <tr>\n",
       "      <th>3</th>\n",
       "      <td>1900078998</td>\n",
       "      <td>2019-06-01</td>\n",
       "      <td>Czech Republic</td>\n",
       "      <td>2</td>\n",
       "      <td>0.0</td>\n",
       "      <td>23.38</td>\n",
       "      <td>11.60</td>\n",
       "      <td>5</td>\n",
       "      <td>6</td>\n",
       "      <td>2019</td>\n",
       "      <td>...</td>\n",
       "      <td>1</td>\n",
       "      <td>0</td>\n",
       "      <td>0</td>\n",
       "      <td>0</td>\n",
       "      <td>0</td>\n",
       "      <td>0</td>\n",
       "      <td>0</td>\n",
       "      <td>0</td>\n",
       "      <td>0</td>\n",
       "      <td>0</td>\n",
       "    </tr>\n",
       "    <tr>\n",
       "      <th>4</th>\n",
       "      <td>1900078996</td>\n",
       "      <td>2019-06-01</td>\n",
       "      <td>Slovakia</td>\n",
       "      <td>1</td>\n",
       "      <td>0.0</td>\n",
       "      <td>45.20</td>\n",
       "      <td>17.17</td>\n",
       "      <td>5</td>\n",
       "      <td>6</td>\n",
       "      <td>2019</td>\n",
       "      <td>...</td>\n",
       "      <td>0</td>\n",
       "      <td>0</td>\n",
       "      <td>0</td>\n",
       "      <td>0</td>\n",
       "      <td>0</td>\n",
       "      <td>0</td>\n",
       "      <td>0</td>\n",
       "      <td>0</td>\n",
       "      <td>0</td>\n",
       "      <td>0</td>\n",
       "    </tr>\n",
       "  </tbody>\n",
       "</table>\n",
       "<p>5 rows × 58 columns</p>\n",
       "</div>"
      ],
      "text/plain": [
       "     order_id        date         country  quantity  gift_quantity  \\\n",
       "0  1900079010  2019-06-01  Czech Republic         3            0.0   \n",
       "1  1900079006  2019-06-01  Czech Republic         5            0.0   \n",
       "2  1900080490  2019-06-01  Czech Republic         2            0.0   \n",
       "3  1900078998  2019-06-01  Czech Republic         2            0.0   \n",
       "4  1900078996  2019-06-01        Slovakia         1            0.0   \n",
       "\n",
       "   gross_revenue  profit  day_of_week_x  month_of_year_x  year_x  ...  \\\n",
       "0         265.52  109.79              5                6    2019  ...   \n",
       "1          80.66   34.23              5                6    2019  ...   \n",
       "2         228.33   53.25              5                6    2019  ...   \n",
       "3          23.38   11.60              5                6    2019  ...   \n",
       "4          45.20   17.17              5                6    2019  ...   \n",
       "\n",
       "   payment_CARD_CSOB  payment_CHECKOUT_CARD  payment_PAYPAL_EXPRESS  \\\n",
       "0                  0                      0                       0   \n",
       "1                  0                      0                       0   \n",
       "2                  1                      0                       0   \n",
       "3                  1                      0                       0   \n",
       "4                  0                      0                       0   \n",
       "\n",
       "   payment_CHECKOUT_APPLE  payment_CHECKOUT_BANCONTACT  payment_BANK_TRANSFER  \\\n",
       "0                       0                            0                      0   \n",
       "1                       0                            0                      0   \n",
       "2                       0                            0                      0   \n",
       "3                       0                            0                      0   \n",
       "4                       0                            0                      0   \n",
       "\n",
       "   payment_CASH  payment_CSOB_CARD  payment_INVOICE_HUF  payment_PAYPAL_IDEALO  \n",
       "0             0                  0                    0                      0  \n",
       "1             0                  0                    0                      0  \n",
       "2             0                  0                    0                      0  \n",
       "3             0                  0                    0                      0  \n",
       "4             0                  0                    0                      0  \n",
       "\n",
       "[5 rows x 58 columns]"
      ]
     },
     "execution_count": 5,
     "metadata": {},
     "output_type": "execute_result"
    }
   ],
   "source": [
    "# Assuming your DataFrame is named 'df'\n",
    "df1 = df.round(2)\n",
    "\n",
    "# If you want to round specific columns, you can do it like this:\n",
    "columns_to_round = ['gross_revenue','profit','average_orders_per_day','avg_sales_country_product_day','average_products_per_day']\n",
    "df1 = df.copy()\n",
    "for col in columns_to_round:\n",
    "    df1[col] = df[col].round(2)\n",
    "\n",
    "df1.head()"
   ]
  },
  {
   "cell_type": "code",
   "execution_count": null,
   "id": "fd8e765f-3dd2-4e14-a806-5dd35d557620",
   "metadata": {
    "id": "fd8e765f-3dd2-4e14-a806-5dd35d557620"
   },
   "outputs": [],
   "source": []
  },
  {
   "cell_type": "code",
   "execution_count": 6,
   "id": "5bf82376-5827-41ec-811b-b0440eb4871b",
   "metadata": {
    "id": "5bf82376-5827-41ec-811b-b0440eb4871b",
    "tags": []
   },
   "outputs": [],
   "source": [
    "def encode_cyclical(df1, col, max_val):\n",
    "    df1[col + '_sin'] = np.sin(2 * np.pi * df[col]/max_val)\n",
    "    df1[col + '_cos'] = np.cos(2 * np.pi * df[col]/max_val)\n",
    "    return df1\n",
    "\n",
    "# Encode date-related features as cyclical features\n",
    "df1 = encode_cyclical(df, 'day_of_week_x', 6)\n",
    "df1 = encode_cyclical(df, 'month_of_year_x', 11)\n",
    "df1 = encode_cyclical(df, 'hour_of_day', 23)\n",
    "df1 = encode_cyclical(df, 'week_of_year_x', 52)\n",
    "\n",
    "# Drop the original date-related features\n",
    "df1 = df1.drop(['day_of_week_x', 'month_of_year_x', 'hour_of_day', 'year_x', 'week_of_year_x'], axis=1)"
   ]
  },
  {
   "cell_type": "code",
   "execution_count": 7,
   "id": "da17a1fc-f778-4d96-944e-996bf4f8961c",
   "metadata": {
    "id": "da17a1fc-f778-4d96-944e-996bf4f8961c",
    "tags": []
   },
   "outputs": [],
   "source": [
    "# Define the features (X) and the target variable (y)\n",
    "X = df1.drop(columns=['date','total_products','total_orders','gross_revenue','profit','order_id','average_products_per_day','avg_sales_country_product_day'])\n",
    "y = df1['gross_revenue']"
   ]
  },
  {
   "cell_type": "code",
   "execution_count": 8,
   "id": "04b859b3-e5e1-4475-9a22-20b55b73898b",
   "metadata": {
    "id": "04b859b3-e5e1-4475-9a22-20b55b73898b",
    "tags": []
   },
   "outputs": [],
   "source": [
    "# Split the data into training and testing sets\n",
    "X_train, X_test, y_train, y_test = train_test_split(X, y, test_size=0.2, random_state=42)"
   ]
  },
  {
   "cell_type": "code",
   "execution_count": 9,
   "id": "958a7218-9e60-4ff0-8e86-3e7782655d4b",
   "metadata": {
    "id": "958a7218-9e60-4ff0-8e86-3e7782655d4b",
    "tags": []
   },
   "outputs": [],
   "source": [
    "# Define the lists of numeric, categorical, binary, and cyclical features\n",
    "numeric_features = ['quantity','average_orders_per_day','price_difference']\n",
    "categorical_features = ['country','gift_quantity'] \n",
    "binary_features = ['morning', 'afternoon', 'evening']\n",
    "cyclical_features = ['day_of_week_x_sin','day_of_week_x_cos','month_of_year_x_sin',\n",
    "                     'month_of_year_x_cos','hour_of_day_sin','hour_of_day_cos','week_of_year_x_sin',\n",
    "                     'week_of_year_x_cos']"
   ]
  },
  {
   "cell_type": "code",
   "execution_count": 10,
   "id": "7e167c1d-29b6-4c73-b3a3-4754be60c37c",
   "metadata": {
    "id": "7e167c1d-29b6-4c73-b3a3-4754be60c37c",
    "tags": []
   },
   "outputs": [],
   "source": [
    "# Create transformers for numeric, categorical, binary, and cyclical features\n",
    "numeric_transformer = StandardScaler()\n",
    "categorical_transformer = OneHotEncoder(handle_unknown='ignore')\n",
    "binary_transformer = 'passthrough'\n",
    "\n",
    "# Create a column transformer that applies the appropriate transformations to each feature subset\n",
    "preprocessor = ColumnTransformer(\n",
    "    transformers=[\n",
    "        ('num', numeric_transformer, numeric_features),\n",
    "        ('cat', categorical_transformer, categorical_features),\n",
    "        ('bin', binary_transformer, binary_features),\n",
    "        ('cyc', 'passthrough', cyclical_features)])"
   ]
  },
  {
   "cell_type": "code",
   "execution_count": 11,
   "id": "29efb1c5-9531-4835-ae6d-e0218f3c1364",
   "metadata": {
    "id": "29efb1c5-9531-4835-ae6d-e0218f3c1364",
    "tags": []
   },
   "outputs": [],
   "source": [
    "# Create a baseline model (mean of the target variable)\n",
    "y_baseline = np.mean(y_train)"
   ]
  },
  {
   "cell_type": "code",
   "execution_count": null,
   "id": "c5115dc9-149e-42c6-a64a-4612a6f55605",
   "metadata": {
    "id": "c5115dc9-149e-42c6-a64a-4612a6f55605"
   },
   "outputs": [],
   "source": []
  },
  {
   "cell_type": "markdown",
   "id": "40ae7a5e-0465-4ff5-9afd-946841374d67",
   "metadata": {
    "id": "40ae7a5e-0465-4ff5-9afd-946841374d67"
   },
   "source": [
    "- Linear Regression Model"
   ]
  },
  {
   "cell_type": "code",
   "execution_count": 13,
   "id": "cc51231e-c6d0-489f-962f-bcecc7fab133",
   "metadata": {
    "id": "cc51231e-c6d0-489f-962f-bcecc7fab133",
    "outputId": "b363c9b7-3218-47e5-de30-063d36fae865",
    "tags": []
   },
   "outputs": [
    {
     "name": "stdout",
     "output_type": "stream",
     "text": [
      "Linear Regression Mean Squared Error: 2813.9813428136226\n",
      "Baseline Model Mean Squared Error: 3481.813810487228\n"
     ]
    }
   ],
   "source": [
    "# Create a pipeline with the preprocessor and the linear regression model\n",
    "lr_pipeline = Pipeline(steps=[('preprocessor', preprocessor),\n",
    "                              ('regressor', LinearRegression())])\n",
    "\n",
    "# Train and evaluate the models\n",
    "pipelines = [lr_pipeline]\n",
    "model_names = ['Linear Regression']\n",
    "\n",
    "for pipeline, model_name in zip(pipelines, model_names):\n",
    "    # Train the model\n",
    "    pipeline.fit(X_train, y_train)\n",
    "    \n",
    "    # Evaluate the model\n",
    "    y_pred = lr_pipeline.predict(X_test)\n",
    "    mse = mean_squared_error(y_test, y_pred)\n",
    "    print(f\"{model_name} Mean Squared Error: {mse}\")\n",
    "\n",
    "# Calculate the mean squared error for the baseline model\n",
    "mse_baseline = mean_squared_error(y_test, [y_baseline] * len(y_test))\n",
    "print(f\"Baseline Model Mean Squared Error: {mse_baseline}\") \n"
   ]
  },
  {
   "cell_type": "code",
   "execution_count": 14,
   "id": "56939bf7-93eb-4437-b29c-370f84dbb59b",
   "metadata": {
    "id": "56939bf7-93eb-4437-b29c-370f84dbb59b",
    "outputId": "9f6ddcf2-3031-4478-9b62-a8aad7bbd728",
    "tags": []
   },
   "outputs": [
    {
     "name": "stdout",
     "output_type": "stream",
     "text": [
      "Linear Regression:\n",
      "MAE: 35.35\n",
      "MSE: 2813.98\n",
      "RMSE: 53.05\n",
      "R2:0.19\n"
     ]
    }
   ],
   "source": [
    "mae_lr = mean_absolute_error(y_test, y_pred)\n",
    "mse_lr = mean_squared_error(y_test, y_pred)\n",
    "rmse_lr = np.sqrt(mse_lr)\n",
    "r2_lr = r2_score(y_test, y_pred)\n",
    "print(\"Linear Regression:\")\n",
    "print(f\"MAE: {mae_lr:.2f}\")\n",
    "print(f\"MSE: {mse_lr:.2f}\")\n",
    "print(f\"RMSE: {rmse_lr:.2f}\")\n",
    "print(f\"R2:{r2_lr:.2f}\")"
   ]
  },
  {
   "cell_type": "code",
   "execution_count": 15,
   "id": "ae9fe7a4-0ef9-4fe8-9fa1-bedf138004f2",
   "metadata": {
    "id": "ae9fe7a4-0ef9-4fe8-9fa1-bedf138004f2",
    "outputId": "d2e313ff-481b-45ae-affc-3df85d56d1b0",
    "tags": []
   },
   "outputs": [
    {
     "name": "stdout",
     "output_type": "stream",
     "text": [
      "Coefficients:\n",
      "                        feature   coefficient\n",
      "26       cat__gift_quantity_2.0  1.177153e+12\n",
      "25       cat__gift_quantity_1.0  1.177153e+12\n",
      "27       cat__gift_quantity_3.0  1.177153e+12\n",
      "24       cat__gift_quantity_0.0  1.177153e+12\n",
      "23  cat__country_United Kingdom  3.350567e+10\n",
      "5         cat__country_Bulgaria  3.350567e+10\n",
      "3          cat__country_Austria  3.350567e+10\n",
      "22          cat__country_Sweden  3.350567e+10\n",
      "9          cat__country_Finland  3.350567e+10\n",
      "11         cat__country_Germany  3.350567e+10\n",
      "20        cat__country_Slovenia  3.350567e+10\n",
      "8          cat__country_Denmark  3.350567e+10\n",
      "10          cat__country_France  3.350567e+10\n",
      "15     cat__country_Netherlands  3.350567e+10\n",
      "4          cat__country_Belgium  3.350567e+10\n",
      "13         cat__country_Ireland  3.350567e+10\n",
      "21           cat__country_Spain  3.350567e+10\n",
      "14           cat__country_Italy  3.350567e+10\n",
      "17        cat__country_Portugal  3.350567e+10\n",
      "6          cat__country_Croatia  3.350567e+10\n",
      "7   cat__country_Czech Republic  3.350567e+10\n",
      "16          cat__country_Poland  3.350567e+10\n",
      "19        cat__country_Slovakia  3.350567e+10\n",
      "18         cat__country_Romania  3.350567e+10\n",
      "12         cat__country_Hungary  3.350567e+10\n",
      "1   num__average_orders_per_day -1.665200e+10\n",
      "2         num__price_difference -1.784884e+01\n",
      "0                 num__quantity  1.624991e+01\n",
      "37      cyc__week_of_year_x_sin  1.360983e+01\n",
      "33     cyc__month_of_year_x_sin -1.099007e+01\n",
      "34     cyc__month_of_year_x_cos  7.298795e+00\n",
      "38      cyc__week_of_year_x_cos -6.418516e+00\n",
      "30                 bin__evening -1.155420e+00\n",
      "29               bin__afternoon -1.083846e+00\n",
      "35         cyc__hour_of_day_sin -1.000643e+00\n",
      "36         cyc__hour_of_day_cos -6.698412e-01\n",
      "32       cyc__day_of_week_x_cos -4.878418e-01\n",
      "31       cyc__day_of_week_x_sin -2.756162e-02\n",
      "28                 bin__morning -1.857773e-02\n"
     ]
    }
   ],
   "source": [
    "# Get the Linear Regression model from the pipeline\n",
    "lr_model = lr_pipeline.named_steps['regressor']\n",
    "\n",
    "# Get the coefficients\n",
    "coefficients = lr_model.coef_\n",
    "\n",
    "# Get the preprocessor from the pipeline\n",
    "preprocessor = lr_pipeline.named_steps['preprocessor']\n",
    "\n",
    "# Transform the training data using the preprocessor\n",
    "X_train_transformed = preprocessor.transform(X_train)\n",
    "\n",
    "# Get the feature names after preprocessing\n",
    "# This line assumes that the preprocessor is a ColumnTransformer\n",
    "feature_names = preprocessor.get_feature_names_out()\n",
    "\n",
    "# Create a DataFrame with feature names and their coefficients\n",
    "coef_df = pd.DataFrame({'feature': feature_names, 'coefficient': coefficients})\n",
    "\n",
    "# Sort the DataFrame by the absolute value of coefficients (descending order)\n",
    "coef_df['abs_coefficient'] = coef_df['coefficient'].abs()\n",
    "coef_df = coef_df.sort_values(by='abs_coefficient', ascending=False).drop(columns=['abs_coefficient'])\n",
    "\n",
    "# Display the coefficients\n",
    "print(\"Coefficients:\")\n",
    "print(coef_df)"
   ]
  },
  {
   "cell_type": "code",
   "execution_count": null,
   "id": "87cfa1da-8ac3-4514-ac6e-0c0a41f9ac7e",
   "metadata": {
    "id": "87cfa1da-8ac3-4514-ac6e-0c0a41f9ac7e"
   },
   "outputs": [],
   "source": []
  },
  {
   "cell_type": "code",
   "execution_count": null,
   "id": "8367a079-d871-4369-8276-7c7d87ab3e5b",
   "metadata": {
    "id": "8367a079-d871-4369-8276-7c7d87ab3e5b"
   },
   "outputs": [],
   "source": []
  },
  {
   "cell_type": "markdown",
   "id": "42d2c74b-6667-413e-8f0e-f22b4af9044d",
   "metadata": {
    "id": "42d2c74b-6667-413e-8f0e-f22b4af9044d"
   },
   "source": [
    "- XGBoost Model"
   ]
  },
  {
   "cell_type": "code",
   "execution_count": 16,
   "id": "b2c55c75-b0ec-45d3-931b-aa21c01c99b2",
   "metadata": {
    "id": "b2c55c75-b0ec-45d3-931b-aa21c01c99b2",
    "outputId": "ed261824-364c-4775-80cd-0e3397dd9de7",
    "tags": []
   },
   "outputs": [
    {
     "name": "stdout",
     "output_type": "stream",
     "text": [
      "Baseline Model Mean Squared Error: 3481.813810487228\n"
     ]
    }
   ],
   "source": [
    "# Create a pipeline for the XGBoost model\n",
    "xgb_pipeline = Pipeline(steps=[('preprocessor', preprocessor),\n",
    "                               ('regressor', XGBRegressor(n_jobs=-1, random_state=42))])\n",
    "\n",
    "# Train and evaluate the models\n",
    "pipelines = [xgb_pipeline]\n",
    "model_names = ['xgboost']\n",
    "\n",
    "# Train and evaluate the models\n",
    "for pipeline, model_name in zip(pipelines, model_names):\n",
    "    # Train the model\n",
    "    pipeline.fit(X_train, y_train)\n",
    "    \n",
    "    # Evaluate the model\n",
    "    y_pred_xg = xgb_pipeline.predict(X_test)\n",
    "\n",
    "# Calculate the mean squared error for the baseline model\n",
    "y_baseline = y_train.mean()\n",
    "mse_baseline = mean_squared_error(y_test, [y_baseline] * len(y_test))\n",
    "print(f\"Baseline Model Mean Squared Error: {mse_baseline}\")\n"
   ]
  },
  {
   "cell_type": "code",
   "execution_count": 17,
   "id": "92b81feb-4177-4f19-ae10-6e96de274bbf",
   "metadata": {
    "id": "92b81feb-4177-4f19-ae10-6e96de274bbf",
    "outputId": "f175719d-6cd4-4eb2-bb65-75a4821088c1",
    "tags": []
   },
   "outputs": [
    {
     "name": "stdout",
     "output_type": "stream",
     "text": [
      "XGBoost :\n",
      "MAE: 28.64\n",
      "MSE: 2142.73\n",
      "RMSE: 46.29\n",
      "R2:0.38\n"
     ]
    }
   ],
   "source": [
    "# Evaluate the model\n",
    "y_pred_xg = xgb_pipeline.predict(X_test)\n",
    "mae_xg = mean_absolute_error(y_test, y_pred_xg)\n",
    "mse_xg = mean_squared_error(y_test, y_pred_xg)\n",
    "rmse_xg = np.sqrt(mse_xg)\n",
    "r2_xg = r2_score(y_test, y_pred_xg)\n",
    "print(\"XGBoost :\")\n",
    "print(f\"MAE: {mae_xg:.2f}\")\n",
    "print(f\"MSE: {mse_xg:.2f}\")\n",
    "print(f\"RMSE: {rmse_xg:.2f}\")\n",
    "print(f\"R2:{r2_xg:.2f}\")"
   ]
  },
  {
   "cell_type": "markdown",
   "id": "d7c1e0a0-9db1-421d-b68c-f9da13e3cade",
   "metadata": {
    "id": "d7c1e0a0-9db1-421d-b68c-f9da13e3cade"
   },
   "source": [
    "- Tuning the model"
   ]
  },
  {
   "cell_type": "code",
   "execution_count": 18,
   "id": "0eb6060c-7d6f-4d80-9552-b5b47f54e5cc",
   "metadata": {
    "id": "0eb6060c-7d6f-4d80-9552-b5b47f54e5cc",
    "tags": []
   },
   "outputs": [],
   "source": [
    "xgb_param_grid = {\n",
    "    'regressor__n_estimators': [100, 200, 300,400],\n",
    "    'regressor__learning_rate': [0.01, 0.1, 0.2],\n",
    "    'regressor__max_depth': [3, 6, 9],\n",
    "    'regressor__gamma': [0, 0.1, 0.2]\n",
    "}"
   ]
  },
  {
   "cell_type": "code",
   "execution_count": 19,
   "id": "8c734afd-33f1-4fab-8650-2b08708c37f1",
   "metadata": {
    "id": "8c734afd-33f1-4fab-8650-2b08708c37f1",
    "tags": []
   },
   "outputs": [],
   "source": [
    "xgb_grid_search = GridSearchCV(xgb_pipeline, xgb_param_grid, scoring='neg_mean_squared_error',\n",
    "                               cv=3, n_jobs=-1, verbose=2)\n"
   ]
  },
  {
   "cell_type": "code",
   "execution_count": 20,
   "id": "5cad5d29-41a3-4032-8823-ad66bd637fbc",
   "metadata": {
    "id": "5cad5d29-41a3-4032-8823-ad66bd637fbc",
    "outputId": "bd8a10a0-aefa-46d7-eb51-645f7bda78d4",
    "tags": []
   },
   "outputs": [
    {
     "name": "stdout",
     "output_type": "stream",
     "text": [
      "Fitting 3 folds for each of 36 candidates, totalling 108 fits\n",
      "[CV] END regressor__learning_rate=0.01, regressor__max_depth=3, regressor__n_estimators=100; total time=  48.1s\n",
      "[CV] END regressor__learning_rate=0.01, regressor__max_depth=3, regressor__n_estimators=400; total time= 3.4min\n",
      "[CV] END regressor__learning_rate=0.01, regressor__max_depth=6, regressor__n_estimators=400; total time= 8.0min\n",
      "[CV] END regressor__learning_rate=0.01, regressor__max_depth=9, regressor__n_estimators=300; total time=10.3min\n",
      "[CV] END regressor__learning_rate=0.1, regressor__max_depth=3, regressor__n_estimators=400; total time= 4.0min\n",
      "[CV] END regressor__learning_rate=0.1, regressor__max_depth=6, regressor__n_estimators=200; total time= 4.2min\n",
      "[CV] END regressor__learning_rate=0.1, regressor__max_depth=6, regressor__n_estimators=400; total time= 8.7min\n",
      "[CV] END regressor__learning_rate=0.1, regressor__max_depth=9, regressor__n_estimators=400; total time=14.0min\n",
      "[CV] END regressor__learning_rate=0.2, regressor__max_depth=6, regressor__n_estimators=300; total time= 7.0min\n",
      "[CV] END regressor__learning_rate=0.2, regressor__max_depth=9, regressor__n_estimators=200; total time= 7.1min\n",
      "[CV] END regressor__learning_rate=0.01, regressor__max_depth=3, regressor__n_estimators=100; total time=  47.0s\n",
      "[CV] END regressor__learning_rate=0.01, regressor__max_depth=3, regressor__n_estimators=300; total time= 2.5min\n",
      "[CV] END regressor__learning_rate=0.01, regressor__max_depth=6, regressor__n_estimators=200; total time= 3.7min\n",
      "[CV] END regressor__learning_rate=0.01, regressor__max_depth=9, regressor__n_estimators=100; total time= 3.3min\n",
      "[CV] END regressor__learning_rate=0.01, regressor__max_depth=9, regressor__n_estimators=200; total time= 6.9min\n",
      "[CV] END regressor__learning_rate=0.1, regressor__max_depth=3, regressor__n_estimators=100; total time= 1.1min\n",
      "[CV] END regressor__learning_rate=0.1, regressor__max_depth=3, regressor__n_estimators=200; total time= 2.1min\n",
      "[CV] END regressor__learning_rate=0.1, regressor__max_depth=3, regressor__n_estimators=200; total time= 2.1min\n",
      "[CV] END regressor__learning_rate=0.1, regressor__max_depth=3, regressor__n_estimators=300; total time= 3.0min\n",
      "[CV] END regressor__learning_rate=0.1, regressor__max_depth=6, regressor__n_estimators=100; total time= 2.0min\n",
      "[CV] END regressor__learning_rate=0.1, regressor__max_depth=6, regressor__n_estimators=300; total time= 6.4min\n",
      "[CV] END regressor__learning_rate=0.1, regressor__max_depth=9, regressor__n_estimators=100; total time= 3.5min\n",
      "[CV] END regressor__learning_rate=0.1, regressor__max_depth=9, regressor__n_estimators=300; total time=10.7min\n",
      "[CV] END regressor__learning_rate=0.2, regressor__max_depth=3, regressor__n_estimators=400; total time= 4.4min\n",
      "[CV] END regressor__learning_rate=0.2, regressor__max_depth=6, regressor__n_estimators=200; total time= 4.5min\n",
      "[CV] END regressor__learning_rate=0.2, regressor__max_depth=9, regressor__n_estimators=100; total time= 3.7min\n",
      "[CV] END regressor__learning_rate=0.2, regressor__max_depth=9, regressor__n_estimators=200; total time= 7.2min\n",
      "[CV] END regressor__learning_rate=0.01, regressor__max_depth=3, regressor__n_estimators=200; total time= 1.6min\n",
      "[CV] END regressor__learning_rate=0.01, regressor__max_depth=6, regressor__n_estimators=100; total time= 1.7min\n",
      "[CV] END regressor__learning_rate=0.01, regressor__max_depth=6, regressor__n_estimators=200; total time= 3.8min\n",
      "[CV] END regressor__learning_rate=0.01, regressor__max_depth=9, regressor__n_estimators=100; total time= 3.2min\n",
      "[CV] END regressor__learning_rate=0.01, regressor__max_depth=9, regressor__n_estimators=300; total time=10.5min\n",
      "[CV] END regressor__learning_rate=0.1, regressor__max_depth=3, regressor__n_estimators=300; total time= 3.0min\n",
      "[CV] END regressor__learning_rate=0.1, regressor__max_depth=3, regressor__n_estimators=400; total time= 4.1min\n",
      "[CV] END regressor__learning_rate=0.1, regressor__max_depth=6, regressor__n_estimators=300; total time= 6.4min\n",
      "[CV] END regressor__learning_rate=0.1, regressor__max_depth=9, regressor__n_estimators=200; total time= 6.9min\n",
      "[CV] END regressor__learning_rate=0.2, regressor__max_depth=3, regressor__n_estimators=100; total time= 1.1min\n",
      "[CV] END regressor__learning_rate=0.2, regressor__max_depth=3, regressor__n_estimators=200; total time= 2.3min\n",
      "[CV] END regressor__learning_rate=0.2, regressor__max_depth=3, regressor__n_estimators=200; total time= 2.5min\n",
      "[CV] END regressor__learning_rate=0.2, regressor__max_depth=3, regressor__n_estimators=300; total time= 3.4min\n",
      "[CV] END regressor__learning_rate=0.2, regressor__max_depth=6, regressor__n_estimators=100; total time= 2.2min\n",
      "[CV] END regressor__learning_rate=0.2, regressor__max_depth=6, regressor__n_estimators=200; total time= 4.7min\n",
      "[CV] END regressor__learning_rate=0.2, regressor__max_depth=9, regressor__n_estimators=100; total time= 3.6min\n",
      "[CV] END regressor__learning_rate=0.2, regressor__max_depth=9, regressor__n_estimators=300; total time=10.2min\n",
      "[CV] END regressor__learning_rate=0.01, regressor__max_depth=3, regressor__n_estimators=200; total time= 1.6min\n",
      "[CV] END regressor__learning_rate=0.01, regressor__max_depth=3, regressor__n_estimators=400; total time= 3.5min\n",
      "[CV] END regressor__learning_rate=0.01, regressor__max_depth=6, regressor__n_estimators=400; total time= 8.0min\n",
      "[CV] END regressor__learning_rate=0.01, regressor__max_depth=9, regressor__n_estimators=400; total time=13.7min\n",
      "[CV] END regressor__learning_rate=0.1, regressor__max_depth=6, regressor__n_estimators=200; total time= 4.1min\n",
      "[CV] END regressor__learning_rate=0.1, regressor__max_depth=9, regressor__n_estimators=100; total time= 3.5min\n",
      "[CV] END regressor__learning_rate=0.1, regressor__max_depth=9, regressor__n_estimators=200; total time= 6.8min\n",
      "[CV] END regressor__learning_rate=0.2, regressor__max_depth=3, regressor__n_estimators=100; total time= 1.1min\n",
      "[CV] END regressor__learning_rate=0.2, regressor__max_depth=3, regressor__n_estimators=100; total time= 1.1min\n",
      "[CV] END regressor__learning_rate=0.2, regressor__max_depth=3, regressor__n_estimators=200; total time= 2.4min\n",
      "[CV] END regressor__learning_rate=0.2, regressor__max_depth=3, regressor__n_estimators=300; total time= 3.4min\n",
      "[CV] END regressor__learning_rate=0.2, regressor__max_depth=6, regressor__n_estimators=100; total time= 2.3min\n",
      "[CV] END regressor__learning_rate=0.2, regressor__max_depth=6, regressor__n_estimators=100; total time= 2.3min\n",
      "[CV] END regressor__learning_rate=0.2, regressor__max_depth=6, regressor__n_estimators=400; total time= 9.3min\n",
      "[CV] END regressor__learning_rate=0.2, regressor__max_depth=9, regressor__n_estimators=300; total time= 9.5min\n",
      "[CV] END regressor__learning_rate=0.01, regressor__max_depth=3, regressor__n_estimators=200; total time= 1.6min\n",
      "[CV] END regressor__learning_rate=0.01, regressor__max_depth=6, regressor__n_estimators=100; total time= 1.7min\n",
      "[CV] END regressor__learning_rate=0.01, regressor__max_depth=6, regressor__n_estimators=300; total time= 5.9min\n",
      "[CV] END regressor__learning_rate=0.01, regressor__max_depth=9, regressor__n_estimators=100; total time= 3.3min\n",
      "[CV] END regressor__learning_rate=0.01, regressor__max_depth=9, regressor__n_estimators=300; total time=10.4min\n",
      "[CV] END regressor__learning_rate=0.1, regressor__max_depth=3, regressor__n_estimators=400; total time= 3.9min\n",
      "[CV] END regressor__learning_rate=0.1, regressor__max_depth=6, regressor__n_estimators=200; total time= 4.2min\n",
      "[CV] END regressor__learning_rate=0.1, regressor__max_depth=9, regressor__n_estimators=100; total time= 3.4min\n",
      "[CV] END regressor__learning_rate=0.1, regressor__max_depth=9, regressor__n_estimators=300; total time=10.4min\n",
      "[CV] END regressor__learning_rate=0.2, regressor__max_depth=3, regressor__n_estimators=300; total time= 3.6min\n",
      "[CV] END regressor__learning_rate=0.2, regressor__max_depth=3, regressor__n_estimators=400; total time= 4.5min\n",
      "[CV] END regressor__learning_rate=0.2, regressor__max_depth=6, regressor__n_estimators=300; total time= 7.0min\n",
      "[CV] END regressor__learning_rate=0.2, regressor__max_depth=9, regressor__n_estimators=100; total time= 3.7min\n",
      "[CV] END regressor__learning_rate=0.2, regressor__max_depth=9, regressor__n_estimators=300; total time= 9.4min\n"
     ]
    },
    {
     "data": {
      "text/html": [
       "<style>#sk-container-id-1 {color: black;background-color: white;}#sk-container-id-1 pre{padding: 0;}#sk-container-id-1 div.sk-toggleable {background-color: white;}#sk-container-id-1 label.sk-toggleable__label {cursor: pointer;display: block;width: 100%;margin-bottom: 0;padding: 0.3em;box-sizing: border-box;text-align: center;}#sk-container-id-1 label.sk-toggleable__label-arrow:before {content: \"▸\";float: left;margin-right: 0.25em;color: #696969;}#sk-container-id-1 label.sk-toggleable__label-arrow:hover:before {color: black;}#sk-container-id-1 div.sk-estimator:hover label.sk-toggleable__label-arrow:before {color: black;}#sk-container-id-1 div.sk-toggleable__content {max-height: 0;max-width: 0;overflow: hidden;text-align: left;background-color: #f0f8ff;}#sk-container-id-1 div.sk-toggleable__content pre {margin: 0.2em;color: black;border-radius: 0.25em;background-color: #f0f8ff;}#sk-container-id-1 input.sk-toggleable__control:checked~div.sk-toggleable__content {max-height: 200px;max-width: 100%;overflow: auto;}#sk-container-id-1 input.sk-toggleable__control:checked~label.sk-toggleable__label-arrow:before {content: \"▾\";}#sk-container-id-1 div.sk-estimator input.sk-toggleable__control:checked~label.sk-toggleable__label {background-color: #d4ebff;}#sk-container-id-1 div.sk-label input.sk-toggleable__control:checked~label.sk-toggleable__label {background-color: #d4ebff;}#sk-container-id-1 input.sk-hidden--visually {border: 0;clip: rect(1px 1px 1px 1px);clip: rect(1px, 1px, 1px, 1px);height: 1px;margin: -1px;overflow: hidden;padding: 0;position: absolute;width: 1px;}#sk-container-id-1 div.sk-estimator {font-family: monospace;background-color: #f0f8ff;border: 1px dotted black;border-radius: 0.25em;box-sizing: border-box;margin-bottom: 0.5em;}#sk-container-id-1 div.sk-estimator:hover {background-color: #d4ebff;}#sk-container-id-1 div.sk-parallel-item::after {content: \"\";width: 100%;border-bottom: 1px solid gray;flex-grow: 1;}#sk-container-id-1 div.sk-label:hover label.sk-toggleable__label {background-color: #d4ebff;}#sk-container-id-1 div.sk-serial::before {content: \"\";position: absolute;border-left: 1px solid gray;box-sizing: border-box;top: 0;bottom: 0;left: 50%;z-index: 0;}#sk-container-id-1 div.sk-serial {display: flex;flex-direction: column;align-items: center;background-color: white;padding-right: 0.2em;padding-left: 0.2em;position: relative;}#sk-container-id-1 div.sk-item {position: relative;z-index: 1;}#sk-container-id-1 div.sk-parallel {display: flex;align-items: stretch;justify-content: center;background-color: white;position: relative;}#sk-container-id-1 div.sk-item::before, #sk-container-id-1 div.sk-parallel-item::before {content: \"\";position: absolute;border-left: 1px solid gray;box-sizing: border-box;top: 0;bottom: 0;left: 50%;z-index: -1;}#sk-container-id-1 div.sk-parallel-item {display: flex;flex-direction: column;z-index: 1;position: relative;background-color: white;}#sk-container-id-1 div.sk-parallel-item:first-child::after {align-self: flex-end;width: 50%;}#sk-container-id-1 div.sk-parallel-item:last-child::after {align-self: flex-start;width: 50%;}#sk-container-id-1 div.sk-parallel-item:only-child::after {width: 0;}#sk-container-id-1 div.sk-dashed-wrapped {border: 1px dashed gray;margin: 0 0.4em 0.5em 0.4em;box-sizing: border-box;padding-bottom: 0.4em;background-color: white;}#sk-container-id-1 div.sk-label label {font-family: monospace;font-weight: bold;display: inline-block;line-height: 1.2em;}#sk-container-id-1 div.sk-label-container {text-align: center;}#sk-container-id-1 div.sk-container {/* jupyter's `normalize.less` sets `[hidden] { display: none; }` but bootstrap.min.css set `[hidden] { display: none !important; }` so we also need the `!important` here to be able to override the default hidden behavior on the sphinx rendered scikit-learn.org. See: https://github.com/scikit-learn/scikit-learn/issues/21755 */display: inline-block !important;position: relative;}#sk-container-id-1 div.sk-text-repr-fallback {display: none;}</style><div id=\"sk-container-id-1\" class=\"sk-top-container\"><div class=\"sk-text-repr-fallback\"><pre>GridSearchCV(cv=3,\n",
       "             estimator=Pipeline(steps=[(&#x27;preprocessor&#x27;,\n",
       "                                        ColumnTransformer(transformers=[(&#x27;num&#x27;,\n",
       "                                                                         StandardScaler(),\n",
       "                                                                         [&#x27;quantity&#x27;,\n",
       "                                                                          &#x27;average_orders_per_day&#x27;,\n",
       "                                                                          &#x27;price_difference&#x27;]),\n",
       "                                                                        (&#x27;cat&#x27;,\n",
       "                                                                         OneHotEncoder(handle_unknown=&#x27;ignore&#x27;),\n",
       "                                                                         [&#x27;country&#x27;,\n",
       "                                                                          &#x27;gift_quantity&#x27;]),\n",
       "                                                                        (&#x27;bin&#x27;,\n",
       "                                                                         &#x27;passthrough&#x27;,\n",
       "                                                                         [&#x27;morning&#x27;,\n",
       "                                                                          &#x27;afternoon&#x27;,\n",
       "                                                                          &#x27;evening&#x27;]),\n",
       "                                                                        (&#x27;cyc&#x27;,\n",
       "                                                                         &#x27;passthrough&#x27;,\n",
       "                                                                         [&#x27;day_of_week_x_sin&#x27;,\n",
       "                                                                          &#x27;da...\n",
       "                                                     max_depth=None,\n",
       "                                                     max_leaves=None,\n",
       "                                                     min_child_weight=None,\n",
       "                                                     missing=nan,\n",
       "                                                     monotone_constraints=None,\n",
       "                                                     n_estimators=100,\n",
       "                                                     n_jobs=-1,\n",
       "                                                     num_parallel_tree=None,\n",
       "                                                     predictor=None,\n",
       "                                                     random_state=42, ...))]),\n",
       "             n_jobs=-1,\n",
       "             param_grid={&#x27;regressor__learning_rate&#x27;: [0.01, 0.1, 0.2],\n",
       "                         &#x27;regressor__max_depth&#x27;: [3, 6, 9],\n",
       "                         &#x27;regressor__n_estimators&#x27;: [100, 200, 300, 400]},\n",
       "             scoring=&#x27;neg_mean_squared_error&#x27;, verbose=2)</pre><b>In a Jupyter environment, please rerun this cell to show the HTML representation or trust the notebook. <br />On GitHub, the HTML representation is unable to render, please try loading this page with nbviewer.org.</b></div><div class=\"sk-container\" hidden><div class=\"sk-item sk-dashed-wrapped\"><div class=\"sk-label-container\"><div class=\"sk-label sk-toggleable\"><input class=\"sk-toggleable__control sk-hidden--visually\" id=\"sk-estimator-id-1\" type=\"checkbox\" ><label for=\"sk-estimator-id-1\" class=\"sk-toggleable__label sk-toggleable__label-arrow\">GridSearchCV</label><div class=\"sk-toggleable__content\"><pre>GridSearchCV(cv=3,\n",
       "             estimator=Pipeline(steps=[(&#x27;preprocessor&#x27;,\n",
       "                                        ColumnTransformer(transformers=[(&#x27;num&#x27;,\n",
       "                                                                         StandardScaler(),\n",
       "                                                                         [&#x27;quantity&#x27;,\n",
       "                                                                          &#x27;average_orders_per_day&#x27;,\n",
       "                                                                          &#x27;price_difference&#x27;]),\n",
       "                                                                        (&#x27;cat&#x27;,\n",
       "                                                                         OneHotEncoder(handle_unknown=&#x27;ignore&#x27;),\n",
       "                                                                         [&#x27;country&#x27;,\n",
       "                                                                          &#x27;gift_quantity&#x27;]),\n",
       "                                                                        (&#x27;bin&#x27;,\n",
       "                                                                         &#x27;passthrough&#x27;,\n",
       "                                                                         [&#x27;morning&#x27;,\n",
       "                                                                          &#x27;afternoon&#x27;,\n",
       "                                                                          &#x27;evening&#x27;]),\n",
       "                                                                        (&#x27;cyc&#x27;,\n",
       "                                                                         &#x27;passthrough&#x27;,\n",
       "                                                                         [&#x27;day_of_week_x_sin&#x27;,\n",
       "                                                                          &#x27;da...\n",
       "                                                     max_depth=None,\n",
       "                                                     max_leaves=None,\n",
       "                                                     min_child_weight=None,\n",
       "                                                     missing=nan,\n",
       "                                                     monotone_constraints=None,\n",
       "                                                     n_estimators=100,\n",
       "                                                     n_jobs=-1,\n",
       "                                                     num_parallel_tree=None,\n",
       "                                                     predictor=None,\n",
       "                                                     random_state=42, ...))]),\n",
       "             n_jobs=-1,\n",
       "             param_grid={&#x27;regressor__learning_rate&#x27;: [0.01, 0.1, 0.2],\n",
       "                         &#x27;regressor__max_depth&#x27;: [3, 6, 9],\n",
       "                         &#x27;regressor__n_estimators&#x27;: [100, 200, 300, 400]},\n",
       "             scoring=&#x27;neg_mean_squared_error&#x27;, verbose=2)</pre></div></div></div><div class=\"sk-parallel\"><div class=\"sk-parallel-item\"><div class=\"sk-item\"><div class=\"sk-label-container\"><div class=\"sk-label sk-toggleable\"><input class=\"sk-toggleable__control sk-hidden--visually\" id=\"sk-estimator-id-2\" type=\"checkbox\" ><label for=\"sk-estimator-id-2\" class=\"sk-toggleable__label sk-toggleable__label-arrow\">estimator: Pipeline</label><div class=\"sk-toggleable__content\"><pre>Pipeline(steps=[(&#x27;preprocessor&#x27;,\n",
       "                 ColumnTransformer(transformers=[(&#x27;num&#x27;, StandardScaler(),\n",
       "                                                  [&#x27;quantity&#x27;,\n",
       "                                                   &#x27;average_orders_per_day&#x27;,\n",
       "                                                   &#x27;price_difference&#x27;]),\n",
       "                                                 (&#x27;cat&#x27;,\n",
       "                                                  OneHotEncoder(handle_unknown=&#x27;ignore&#x27;),\n",
       "                                                  [&#x27;country&#x27;, &#x27;gift_quantity&#x27;]),\n",
       "                                                 (&#x27;bin&#x27;, &#x27;passthrough&#x27;,\n",
       "                                                  [&#x27;morning&#x27;, &#x27;afternoon&#x27;,\n",
       "                                                   &#x27;evening&#x27;]),\n",
       "                                                 (&#x27;cyc&#x27;, &#x27;passthrough&#x27;,\n",
       "                                                  [&#x27;day_of_week_x_sin&#x27;,\n",
       "                                                   &#x27;day_of_week_x_cos&#x27;,\n",
       "                                                   &#x27;month_of_y...\n",
       "                              feature_types=None, gamma=None, gpu_id=None,\n",
       "                              grow_policy=None, importance_type=None,\n",
       "                              interaction_constraints=None, learning_rate=None,\n",
       "                              max_bin=None, max_cat_threshold=None,\n",
       "                              max_cat_to_onehot=None, max_delta_step=None,\n",
       "                              max_depth=None, max_leaves=None,\n",
       "                              min_child_weight=None, missing=nan,\n",
       "                              monotone_constraints=None, n_estimators=100,\n",
       "                              n_jobs=-1, num_parallel_tree=None, predictor=None,\n",
       "                              random_state=42, ...))])</pre></div></div></div><div class=\"sk-serial\"><div class=\"sk-item\"><div class=\"sk-serial\"><div class=\"sk-item sk-dashed-wrapped\"><div class=\"sk-label-container\"><div class=\"sk-label sk-toggleable\"><input class=\"sk-toggleable__control sk-hidden--visually\" id=\"sk-estimator-id-3\" type=\"checkbox\" ><label for=\"sk-estimator-id-3\" class=\"sk-toggleable__label sk-toggleable__label-arrow\">preprocessor: ColumnTransformer</label><div class=\"sk-toggleable__content\"><pre>ColumnTransformer(transformers=[(&#x27;num&#x27;, StandardScaler(),\n",
       "                                 [&#x27;quantity&#x27;, &#x27;average_orders_per_day&#x27;,\n",
       "                                  &#x27;price_difference&#x27;]),\n",
       "                                (&#x27;cat&#x27;, OneHotEncoder(handle_unknown=&#x27;ignore&#x27;),\n",
       "                                 [&#x27;country&#x27;, &#x27;gift_quantity&#x27;]),\n",
       "                                (&#x27;bin&#x27;, &#x27;passthrough&#x27;,\n",
       "                                 [&#x27;morning&#x27;, &#x27;afternoon&#x27;, &#x27;evening&#x27;]),\n",
       "                                (&#x27;cyc&#x27;, &#x27;passthrough&#x27;,\n",
       "                                 [&#x27;day_of_week_x_sin&#x27;, &#x27;day_of_week_x_cos&#x27;,\n",
       "                                  &#x27;month_of_year_x_sin&#x27;, &#x27;month_of_year_x_cos&#x27;,\n",
       "                                  &#x27;hour_of_day_sin&#x27;, &#x27;hour_of_day_cos&#x27;,\n",
       "                                  &#x27;week_of_year_x_sin&#x27;,\n",
       "                                  &#x27;week_of_year_x_cos&#x27;])])</pre></div></div></div><div class=\"sk-parallel\"><div class=\"sk-parallel-item\"><div class=\"sk-item\"><div class=\"sk-label-container\"><div class=\"sk-label sk-toggleable\"><input class=\"sk-toggleable__control sk-hidden--visually\" id=\"sk-estimator-id-4\" type=\"checkbox\" ><label for=\"sk-estimator-id-4\" class=\"sk-toggleable__label sk-toggleable__label-arrow\">num</label><div class=\"sk-toggleable__content\"><pre>[&#x27;quantity&#x27;, &#x27;average_orders_per_day&#x27;, &#x27;price_difference&#x27;]</pre></div></div></div><div class=\"sk-serial\"><div class=\"sk-item\"><div class=\"sk-estimator sk-toggleable\"><input class=\"sk-toggleable__control sk-hidden--visually\" id=\"sk-estimator-id-5\" type=\"checkbox\" ><label for=\"sk-estimator-id-5\" class=\"sk-toggleable__label sk-toggleable__label-arrow\">StandardScaler</label><div class=\"sk-toggleable__content\"><pre>StandardScaler()</pre></div></div></div></div></div></div><div class=\"sk-parallel-item\"><div class=\"sk-item\"><div class=\"sk-label-container\"><div class=\"sk-label sk-toggleable\"><input class=\"sk-toggleable__control sk-hidden--visually\" id=\"sk-estimator-id-6\" type=\"checkbox\" ><label for=\"sk-estimator-id-6\" class=\"sk-toggleable__label sk-toggleable__label-arrow\">cat</label><div class=\"sk-toggleable__content\"><pre>[&#x27;country&#x27;, &#x27;gift_quantity&#x27;]</pre></div></div></div><div class=\"sk-serial\"><div class=\"sk-item\"><div class=\"sk-estimator sk-toggleable\"><input class=\"sk-toggleable__control sk-hidden--visually\" id=\"sk-estimator-id-7\" type=\"checkbox\" ><label for=\"sk-estimator-id-7\" class=\"sk-toggleable__label sk-toggleable__label-arrow\">OneHotEncoder</label><div class=\"sk-toggleable__content\"><pre>OneHotEncoder(handle_unknown=&#x27;ignore&#x27;)</pre></div></div></div></div></div></div><div class=\"sk-parallel-item\"><div class=\"sk-item\"><div class=\"sk-label-container\"><div class=\"sk-label sk-toggleable\"><input class=\"sk-toggleable__control sk-hidden--visually\" id=\"sk-estimator-id-8\" type=\"checkbox\" ><label for=\"sk-estimator-id-8\" class=\"sk-toggleable__label sk-toggleable__label-arrow\">bin</label><div class=\"sk-toggleable__content\"><pre>[&#x27;morning&#x27;, &#x27;afternoon&#x27;, &#x27;evening&#x27;]</pre></div></div></div><div class=\"sk-serial\"><div class=\"sk-item\"><div class=\"sk-estimator sk-toggleable\"><input class=\"sk-toggleable__control sk-hidden--visually\" id=\"sk-estimator-id-9\" type=\"checkbox\" ><label for=\"sk-estimator-id-9\" class=\"sk-toggleable__label sk-toggleable__label-arrow\">passthrough</label><div class=\"sk-toggleable__content\"><pre>passthrough</pre></div></div></div></div></div></div><div class=\"sk-parallel-item\"><div class=\"sk-item\"><div class=\"sk-label-container\"><div class=\"sk-label sk-toggleable\"><input class=\"sk-toggleable__control sk-hidden--visually\" id=\"sk-estimator-id-10\" type=\"checkbox\" ><label for=\"sk-estimator-id-10\" class=\"sk-toggleable__label sk-toggleable__label-arrow\">cyc</label><div class=\"sk-toggleable__content\"><pre>[&#x27;day_of_week_x_sin&#x27;, &#x27;day_of_week_x_cos&#x27;, &#x27;month_of_year_x_sin&#x27;, &#x27;month_of_year_x_cos&#x27;, &#x27;hour_of_day_sin&#x27;, &#x27;hour_of_day_cos&#x27;, &#x27;week_of_year_x_sin&#x27;, &#x27;week_of_year_x_cos&#x27;]</pre></div></div></div><div class=\"sk-serial\"><div class=\"sk-item\"><div class=\"sk-estimator sk-toggleable\"><input class=\"sk-toggleable__control sk-hidden--visually\" id=\"sk-estimator-id-11\" type=\"checkbox\" ><label for=\"sk-estimator-id-11\" class=\"sk-toggleable__label sk-toggleable__label-arrow\">passthrough</label><div class=\"sk-toggleable__content\"><pre>passthrough</pre></div></div></div></div></div></div></div></div><div class=\"sk-item\"><div class=\"sk-estimator sk-toggleable\"><input class=\"sk-toggleable__control sk-hidden--visually\" id=\"sk-estimator-id-12\" type=\"checkbox\" ><label for=\"sk-estimator-id-12\" class=\"sk-toggleable__label sk-toggleable__label-arrow\">XGBRegressor</label><div class=\"sk-toggleable__content\"><pre>XGBRegressor(base_score=None, booster=None, callbacks=None,\n",
       "             colsample_bylevel=None, colsample_bynode=None,\n",
       "             colsample_bytree=None, early_stopping_rounds=None,\n",
       "             enable_categorical=False, eval_metric=None, feature_types=None,\n",
       "             gamma=None, gpu_id=None, grow_policy=None, importance_type=None,\n",
       "             interaction_constraints=None, learning_rate=None, max_bin=None,\n",
       "             max_cat_threshold=None, max_cat_to_onehot=None,\n",
       "             max_delta_step=None, max_depth=None, max_leaves=None,\n",
       "             min_child_weight=None, missing=nan, monotone_constraints=None,\n",
       "             n_estimators=100, n_jobs=-1, num_parallel_tree=None,\n",
       "             predictor=None, random_state=42, ...)</pre></div></div></div></div></div></div></div></div></div></div></div></div>"
      ],
      "text/plain": [
       "GridSearchCV(cv=3,\n",
       "             estimator=Pipeline(steps=[('preprocessor',\n",
       "                                        ColumnTransformer(transformers=[('num',\n",
       "                                                                         StandardScaler(),\n",
       "                                                                         ['quantity',\n",
       "                                                                          'average_orders_per_day',\n",
       "                                                                          'price_difference']),\n",
       "                                                                        ('cat',\n",
       "                                                                         OneHotEncoder(handle_unknown='ignore'),\n",
       "                                                                         ['country',\n",
       "                                                                          'gift_quantity']),\n",
       "                                                                        ('bin',\n",
       "                                                                         'passthrough',\n",
       "                                                                         ['morning',\n",
       "                                                                          'afternoon',\n",
       "                                                                          'evening']),\n",
       "                                                                        ('cyc',\n",
       "                                                                         'passthrough',\n",
       "                                                                         ['day_of_week_x_sin',\n",
       "                                                                          'da...\n",
       "                                                     max_depth=None,\n",
       "                                                     max_leaves=None,\n",
       "                                                     min_child_weight=None,\n",
       "                                                     missing=nan,\n",
       "                                                     monotone_constraints=None,\n",
       "                                                     n_estimators=100,\n",
       "                                                     n_jobs=-1,\n",
       "                                                     num_parallel_tree=None,\n",
       "                                                     predictor=None,\n",
       "                                                     random_state=42, ...))]),\n",
       "             n_jobs=-1,\n",
       "             param_grid={'regressor__learning_rate': [0.01, 0.1, 0.2],\n",
       "                         'regressor__max_depth': [3, 6, 9],\n",
       "                         'regressor__n_estimators': [100, 200, 300, 400]},\n",
       "             scoring='neg_mean_squared_error', verbose=2)"
      ]
     },
     "execution_count": 20,
     "metadata": {},
     "output_type": "execute_result"
    }
   ],
   "source": [
    "xgb_grid_search.fit(X_train, y_train)"
   ]
  },
  {
   "cell_type": "code",
   "execution_count": 21,
   "id": "56452fc9-5fe9-4ff7-b697-9c1acf04d0b2",
   "metadata": {
    "id": "56452fc9-5fe9-4ff7-b697-9c1acf04d0b2",
    "tags": []
   },
   "outputs": [
    {
     "name": "stdout",
     "output_type": "stream",
     "text": [
      "[CV] END regressor__learning_rate=0.01, regressor__max_depth=3, regressor__n_estimators=300; total time= 2.5min\n",
      "[CV] END regressor__learning_rate=0.01, regressor__max_depth=6, regressor__n_estimators=200; total time= 3.6min\n",
      "[CV] END regressor__learning_rate=0.01, regressor__max_depth=6, regressor__n_estimators=400; total time= 8.4min\n",
      "[CV] END regressor__learning_rate=0.01, regressor__max_depth=9, regressor__n_estimators=400; total time=13.4min\n",
      "[CV] END regressor__learning_rate=0.1, regressor__max_depth=6, regressor__n_estimators=300; total time= 6.3min\n",
      "[CV] END regressor__learning_rate=0.1, regressor__max_depth=9, regressor__n_estimators=200; total time= 6.9min\n",
      "[CV] END regressor__learning_rate=0.1, regressor__max_depth=9, regressor__n_estimators=400; total time=14.4min\n",
      "[CV] END regressor__learning_rate=0.2, regressor__max_depth=6, regressor__n_estimators=400; total time= 9.1min\n",
      "[CV] END regressor__learning_rate=0.2, regressor__max_depth=9, regressor__n_estimators=400; total time=11.0min\n",
      "[CV] END regressor__learning_rate=0.01, regressor__max_depth=3, regressor__n_estimators=100; total time=  48.4s\n",
      "[CV] END regressor__learning_rate=0.01, regressor__max_depth=3, regressor__n_estimators=400; total time= 3.4min\n",
      "[CV] END regressor__learning_rate=0.01, regressor__max_depth=6, regressor__n_estimators=300; total time= 5.8min\n",
      "[CV] END regressor__learning_rate=0.01, regressor__max_depth=9, regressor__n_estimators=200; total time= 6.9min\n",
      "[CV] END regressor__learning_rate=0.1, regressor__max_depth=3, regressor__n_estimators=100; total time= 1.1min\n",
      "[CV] END regressor__learning_rate=0.1, regressor__max_depth=3, regressor__n_estimators=100; total time= 1.1min\n",
      "[CV] END regressor__learning_rate=0.1, regressor__max_depth=3, regressor__n_estimators=200; total time= 2.1min\n",
      "[CV] END regressor__learning_rate=0.1, regressor__max_depth=3, regressor__n_estimators=300; total time= 2.9min\n",
      "[CV] END regressor__learning_rate=0.1, regressor__max_depth=6, regressor__n_estimators=100; total time= 2.1min\n",
      "[CV] END regressor__learning_rate=0.1, regressor__max_depth=6, regressor__n_estimators=100; total time= 2.1min\n",
      "[CV] END regressor__learning_rate=0.1, regressor__max_depth=6, regressor__n_estimators=400; total time= 8.6min\n",
      "[CV] END regressor__learning_rate=0.1, regressor__max_depth=9, regressor__n_estimators=300; total time=10.5min\n",
      "[CV] END regressor__learning_rate=0.2, regressor__max_depth=3, regressor__n_estimators=400; total time= 4.5min\n",
      "[CV] END regressor__learning_rate=0.2, regressor__max_depth=6, regressor__n_estimators=200; total time= 4.6min\n",
      "[CV] END regressor__learning_rate=0.2, regressor__max_depth=6, regressor__n_estimators=400; total time= 9.3min\n",
      "[CV] END regressor__learning_rate=0.2, regressor__max_depth=9, regressor__n_estimators=400; total time=10.2min\n",
      "[CV] END regressor__learning_rate=0.01, regressor__max_depth=3, regressor__n_estimators=300; total time= 2.4min\n",
      "[CV] END regressor__learning_rate=0.01, regressor__max_depth=6, regressor__n_estimators=100; total time= 1.8min\n",
      "[CV] END regressor__learning_rate=0.01, regressor__max_depth=6, regressor__n_estimators=300; total time= 6.0min\n",
      "[CV] END regressor__learning_rate=0.01, regressor__max_depth=9, regressor__n_estimators=200; total time= 6.8min\n",
      "[CV] END regressor__learning_rate=0.01, regressor__max_depth=9, regressor__n_estimators=400; total time=13.7min\n",
      "[CV] END regressor__learning_rate=0.1, regressor__max_depth=6, regressor__n_estimators=400; total time= 8.5min\n",
      "[CV] END regressor__learning_rate=0.1, regressor__max_depth=9, regressor__n_estimators=400; total time=14.2min\n",
      "[CV] END regressor__learning_rate=0.2, regressor__max_depth=6, regressor__n_estimators=300; total time= 6.8min\n",
      "[CV] END regressor__learning_rate=0.2, regressor__max_depth=9, regressor__n_estimators=200; total time= 7.3min\n",
      "[CV] END regressor__learning_rate=0.2, regressor__max_depth=9, regressor__n_estimators=400; total time= 9.2min\n"
     ]
    }
   ],
   "source": [
    "best_params = xgb_grid_search.best_params_\n",
    "best_pipeline = xgb_grid_search.best_estimator_\n"
   ]
  },
  {
   "cell_type": "code",
   "execution_count": 22,
   "id": "3c1b5851-baea-4da9-ae0c-7b53c0bf5acd",
   "metadata": {
    "id": "3c1b5851-baea-4da9-ae0c-7b53c0bf5acd",
    "tags": []
   },
   "outputs": [
    {
     "name": "stdout",
     "output_type": "stream",
     "text": [
      "Best XGBoost Mean Squared Error: 2118.721693316591\n"
     ]
    }
   ],
   "source": [
    "y_pred_best = best_pipeline.predict(X_test)\n",
    "mse_best = mean_squared_error(y_test, y_pred_best)\n",
    "print(f\"Best XGBoost Mean Squared Error: {mse_best}\")\n"
   ]
  },
  {
   "cell_type": "code",
   "execution_count": 23,
   "id": "0effc423-cf76-4b79-a79a-62b17b024d7d",
   "metadata": {
    "id": "0effc423-cf76-4b79-a79a-62b17b024d7d",
    "tags": []
   },
   "outputs": [
    {
     "name": "stdout",
     "output_type": "stream",
     "text": [
      "Best parameters found by grid search:\n",
      "regressor__learning_rate: 0.2\n",
      "regressor__max_depth: 6\n",
      "regressor__n_estimators: 400\n"
     ]
    }
   ],
   "source": [
    "best_params = xgb_grid_search.best_params_\n",
    "print(\"Best parameters found by grid search:\")\n",
    "for param, value in best_params.items():\n",
    "    print(f\"{param}: {value}\")"
   ]
  },
  {
   "cell_type": "code",
   "execution_count": 24,
   "id": "4074a538-61eb-440d-9c96-4d35171ad3bb",
   "metadata": {
    "tags": []
   },
   "outputs": [
    {
     "name": "stdout",
     "output_type": "stream",
     "text": [
      "Best XGBoost Mean Squared Error: 2118.721693316591\n",
      "MAE_best: 28.24\n",
      "RMSE_best: 46.03\n",
      "R2_best:0.39\n"
     ]
    }
   ],
   "source": [
    "mse_best = mean_squared_error(y_test, y_pred_best)\n",
    "mae_best = mean_absolute_error(y_test, y_pred_best)\n",
    "rmse_best = np.sqrt(mse_best)\n",
    "r2_best = r2_score(y_test, y_pred_best)\n",
    "print(f\"Best XGBoost Mean Squared Error: {mse_best}\")\n",
    "print(f\"MAE_best: {mae_best:.2f}\")\n",
    "print(f\"RMSE_best: {rmse_best:.2f}\")\n",
    "print(f\"R2_best:{r2_best:.2f}\")"
   ]
  },
  {
   "cell_type": "code",
   "execution_count": null,
   "id": "92d18003-34e0-4d72-a993-987bc1f0268c",
   "metadata": {},
   "outputs": [],
   "source": []
  },
  {
   "cell_type": "code",
   "execution_count": null,
   "id": "0140040c-5f12-4b4d-9a2b-c719813bfe1e",
   "metadata": {},
   "outputs": [],
   "source": []
  },
  {
   "cell_type": "code",
   "execution_count": 30,
   "id": "1c9dffa3-534b-4ff8-9b2a-438ad74af718",
   "metadata": {
    "tags": []
   },
   "outputs": [],
   "source": [
    "xgb_feature_importances = best_pipeline.named_steps[\"regressor\"].feature_importances_\n"
   ]
  },
  {
   "cell_type": "code",
   "execution_count": 31,
   "id": "176a0d63-78ed-47cd-975c-bcef9236d793",
   "metadata": {
    "tags": []
   },
   "outputs": [],
   "source": [
    "# Get the feature names after one-hot encoding\n",
    "cat_feature_names = best_pipeline.named_steps[\"preprocessor\"].named_transformers_[\"cat\"].get_feature_names_out(categorical_features)\n",
    "\n",
    "# Combine all feature names\n",
    "all_feature_names = np.concatenate([numeric_features, cat_feature_names, binary_features, cyclical_features])\n"
   ]
  },
  {
   "cell_type": "code",
   "execution_count": 32,
   "id": "80a91487-f2ab-4812-8434-ef9b5d462731",
   "metadata": {
    "tags": []
   },
   "outputs": [],
   "source": [
    "importances_df = pd.DataFrame({\"feature\": all_feature_names, \"importance\": xgb_feature_importances})\n"
   ]
  },
  {
   "cell_type": "code",
   "execution_count": 36,
   "id": "51ba3cd9-70a2-4b75-b13b-905a165492ad",
   "metadata": {
    "tags": []
   },
   "outputs": [
    {
     "data": {
      "text/html": [
       "<div>\n",
       "<style scoped>\n",
       "    .dataframe tbody tr th:only-of-type {\n",
       "        vertical-align: middle;\n",
       "    }\n",
       "\n",
       "    .dataframe tbody tr th {\n",
       "        vertical-align: top;\n",
       "    }\n",
       "\n",
       "    .dataframe thead th {\n",
       "        text-align: right;\n",
       "    }\n",
       "</style>\n",
       "<table border=\"1\" class=\"dataframe\">\n",
       "  <thead>\n",
       "    <tr style=\"text-align: right;\">\n",
       "      <th></th>\n",
       "      <th>feature</th>\n",
       "      <th>importance</th>\n",
       "    </tr>\n",
       "  </thead>\n",
       "  <tbody>\n",
       "    <tr>\n",
       "      <th>24</th>\n",
       "      <td>gift_quantity_0.0</td>\n",
       "      <td>0.214374</td>\n",
       "    </tr>\n",
       "    <tr>\n",
       "      <th>25</th>\n",
       "      <td>gift_quantity_1.0</td>\n",
       "      <td>0.124442</td>\n",
       "    </tr>\n",
       "    <tr>\n",
       "      <th>0</th>\n",
       "      <td>quantity</td>\n",
       "      <td>0.091270</td>\n",
       "    </tr>\n",
       "    <tr>\n",
       "      <th>21</th>\n",
       "      <td>country_Spain</td>\n",
       "      <td>0.064434</td>\n",
       "    </tr>\n",
       "    <tr>\n",
       "      <th>11</th>\n",
       "      <td>country_Germany</td>\n",
       "      <td>0.053458</td>\n",
       "    </tr>\n",
       "    <tr>\n",
       "      <th>12</th>\n",
       "      <td>country_Hungary</td>\n",
       "      <td>0.049837</td>\n",
       "    </tr>\n",
       "    <tr>\n",
       "      <th>2</th>\n",
       "      <td>price_difference</td>\n",
       "      <td>0.047120</td>\n",
       "    </tr>\n",
       "    <tr>\n",
       "      <th>3</th>\n",
       "      <td>country_Austria</td>\n",
       "      <td>0.034659</td>\n",
       "    </tr>\n",
       "    <tr>\n",
       "      <th>10</th>\n",
       "      <td>country_France</td>\n",
       "      <td>0.030159</td>\n",
       "    </tr>\n",
       "    <tr>\n",
       "      <th>18</th>\n",
       "      <td>country_Romania</td>\n",
       "      <td>0.028312</td>\n",
       "    </tr>\n",
       "    <tr>\n",
       "      <th>38</th>\n",
       "      <td>week_of_year_x_cos</td>\n",
       "      <td>0.023640</td>\n",
       "    </tr>\n",
       "    <tr>\n",
       "      <th>7</th>\n",
       "      <td>country_Czech Republic</td>\n",
       "      <td>0.023237</td>\n",
       "    </tr>\n",
       "    <tr>\n",
       "      <th>19</th>\n",
       "      <td>country_Slovakia</td>\n",
       "      <td>0.015162</td>\n",
       "    </tr>\n",
       "    <tr>\n",
       "      <th>6</th>\n",
       "      <td>country_Croatia</td>\n",
       "      <td>0.015005</td>\n",
       "    </tr>\n",
       "    <tr>\n",
       "      <th>13</th>\n",
       "      <td>country_Ireland</td>\n",
       "      <td>0.014022</td>\n",
       "    </tr>\n",
       "  </tbody>\n",
       "</table>\n",
       "</div>"
      ],
      "text/plain": [
       "                   feature  importance\n",
       "24       gift_quantity_0.0    0.214374\n",
       "25       gift_quantity_1.0    0.124442\n",
       "0                 quantity    0.091270\n",
       "21           country_Spain    0.064434\n",
       "11         country_Germany    0.053458\n",
       "12         country_Hungary    0.049837\n",
       "2         price_difference    0.047120\n",
       "3          country_Austria    0.034659\n",
       "10          country_France    0.030159\n",
       "18         country_Romania    0.028312\n",
       "38      week_of_year_x_cos    0.023640\n",
       "7   country_Czech Republic    0.023237\n",
       "19        country_Slovakia    0.015162\n",
       "6          country_Croatia    0.015005\n",
       "13         country_Ireland    0.014022"
      ]
     },
     "execution_count": 36,
     "metadata": {},
     "output_type": "execute_result"
    }
   ],
   "source": [
    "importances_df.head(15)"
   ]
  },
  {
   "cell_type": "code",
   "execution_count": 37,
   "id": "a4b3b683-75ad-4fc1-bc50-ed9f32ff1219",
   "metadata": {
    "tags": []
   },
   "outputs": [],
   "source": [
    "importances_df = importances_df.sort_values(\"importance\", ascending=False)\n",
    "selected_features = importances_df[\"feature\"].head(15).tolist()\n"
   ]
  },
  {
   "cell_type": "code",
   "execution_count": 39,
   "id": "1c7cf35e-b48d-4d99-acd1-f12ee68ffc87",
   "metadata": {
    "tags": []
   },
   "outputs": [],
   "source": [
    "# Apply the preprocessing steps to the datasets\n",
    "X_train_preprocessed = preprocessor.fit_transform(X_train)\n",
    "X_test_preprocessed = preprocessor.transform(X_test)\n",
    "\n",
    "# Convert the preprocessed data to DataFrames\n",
    "X_train_preprocessed_df = pd.DataFrame(X_train_preprocessed, columns=all_feature_names)\n",
    "X_test_preprocessed_df = pd.DataFrame(X_test_preprocessed, columns=all_feature_names)\n",
    "\n",
    "# Select the chosen features from the preprocessed datasets\n",
    "X_train_selected = X_train_preprocessed_df[selected_features]\n",
    "X_test_selected = X_test_preprocessed_df[selected_features]\n",
    "\n",
    "# Train and evaluate the model with the selected features\n",
    "xgb_selected = XGBRegressor(learning_rate=0.2, n_estimators=400,max_depth=6, n_jobs=-1, random_state=42)\n",
    "xgb_selected.fit(X_train_selected, y_train)\n",
    "\n",
    "# Make predictions and evaluate the model\n",
    "y_pred_selected = xgb_selected.predict(X_test_selected)\n"
   ]
  },
  {
   "cell_type": "code",
   "execution_count": 41,
   "id": "ab855bbd-29f0-4619-a521-265a63ddd13e",
   "metadata": {
    "tags": []
   },
   "outputs": [
    {
     "name": "stdout",
     "output_type": "stream",
     "text": [
      "MAE: 28.43\n",
      "MSE: 2140.25\n",
      "RMSE: 46.26\n",
      "R2: 0.39\n"
     ]
    }
   ],
   "source": [
    "# Calculate the evaluation metrics\n",
    "mae_xgselect = mean_absolute_error(y_test, y_pred_selected)\n",
    "mse_xgselect = mean_squared_error(y_test, y_pred_selected)\n",
    "rmse_xgselect = np.sqrt(mse_xgselect)\n",
    "r2_xgselect = r2_score(y_test, y_pred_selected)\n",
    "\n",
    "# Print the evaluation metrics\n",
    "print(f\"MAE: {mae_xgselect:.2f}\")\n",
    "print(f\"MSE: {mse_xgselect:.2f}\")\n",
    "print(f\"RMSE: {rmse_xgselect:.2f}\")\n",
    "print(f\"R2: {r2_xgselect:.2f}\")\n"
   ]
  },
  {
   "cell_type": "code",
   "execution_count": null,
   "id": "a71e75d9-b2d4-4127-8953-84c79b608455",
   "metadata": {},
   "outputs": [],
   "source": []
  },
  {
   "cell_type": "code",
   "execution_count": null,
   "id": "f9dd62bd-3400-4b1c-9035-30667b8bd4e8",
   "metadata": {},
   "outputs": [],
   "source": []
  },
  {
   "cell_type": "code",
   "execution_count": null,
   "id": "d35b806d-1636-46b6-9458-49385ca9e9fa",
   "metadata": {},
   "outputs": [],
   "source": []
  },
  {
   "cell_type": "markdown",
   "id": "f052e80b-d8c2-4dd0-972d-2cdc4169b6f6",
   "metadata": {
    "id": "f052e80b-d8c2-4dd0-972d-2cdc4169b6f6"
   },
   "source": [
    "- Random Forest Model"
   ]
  },
  {
   "cell_type": "code",
   "execution_count": 37,
   "id": "e76133dd-12a0-4921-9903-69e606a3ba92",
   "metadata": {
    "id": "e76133dd-12a0-4921-9903-69e606a3ba92",
    "outputId": "1604c2a3-6a4f-4319-eebc-e1e9b3e9b7ec",
    "tags": []
   },
   "outputs": [
    {
     "name": "stdout",
     "output_type": "stream",
     "text": [
      "Baseline Model Mean Squared Error: 3481.813810487228\n"
     ]
    }
   ],
   "source": [
    "rf_pipeline = Pipeline(steps=[('preprocessor', preprocessor),\n",
    "                              ('regressor', RandomForestRegressor(n_jobs=-1, random_state=42))])\n",
    "\n",
    "# Train and evaluate the models\n",
    "pipelines = [rf_pipeline]\n",
    "model_names = ['Random Forest']\n",
    "\n",
    "for pipeline, model_name in zip(pipelines, model_names):\n",
    "    # Train the model\n",
    "    pipeline.fit(X_train, y_train)\n",
    "    \n",
    "    # Evaluate the model\n",
    "    y_pred_rf = pipeline.predict(X_test)\n",
    "\n",
    "# Calculate the mean squared error for the baseline model\n",
    "y_baseline = y_train.mean()\n",
    "mse_baseline = mean_squared_error(y_test, [y_baseline] * len(y_test))\n",
    "print(f\"Baseline Model Mean Squared Error: {mse_baseline}\")"
   ]
  },
  {
   "cell_type": "code",
   "execution_count": 38,
   "id": "20a6c0b4-8d79-493f-adde-420d552f3caa",
   "metadata": {
    "id": "20a6c0b4-8d79-493f-adde-420d552f3caa",
    "outputId": "fe266cd7-5f27-434a-8334-e5d769c0f25d",
    "tags": []
   },
   "outputs": [
    {
     "name": "stdout",
     "output_type": "stream",
     "text": [
      "MAE: 29.27\n",
      "MSE: 2311.97\n",
      "RMSE: 48.08\n",
      "R2:0.34\n"
     ]
    }
   ],
   "source": [
    "# Evaluate the best model\n",
    "y_pred_rf = rf_pipeline.predict(X_test)\n",
    "mae_rf = mean_absolute_error(y_test, y_pred_rf)\n",
    "mse_rf = mean_squared_error(y_test, y_pred_rf)\n",
    "rmse_rf = np.sqrt(mse_rf)\n",
    "r2_rf = r2_score(y_test, y_pred_rf)\n",
    "\n",
    "print(f\"MAE: {mae_rf:.2f}\")\n",
    "print(f\"MSE: {mse_rf:.2f}\")\n",
    "print(f\"RMSE: {rmse_rf:.2f}\")\n",
    "print(f\"R2:{r2_rf:.2f}\")"
   ]
  },
  {
   "cell_type": "code",
   "execution_count": null,
   "id": "a984eac4-e24d-4433-a903-b3af9ca5494e",
   "metadata": {
    "id": "a984eac4-e24d-4433-a903-b3af9ca5494e"
   },
   "outputs": [],
   "source": []
  }
 ],
 "metadata": {
  "colab": {
   "provenance": []
  },
  "kernelspec": {
   "display_name": "Python 3 (ipykernel)",
   "language": "python",
   "name": "python3"
  },
  "language_info": {
   "codemirror_mode": {
    "name": "ipython",
    "version": 3
   },
   "file_extension": ".py",
   "mimetype": "text/x-python",
   "name": "python",
   "nbconvert_exporter": "python",
   "pygments_lexer": "ipython3",
   "version": "3.10.9"
  }
 },
 "nbformat": 4,
 "nbformat_minor": 5
}
