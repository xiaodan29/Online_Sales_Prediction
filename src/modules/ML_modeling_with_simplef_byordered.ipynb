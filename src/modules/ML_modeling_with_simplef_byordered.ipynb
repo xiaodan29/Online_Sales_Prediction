{
 "cells": [
  {
   "cell_type": "markdown",
   "id": "2a80b207-271c-4c6e-a23f-4a9767172071",
   "metadata": {
    "id": "2a80b207-271c-4c6e-a23f-4a9767172071",
    "tags": []
   },
   "source": [
    "### Modeling"
   ]
  },
  {
   "cell_type": "code",
   "execution_count": 1,
   "id": "440f8533-09b0-4014-bf5b-dcb0744c618f",
   "metadata": {
    "executionInfo": {
     "elapsed": 2431,
     "status": "ok",
     "timestamp": 1682102608179,
     "user": {
      "displayName": "LEAH CHEN",
      "userId": "04389040899043702332"
     },
     "user_tz": 420
    },
    "id": "440f8533-09b0-4014-bf5b-dcb0744c618f",
    "tags": []
   },
   "outputs": [],
   "source": [
    "import pandas as pd\n",
    "import numpy as np\n",
    "import seaborn as sns\n",
    "import matplotlib.pyplot as plt\n",
    "from sklearn.model_selection import train_test_split\n",
    "from sklearn.model_selection import train_test_split\n",
    "from sklearn.preprocessing import StandardScaler, OneHotEncoder\n",
    "from sklearn.compose import ColumnTransformer\n",
    "from sklearn.pipeline import Pipeline\n",
    "from sklearn.linear_model import LinearRegression\n",
    "from sklearn.ensemble import RandomForestRegressor\n",
    "from xgboost import XGBRegressor\n",
    "from sklearn.metrics import mean_squared_error\n",
    "from sklearn.metrics import mean_absolute_error\n",
    "from sklearn.metrics import r2_score\n",
    "from sklearn.linear_model import Ridge, Lasso\n",
    "from xgboost import XGBRegressor\n",
    "from sklearn.model_selection import GridSearchCV\n"
   ]
  },
  {
   "cell_type": "markdown",
   "id": "0306byS6IBgr",
   "metadata": {
    "id": "0306byS6IBgr"
   },
   "source": [
    "- from Local Computer"
   ]
  },
  {
   "cell_type": "code",
   "execution_count": 2,
   "id": "396fdf36-772a-487c-9d7a-b9c902a1c466",
   "metadata": {
    "id": "396fdf36-772a-487c-9d7a-b9c902a1c466",
    "tags": []
   },
   "outputs": [],
   "source": [
    "df = pd.read_csv('/Users/leahchen/Documents/LHL/Final Project/Time-Series-Forecasting/data/cleaned_04_00.csv')"
   ]
  },
  {
   "cell_type": "code",
   "execution_count": 3,
   "id": "f5dd495a-5030-48c7-bd3b-1d62427eb176",
   "metadata": {
    "id": "f5dd495a-5030-48c7-bd3b-1d62427eb176",
    "outputId": "1696dbe3-a9ed-4aa4-b58d-bf34102ce0eb",
    "tags": []
   },
   "outputs": [
    {
     "data": {
      "text/html": [
       "<div>\n",
       "<style scoped>\n",
       "    .dataframe tbody tr th:only-of-type {\n",
       "        vertical-align: middle;\n",
       "    }\n",
       "\n",
       "    .dataframe tbody tr th {\n",
       "        vertical-align: top;\n",
       "    }\n",
       "\n",
       "    .dataframe thead th {\n",
       "        text-align: right;\n",
       "    }\n",
       "</style>\n",
       "<table border=\"1\" class=\"dataframe\">\n",
       "  <thead>\n",
       "    <tr style=\"text-align: right;\">\n",
       "      <th></th>\n",
       "      <th>order_id</th>\n",
       "      <th>date</th>\n",
       "      <th>payment</th>\n",
       "      <th>item_code</th>\n",
       "      <th>quantity</th>\n",
       "      <th>gift_quantity</th>\n",
       "      <th>unit_price_vat_excl</th>\n",
       "      <th>unit_cogs</th>\n",
       "      <th>unit_rrp_vat_excl</th>\n",
       "      <th>CreatedAt</th>\n",
       "      <th>...</th>\n",
       "      <th>week_of_year</th>\n",
       "      <th>price_difference</th>\n",
       "      <th>morning</th>\n",
       "      <th>afternoon</th>\n",
       "      <th>evening</th>\n",
       "      <th>avg_sales_country_product_day</th>\n",
       "      <th>total_orders</th>\n",
       "      <th>total_products</th>\n",
       "      <th>average_orders_per_day</th>\n",
       "      <th>average_products_per_day</th>\n",
       "    </tr>\n",
       "  </thead>\n",
       "  <tbody>\n",
       "    <tr>\n",
       "      <th>0</th>\n",
       "      <td>1900078757</td>\n",
       "      <td>2019-06-01</td>\n",
       "      <td>COD</td>\n",
       "      <td>ZB00049340</td>\n",
       "      <td>5</td>\n",
       "      <td>0.0</td>\n",
       "      <td>6.63</td>\n",
       "      <td>2.50</td>\n",
       "      <td>7.78</td>\n",
       "      <td>2019-06-01 00:04:00</td>\n",
       "      <td>...</td>\n",
       "      <td>22</td>\n",
       "      <td>-1.15</td>\n",
       "      <td>0</td>\n",
       "      <td>0</td>\n",
       "      <td>0</td>\n",
       "      <td>37.39</td>\n",
       "      <td>55</td>\n",
       "      <td>154</td>\n",
       "      <td>965.290188</td>\n",
       "      <td>2286.687891</td>\n",
       "    </tr>\n",
       "    <tr>\n",
       "      <th>1</th>\n",
       "      <td>1900078757</td>\n",
       "      <td>2019-06-01</td>\n",
       "      <td>COD</td>\n",
       "      <td>S113</td>\n",
       "      <td>1</td>\n",
       "      <td>0.0</td>\n",
       "      <td>0.93</td>\n",
       "      <td>0.00</td>\n",
       "      <td>0.93</td>\n",
       "      <td>2019-06-01 00:04:00</td>\n",
       "      <td>...</td>\n",
       "      <td>22</td>\n",
       "      <td>0.00</td>\n",
       "      <td>0</td>\n",
       "      <td>0</td>\n",
       "      <td>0</td>\n",
       "      <td>1.57</td>\n",
       "      <td>55</td>\n",
       "      <td>154</td>\n",
       "      <td>965.290188</td>\n",
       "      <td>2286.687891</td>\n",
       "    </tr>\n",
       "    <tr>\n",
       "      <th>2</th>\n",
       "      <td>1900078757</td>\n",
       "      <td>2019-06-01</td>\n",
       "      <td>COD</td>\n",
       "      <td>ZB00007426</td>\n",
       "      <td>2</td>\n",
       "      <td>0.0</td>\n",
       "      <td>6.63</td>\n",
       "      <td>0.07</td>\n",
       "      <td>7.78</td>\n",
       "      <td>2019-06-01 00:04:00</td>\n",
       "      <td>...</td>\n",
       "      <td>22</td>\n",
       "      <td>-1.15</td>\n",
       "      <td>0</td>\n",
       "      <td>0</td>\n",
       "      <td>0</td>\n",
       "      <td>37.39</td>\n",
       "      <td>55</td>\n",
       "      <td>154</td>\n",
       "      <td>965.290188</td>\n",
       "      <td>2286.687891</td>\n",
       "    </tr>\n",
       "    <tr>\n",
       "      <th>3</th>\n",
       "      <td>1900078757</td>\n",
       "      <td>2019-06-01</td>\n",
       "      <td>COD</td>\n",
       "      <td>S101</td>\n",
       "      <td>1</td>\n",
       "      <td>0.0</td>\n",
       "      <td>2.21</td>\n",
       "      <td>0.00</td>\n",
       "      <td>2.21</td>\n",
       "      <td>2019-06-01 00:04:00</td>\n",
       "      <td>...</td>\n",
       "      <td>22</td>\n",
       "      <td>0.00</td>\n",
       "      <td>0</td>\n",
       "      <td>0</td>\n",
       "      <td>0</td>\n",
       "      <td>1.57</td>\n",
       "      <td>55</td>\n",
       "      <td>154</td>\n",
       "      <td>965.290188</td>\n",
       "      <td>2286.687891</td>\n",
       "    </tr>\n",
       "    <tr>\n",
       "      <th>4</th>\n",
       "      <td>1900072959</td>\n",
       "      <td>2019-06-01</td>\n",
       "      <td>GOPAY_CARD</td>\n",
       "      <td>ZB00010308</td>\n",
       "      <td>4</td>\n",
       "      <td>0.0</td>\n",
       "      <td>19.18</td>\n",
       "      <td>11.62</td>\n",
       "      <td>33.08</td>\n",
       "      <td>2019-06-01 00:09:00</td>\n",
       "      <td>...</td>\n",
       "      <td>22</td>\n",
       "      <td>-13.90</td>\n",
       "      <td>0</td>\n",
       "      <td>0</td>\n",
       "      <td>0</td>\n",
       "      <td>52.58</td>\n",
       "      <td>55</td>\n",
       "      <td>154</td>\n",
       "      <td>965.290188</td>\n",
       "      <td>2286.687891</td>\n",
       "    </tr>\n",
       "  </tbody>\n",
       "</table>\n",
       "<p>5 rows × 37 columns</p>\n",
       "</div>"
      ],
      "text/plain": [
       "     order_id        date     payment   item_code  quantity  gift_quantity  \\\n",
       "0  1900078757  2019-06-01         COD  ZB00049340         5            0.0   \n",
       "1  1900078757  2019-06-01         COD        S113         1            0.0   \n",
       "2  1900078757  2019-06-01         COD  ZB00007426         2            0.0   \n",
       "3  1900078757  2019-06-01         COD        S101         1            0.0   \n",
       "4  1900072959  2019-06-01  GOPAY_CARD  ZB00010308         4            0.0   \n",
       "\n",
       "   unit_price_vat_excl  unit_cogs  unit_rrp_vat_excl            CreatedAt  \\\n",
       "0                 6.63       2.50               7.78  2019-06-01 00:04:00   \n",
       "1                 0.93       0.00               0.93  2019-06-01 00:04:00   \n",
       "2                 6.63       0.07               7.78  2019-06-01 00:04:00   \n",
       "3                 2.21       0.00               2.21  2019-06-01 00:04:00   \n",
       "4                19.18      11.62              33.08  2019-06-01 00:09:00   \n",
       "\n",
       "   ... week_of_year  price_difference morning  afternoon evening  \\\n",
       "0  ...           22             -1.15       0          0       0   \n",
       "1  ...           22              0.00       0          0       0   \n",
       "2  ...           22             -1.15       0          0       0   \n",
       "3  ...           22              0.00       0          0       0   \n",
       "4  ...           22            -13.90       0          0       0   \n",
       "\n",
       "  avg_sales_country_product_day total_orders total_products  \\\n",
       "0                         37.39           55            154   \n",
       "1                          1.57           55            154   \n",
       "2                         37.39           55            154   \n",
       "3                          1.57           55            154   \n",
       "4                         52.58           55            154   \n",
       "\n",
       "  average_orders_per_day average_products_per_day  \n",
       "0             965.290188              2286.687891  \n",
       "1             965.290188              2286.687891  \n",
       "2             965.290188              2286.687891  \n",
       "3             965.290188              2286.687891  \n",
       "4             965.290188              2286.687891  \n",
       "\n",
       "[5 rows x 37 columns]"
      ]
     },
     "execution_count": 3,
     "metadata": {},
     "output_type": "execute_result"
    }
   ],
   "source": [
    "df.head()"
   ]
  },
  {
   "cell_type": "code",
   "execution_count": 4,
   "id": "a76c6594-be6f-483e-8121-445b9a9157f3",
   "metadata": {
    "tags": []
   },
   "outputs": [],
   "source": [
    "# Convert 'date' and 'CreatedAt' to datetime objects\n",
    "df['date'] = pd.to_datetime(df['date'])"
   ]
  },
  {
   "cell_type": "code",
   "execution_count": 5,
   "id": "1f499414-d92a-45b9-ab79-83ecfc1845c1",
   "metadata": {
    "tags": []
   },
   "outputs": [
    {
     "data": {
      "text/plain": [
       "Index(['order_id', 'date', 'payment', 'item_code', 'quantity', 'gift_quantity',\n",
       "       'unit_price_vat_excl', 'unit_cogs', 'unit_rrp_vat_excl', 'CreatedAt',\n",
       "       'country', 'brand_id', 'name', 'group0_id', 'group0', 'category',\n",
       "       'gender', 'age', 'color', 'size', 'gross_revenue', 'profit',\n",
       "       'add_on_products', 'day_of_week', 'month_of_year', 'hour_of_day',\n",
       "       'year', 'week_of_year', 'price_difference', 'morning', 'afternoon',\n",
       "       'evening', 'avg_sales_country_product_day', 'total_orders',\n",
       "       'total_products', 'average_orders_per_day', 'average_products_per_day'],\n",
       "      dtype='object')"
      ]
     },
     "execution_count": 5,
     "metadata": {},
     "output_type": "execute_result"
    }
   ],
   "source": [
    "df.columns"
   ]
  },
  {
   "cell_type": "code",
   "execution_count": 6,
   "id": "1156906e-7cbe-4335-9a0d-a9fbfa8d4be5",
   "metadata": {
    "id": "1156906e-7cbe-4335-9a0d-a9fbfa8d4be5",
    "outputId": "e2324c90-2a8b-4cf6-f2de-ac02ad4d24b8",
    "tags": []
   },
   "outputs": [
    {
     "data": {
      "text/html": [
       "<div>\n",
       "<style scoped>\n",
       "    .dataframe tbody tr th:only-of-type {\n",
       "        vertical-align: middle;\n",
       "    }\n",
       "\n",
       "    .dataframe tbody tr th {\n",
       "        vertical-align: top;\n",
       "    }\n",
       "\n",
       "    .dataframe thead th {\n",
       "        text-align: right;\n",
       "    }\n",
       "</style>\n",
       "<table border=\"1\" class=\"dataframe\">\n",
       "  <thead>\n",
       "    <tr style=\"text-align: right;\">\n",
       "      <th></th>\n",
       "      <th>order_id</th>\n",
       "      <th>date</th>\n",
       "      <th>quantity</th>\n",
       "      <th>brand_id</th>\n",
       "      <th>group0_id</th>\n",
       "      <th>gross_revenue</th>\n",
       "      <th>add_on_products</th>\n",
       "      <th>price_difference</th>\n",
       "    </tr>\n",
       "  </thead>\n",
       "  <tbody>\n",
       "    <tr>\n",
       "      <th>0</th>\n",
       "      <td>1900078757</td>\n",
       "      <td>2019-06-01</td>\n",
       "      <td>5</td>\n",
       "      <td>84</td>\n",
       "      <td>200</td>\n",
       "      <td>33.153101</td>\n",
       "      <td>0</td>\n",
       "      <td>-1.15</td>\n",
       "    </tr>\n",
       "    <tr>\n",
       "      <th>1</th>\n",
       "      <td>1900078757</td>\n",
       "      <td>2019-06-01</td>\n",
       "      <td>1</td>\n",
       "      <td>11</td>\n",
       "      <td>999</td>\n",
       "      <td>0.929070</td>\n",
       "      <td>1</td>\n",
       "      <td>0.00</td>\n",
       "    </tr>\n",
       "    <tr>\n",
       "      <th>2</th>\n",
       "      <td>1900078757</td>\n",
       "      <td>2019-06-01</td>\n",
       "      <td>2</td>\n",
       "      <td>84</td>\n",
       "      <td>200</td>\n",
       "      <td>13.261240</td>\n",
       "      <td>0</td>\n",
       "      <td>-1.15</td>\n",
       "    </tr>\n",
       "    <tr>\n",
       "      <th>3</th>\n",
       "      <td>1900078757</td>\n",
       "      <td>2019-06-01</td>\n",
       "      <td>1</td>\n",
       "      <td>11</td>\n",
       "      <td>999</td>\n",
       "      <td>2.210078</td>\n",
       "      <td>1</td>\n",
       "      <td>0.00</td>\n",
       "    </tr>\n",
       "    <tr>\n",
       "      <th>4</th>\n",
       "      <td>1900072959</td>\n",
       "      <td>2019-06-01</td>\n",
       "      <td>4</td>\n",
       "      <td>84</td>\n",
       "      <td>200</td>\n",
       "      <td>76.730525</td>\n",
       "      <td>0</td>\n",
       "      <td>-13.90</td>\n",
       "    </tr>\n",
       "  </tbody>\n",
       "</table>\n",
       "</div>"
      ],
      "text/plain": [
       "     order_id       date  quantity  brand_id  group0_id  gross_revenue  \\\n",
       "0  1900078757 2019-06-01         5        84        200      33.153101   \n",
       "1  1900078757 2019-06-01         1        11        999       0.929070   \n",
       "2  1900078757 2019-06-01         2        84        200      13.261240   \n",
       "3  1900078757 2019-06-01         1        11        999       2.210078   \n",
       "4  1900072959 2019-06-01         4        84        200      76.730525   \n",
       "\n",
       "   add_on_products  price_difference  \n",
       "0                0             -1.15  \n",
       "1                1              0.00  \n",
       "2                0             -1.15  \n",
       "3                1              0.00  \n",
       "4                0            -13.90  "
      ]
     },
     "execution_count": 6,
     "metadata": {},
     "output_type": "execute_result"
    }
   ],
   "source": [
    "df1 = df.drop(columns=['payment', 'item_code', 'gift_quantity',\n",
    "                      'unit_price_vat_excl', 'unit_cogs', 'unit_rrp_vat_excl', 'CreatedAt','country',\n",
    "                      'name', 'group0', 'category','gender', 'age','color', 'size','year',\n",
    "                       'profit','week_of_year','morning', 'afternoon','evening', 'avg_sales_country_product_day', \n",
    "                      'total_orders','total_products', 'average_orders_per_day', 'average_products_per_day',\n",
    "                      'day_of_week','month_of_year','hour_of_day'\n",
    "                      ])\n",
    "df1.head()"
   ]
  },
  {
   "cell_type": "code",
   "execution_count": null,
   "id": "fd8e765f-3dd2-4e14-a806-5dd35d557620",
   "metadata": {
    "id": "fd8e765f-3dd2-4e14-a806-5dd35d557620"
   },
   "outputs": [],
   "source": []
  },
  {
   "cell_type": "code",
   "execution_count": 9,
   "id": "d607967c-58d6-4579-ba4a-680ba3da447e",
   "metadata": {
    "tags": []
   },
   "outputs": [
    {
     "data": {
      "text/html": [
       "<div>\n",
       "<style scoped>\n",
       "    .dataframe tbody tr th:only-of-type {\n",
       "        vertical-align: middle;\n",
       "    }\n",
       "\n",
       "    .dataframe tbody tr th {\n",
       "        vertical-align: top;\n",
       "    }\n",
       "\n",
       "    .dataframe thead th {\n",
       "        text-align: right;\n",
       "    }\n",
       "</style>\n",
       "<table border=\"1\" class=\"dataframe\">\n",
       "  <thead>\n",
       "    <tr style=\"text-align: right;\">\n",
       "      <th></th>\n",
       "      <th>order_id</th>\n",
       "      <th>date</th>\n",
       "      <th>quantity</th>\n",
       "      <th>brand_id</th>\n",
       "      <th>group0_id</th>\n",
       "      <th>gross_revenue</th>\n",
       "      <th>add_on_products</th>\n",
       "      <th>price_difference</th>\n",
       "    </tr>\n",
       "  </thead>\n",
       "  <tbody>\n",
       "    <tr>\n",
       "      <th>0</th>\n",
       "      <td>20000001</td>\n",
       "      <td>2020-01-01</td>\n",
       "      <td>3</td>\n",
       "      <td>232, 11, 232</td>\n",
       "      <td>200, 999, 200</td>\n",
       "      <td>19.211231</td>\n",
       "      <td>1</td>\n",
       "      <td>-6.12</td>\n",
       "    </tr>\n",
       "    <tr>\n",
       "      <th>1</th>\n",
       "      <td>21000001</td>\n",
       "      <td>2021-01-01</td>\n",
       "      <td>2</td>\n",
       "      <td>106, 11</td>\n",
       "      <td>300, 999</td>\n",
       "      <td>26.733279</td>\n",
       "      <td>1</td>\n",
       "      <td>-11.78</td>\n",
       "    </tr>\n",
       "    <tr>\n",
       "      <th>2</th>\n",
       "      <td>22000001</td>\n",
       "      <td>2022-01-01</td>\n",
       "      <td>1</td>\n",
       "      <td>84</td>\n",
       "      <td>200</td>\n",
       "      <td>72.267442</td>\n",
       "      <td>0</td>\n",
       "      <td>-24.01</td>\n",
       "    </tr>\n",
       "    <tr>\n",
       "      <th>3</th>\n",
       "      <td>1900072437</td>\n",
       "      <td>2019-06-01</td>\n",
       "      <td>17</td>\n",
       "      <td>84, 84, 84, 84, 84, 84, 84, 85</td>\n",
       "      <td>200, 200, 200, 200, 300, 200, 200, 300</td>\n",
       "      <td>271.605813</td>\n",
       "      <td>0</td>\n",
       "      <td>-75.13</td>\n",
       "    </tr>\n",
       "    <tr>\n",
       "      <th>4</th>\n",
       "      <td>1900072959</td>\n",
       "      <td>2019-06-01</td>\n",
       "      <td>24</td>\n",
       "      <td>84, 84, 84, 84</td>\n",
       "      <td>200, 200, 200, 200</td>\n",
       "      <td>460.383151</td>\n",
       "      <td>0</td>\n",
       "      <td>-55.60</td>\n",
       "    </tr>\n",
       "  </tbody>\n",
       "</table>\n",
       "</div>"
      ],
      "text/plain": [
       "     order_id       date  quantity                        brand_id  \\\n",
       "0    20000001 2020-01-01         3                    232, 11, 232   \n",
       "1    21000001 2021-01-01         2                         106, 11   \n",
       "2    22000001 2022-01-01         1                              84   \n",
       "3  1900072437 2019-06-01        17  84, 84, 84, 84, 84, 84, 84, 85   \n",
       "4  1900072959 2019-06-01        24                  84, 84, 84, 84   \n",
       "\n",
       "                                group0_id  gross_revenue  add_on_products  \\\n",
       "0                           200, 999, 200      19.211231                1   \n",
       "1                                300, 999      26.733279                1   \n",
       "2                                     200      72.267442                0   \n",
       "3  200, 200, 200, 200, 300, 200, 200, 300     271.605813                0   \n",
       "4                      200, 200, 200, 200     460.383151                0   \n",
       "\n",
       "   price_difference  \n",
       "0             -6.12  \n",
       "1            -11.78  \n",
       "2            -24.01  \n",
       "3            -75.13  \n",
       "4            -55.60  "
      ]
     },
     "execution_count": 9,
     "metadata": {},
     "output_type": "execute_result"
    }
   ],
   "source": [
    "# Convert brand_id and group0_id to string type\n",
    "df['brand_id'] = df['brand_id'].astype(str)\n",
    "df['group0_id'] = df['group0_id'].astype(str)\n",
    "\n",
    "# Group the data by unique order_id and date, aggregating the other columns\n",
    "df1 = df.groupby(['order_id', 'date']).agg({\n",
    "    'quantity': 'sum',\n",
    "    'brand_id': lambda x: ', '.join(x),\n",
    "    'group0_id': lambda x: ', '.join(x),\n",
    "    'gross_revenue': 'sum',\n",
    "    'add_on_products': 'sum',\n",
    "    'price_difference': 'sum'\n",
    "}).reset_index()\n",
    "\n",
    "df1.head()\n"
   ]
  },
  {
   "cell_type": "code",
   "execution_count": 10,
   "id": "54f3f4ca-7488-4813-95dc-36145ef8ca14",
   "metadata": {
    "tags": []
   },
   "outputs": [],
   "source": [
    "# Convert the date column to datetime and sort the dataframe by the date column\n",
    "df1['date'] = pd.to_datetime(df1['date'])\n",
    "df1 = df1.sort_values('date')"
   ]
  },
  {
   "cell_type": "code",
   "execution_count": 11,
   "id": "ed9e13b9-d90d-40ed-befe-1ad2381bd5b7",
   "metadata": {
    "tags": []
   },
   "outputs": [
    {
     "data": {
      "text/html": [
       "<div>\n",
       "<style scoped>\n",
       "    .dataframe tbody tr th:only-of-type {\n",
       "        vertical-align: middle;\n",
       "    }\n",
       "\n",
       "    .dataframe tbody tr th {\n",
       "        vertical-align: top;\n",
       "    }\n",
       "\n",
       "    .dataframe thead th {\n",
       "        text-align: right;\n",
       "    }\n",
       "</style>\n",
       "<table border=\"1\" class=\"dataframe\">\n",
       "  <thead>\n",
       "    <tr style=\"text-align: right;\">\n",
       "      <th></th>\n",
       "      <th>order_id</th>\n",
       "      <th>date</th>\n",
       "      <th>quantity</th>\n",
       "      <th>brand_id</th>\n",
       "      <th>group0_id</th>\n",
       "      <th>gross_revenue</th>\n",
       "      <th>add_on_products</th>\n",
       "      <th>price_difference</th>\n",
       "    </tr>\n",
       "  </thead>\n",
       "  <tbody>\n",
       "    <tr>\n",
       "      <th>0</th>\n",
       "      <td>1900079010</td>\n",
       "      <td>2019-06-01</td>\n",
       "      <td>3</td>\n",
       "      <td>85, 11, 85</td>\n",
       "      <td>100, 999, 100</td>\n",
       "      <td>265.519767</td>\n",
       "      <td>1</td>\n",
       "      <td>-113.34</td>\n",
       "    </tr>\n",
       "    <tr>\n",
       "      <th>1</th>\n",
       "      <td>1900079006</td>\n",
       "      <td>2019-06-01</td>\n",
       "      <td>5</td>\n",
       "      <td>11, 84, 84, 84, 84</td>\n",
       "      <td>999, 200, 200, 200, 200</td>\n",
       "      <td>80.658914</td>\n",
       "      <td>1</td>\n",
       "      <td>-15.96</td>\n",
       "    </tr>\n",
       "    <tr>\n",
       "      <th>2</th>\n",
       "      <td>1900080490</td>\n",
       "      <td>2019-06-01</td>\n",
       "      <td>2</td>\n",
       "      <td>85, 85</td>\n",
       "      <td>100, 100</td>\n",
       "      <td>228.329457</td>\n",
       "      <td>0</td>\n",
       "      <td>-152.22</td>\n",
       "    </tr>\n",
       "    <tr>\n",
       "      <th>3</th>\n",
       "      <td>1900078998</td>\n",
       "      <td>2019-06-01</td>\n",
       "      <td>2</td>\n",
       "      <td>11, 85</td>\n",
       "      <td>999, 200</td>\n",
       "      <td>23.384108</td>\n",
       "      <td>1</td>\n",
       "      <td>-13.39</td>\n",
       "    </tr>\n",
       "    <tr>\n",
       "      <th>4</th>\n",
       "      <td>1900078996</td>\n",
       "      <td>2019-06-01</td>\n",
       "      <td>1</td>\n",
       "      <td>84</td>\n",
       "      <td>200</td>\n",
       "      <td>45.199763</td>\n",
       "      <td>0</td>\n",
       "      <td>-13.17</td>\n",
       "    </tr>\n",
       "  </tbody>\n",
       "</table>\n",
       "</div>"
      ],
      "text/plain": [
       "     order_id       date  quantity            brand_id  \\\n",
       "0  1900079010 2019-06-01         3          85, 11, 85   \n",
       "1  1900079006 2019-06-01         5  11, 84, 84, 84, 84   \n",
       "2  1900080490 2019-06-01         2              85, 85   \n",
       "3  1900078998 2019-06-01         2              11, 85   \n",
       "4  1900078996 2019-06-01         1                  84   \n",
       "\n",
       "                 group0_id  gross_revenue  add_on_products  price_difference  \n",
       "0            100, 999, 100     265.519767                1           -113.34  \n",
       "1  999, 200, 200, 200, 200      80.658914                1            -15.96  \n",
       "2                 100, 100     228.329457                0           -152.22  \n",
       "3                 999, 200      23.384108                1            -13.39  \n",
       "4                      200      45.199763                0            -13.17  "
      ]
     },
     "execution_count": 11,
     "metadata": {},
     "output_type": "execute_result"
    }
   ],
   "source": [
    "# Reset the index\n",
    "df_reset = df1.reset_index(drop=True)\n",
    "df_reset.head()"
   ]
  },
  {
   "cell_type": "code",
   "execution_count": 6,
   "id": "3c630019-77a1-4d93-999f-800bcf0bc6ed",
   "metadata": {
    "tags": []
   },
   "outputs": [
    {
     "name": "stderr",
     "output_type": "stream",
     "text": [
      "/var/folders/zv/fr0wdk0579q6_dc92zfqx36w0000gn/T/ipykernel_27235/2212710734.py:2: FutureWarning: The default value of numeric_only in DataFrame.corr is deprecated. In a future version, it will default to False. Select only valid columns or specify the value of numeric_only to silence this warning.\n",
      "  pearson_correlations = df1.corr(method ='pearson')['gross_revenue']\n"
     ]
    },
    {
     "name": "stdout",
     "output_type": "stream",
     "text": [
      "pearson corr:\n",
      " order_id                         0.041479\n",
      "quantity                         0.125227\n",
      "gift_quantity                   -0.052651\n",
      "unit_price_vat_excl              0.974695\n",
      "unit_cogs                        0.929325\n",
      "unit_rrp_vat_excl                0.952811\n",
      "brand_id                         0.443482\n",
      "group0_id                       -0.600658\n",
      "gross_revenue                    1.000000\n",
      "profit                           0.886614\n",
      "add_on_products                 -0.537385\n",
      "day_of_week                      0.001320\n",
      "month_of_year                   -0.027842\n",
      "hour_of_day                      0.001602\n",
      "year                             0.041531\n",
      "week_of_year                    -0.028953\n",
      "price_difference                -0.599411\n",
      "morning                         -0.003775\n",
      "afternoon                        0.005381\n",
      "evening                         -0.005548\n",
      "avg_sales_country_product_day    0.643793\n",
      "total_orders                    -0.021424\n",
      "total_products                  -0.027463\n",
      "average_orders_per_day                NaN\n",
      "average_products_per_day              NaN\n",
      "Name: gross_revenue, dtype: float64\n"
     ]
    }
   ],
   "source": [
    "from scipy.stats import spearmanr\n",
    "pearson_correlations = df1.corr(method ='pearson')['gross_revenue']\n",
    "print(\"pearson corr:\\n\", pearson_correlations)"
   ]
  },
  {
   "cell_type": "code",
   "execution_count": 13,
   "id": "0c2438b1-2286-46b8-a0d6-909a78795c75",
   "metadata": {
    "tags": []
   },
   "outputs": [
    {
     "data": {
      "text/plain": [
       "Index(['order_id', 'date', 'quantity', 'brand_id', 'group0_id',\n",
       "       'gross_revenue', 'add_on_products', 'price_difference'],\n",
       "      dtype='object')"
      ]
     },
     "execution_count": 13,
     "metadata": {},
     "output_type": "execute_result"
    }
   ],
   "source": [
    "df_reset.columns"
   ]
  },
  {
   "cell_type": "code",
   "execution_count": 26,
   "id": "3f706eba-37f4-4f73-acc4-c51a0e102645",
   "metadata": {
    "tags": []
   },
   "outputs": [],
   "source": [
    "df_reset['year'] = df_reset['date'].dt.year\n",
    "df_reset['month'] = df_reset['date'].dt.month\n",
    "df_reset['day'] = df_reset['date'].dt.day"
   ]
  },
  {
   "cell_type": "code",
   "execution_count": 27,
   "id": "da17a1fc-f778-4d96-944e-996bf4f8961c",
   "metadata": {
    "id": "da17a1fc-f778-4d96-944e-996bf4f8961c",
    "tags": []
   },
   "outputs": [],
   "source": [
    "# Define the features (X) and the target variable (y)\n",
    "X = df_reset.drop(columns=['order_id', 'date', 'quantity'])\n",
    "y = df_reset['gross_revenue']"
   ]
  },
  {
   "cell_type": "code",
   "execution_count": 28,
   "id": "04b859b3-e5e1-4475-9a22-20b55b73898b",
   "metadata": {
    "id": "04b859b3-e5e1-4475-9a22-20b55b73898b",
    "tags": []
   },
   "outputs": [],
   "source": [
    "# Split the data into training and testing sets\n",
    "X_train, X_test, y_train, y_test = train_test_split(X, y, test_size=0.2, random_state=42)"
   ]
  },
  {
   "cell_type": "code",
   "execution_count": 29,
   "id": "958a7218-9e60-4ff0-8e86-3e7782655d4b",
   "metadata": {
    "id": "958a7218-9e60-4ff0-8e86-3e7782655d4b",
    "tags": []
   },
   "outputs": [],
   "source": [
    "# Define the lists of numeric, categorical, binary, and cyclical features\n",
    "numeric_features = ['price_difference']\n",
    "categorical_features = ['brand_id', 'group0_id','year', 'month', 'day'] \n",
    "binary_features = ['add_on_products']"
   ]
  },
  {
   "cell_type": "code",
   "execution_count": 30,
   "id": "7e167c1d-29b6-4c73-b3a3-4754be60c37c",
   "metadata": {
    "id": "7e167c1d-29b6-4c73-b3a3-4754be60c37c",
    "tags": []
   },
   "outputs": [],
   "source": [
    "# Create transformers for numeric, categorical, binary, and cyclical features\n",
    "numeric_transformer = StandardScaler()\n",
    "categorical_transformer = OneHotEncoder(handle_unknown='ignore')\n",
    "binary_transformer = 'passthrough'\n",
    "\n",
    "# Create a column transformer that applies the appropriate transformations to each feature subset\n",
    "preprocessor = ColumnTransformer(\n",
    "    transformers=[\n",
    "        ('num', numeric_transformer, numeric_features),\n",
    "        ('cat', categorical_transformer, categorical_features),\n",
    "        ('bin', binary_transformer, binary_features)])"
   ]
  },
  {
   "cell_type": "code",
   "execution_count": 31,
   "id": "29efb1c5-9531-4835-ae6d-e0218f3c1364",
   "metadata": {
    "id": "29efb1c5-9531-4835-ae6d-e0218f3c1364",
    "tags": []
   },
   "outputs": [],
   "source": [
    "# Create a baseline model (mean of the target variable)\n",
    "y_baseline = np.mean(y_train)"
   ]
  },
  {
   "cell_type": "code",
   "execution_count": 32,
   "id": "c5115dc9-149e-42c6-a64a-4612a6f55605",
   "metadata": {
    "id": "c5115dc9-149e-42c6-a64a-4612a6f55605"
   },
   "outputs": [
    {
     "data": {
      "text/html": [
       "<div>\n",
       "<style scoped>\n",
       "    .dataframe tbody tr th:only-of-type {\n",
       "        vertical-align: middle;\n",
       "    }\n",
       "\n",
       "    .dataframe tbody tr th {\n",
       "        vertical-align: top;\n",
       "    }\n",
       "\n",
       "    .dataframe thead th {\n",
       "        text-align: right;\n",
       "    }\n",
       "</style>\n",
       "<table border=\"1\" class=\"dataframe\">\n",
       "  <thead>\n",
       "    <tr style=\"text-align: right;\">\n",
       "      <th></th>\n",
       "      <th>brand_id</th>\n",
       "      <th>group0_id</th>\n",
       "      <th>gross_revenue</th>\n",
       "      <th>add_on_products</th>\n",
       "      <th>price_difference</th>\n",
       "      <th>year</th>\n",
       "      <th>month</th>\n",
       "      <th>day</th>\n",
       "    </tr>\n",
       "  </thead>\n",
       "  <tbody>\n",
       "    <tr>\n",
       "      <th>482948</th>\n",
       "      <td>11, 11, 86</td>\n",
       "      <td>999, 999, 100</td>\n",
       "      <td>45.650473</td>\n",
       "      <td>2</td>\n",
       "      <td>-14.82</td>\n",
       "      <td>2021</td>\n",
       "      <td>2</td>\n",
       "      <td>6</td>\n",
       "    </tr>\n",
       "    <tr>\n",
       "      <th>815456</th>\n",
       "      <td>84, 84, 84, 84</td>\n",
       "      <td>200, 200, 200, 200</td>\n",
       "      <td>81.908139</td>\n",
       "      <td>0</td>\n",
       "      <td>-20.16</td>\n",
       "      <td>2021</td>\n",
       "      <td>11</td>\n",
       "      <td>19</td>\n",
       "    </tr>\n",
       "    <tr>\n",
       "      <th>294434</th>\n",
       "      <td>11, 106</td>\n",
       "      <td>999, 300</td>\n",
       "      <td>28.011308</td>\n",
       "      <td>1</td>\n",
       "      <td>0.00</td>\n",
       "      <td>2020</td>\n",
       "      <td>8</td>\n",
       "      <td>3</td>\n",
       "    </tr>\n",
       "    <tr>\n",
       "      <th>210750</th>\n",
       "      <td>11, 11, 84</td>\n",
       "      <td>999, 999, 300</td>\n",
       "      <td>19.764341</td>\n",
       "      <td>2</td>\n",
       "      <td>0.00</td>\n",
       "      <td>2020</td>\n",
       "      <td>3</td>\n",
       "      <td>29</td>\n",
       "    </tr>\n",
       "    <tr>\n",
       "      <th>569081</th>\n",
       "      <td>11, 11, 106</td>\n",
       "      <td>999, 999, 100</td>\n",
       "      <td>46.543798</td>\n",
       "      <td>2</td>\n",
       "      <td>-4.31</td>\n",
       "      <td>2021</td>\n",
       "      <td>4</td>\n",
       "      <td>16</td>\n",
       "    </tr>\n",
       "  </tbody>\n",
       "</table>\n",
       "</div>"
      ],
      "text/plain": [
       "              brand_id           group0_id  gross_revenue  add_on_products  \\\n",
       "482948      11, 11, 86       999, 999, 100      45.650473                2   \n",
       "815456  84, 84, 84, 84  200, 200, 200, 200      81.908139                0   \n",
       "294434         11, 106            999, 300      28.011308                1   \n",
       "210750      11, 11, 84       999, 999, 300      19.764341                2   \n",
       "569081     11, 11, 106       999, 999, 100      46.543798                2   \n",
       "\n",
       "        price_difference  year  month  day  \n",
       "482948            -14.82  2021      2    6  \n",
       "815456            -20.16  2021     11   19  \n",
       "294434              0.00  2020      8    3  \n",
       "210750              0.00  2020      3   29  \n",
       "569081             -4.31  2021      4   16  "
      ]
     },
     "execution_count": 32,
     "metadata": {},
     "output_type": "execute_result"
    }
   ],
   "source": [
    "X_train.head()"
   ]
  },
  {
   "cell_type": "markdown",
   "id": "40ae7a5e-0465-4ff5-9afd-946841374d67",
   "metadata": {
    "id": "40ae7a5e-0465-4ff5-9afd-946841374d67"
   },
   "source": [
    "- Linear Regression Model"
   ]
  },
  {
   "cell_type": "code",
   "execution_count": 33,
   "id": "cc51231e-c6d0-489f-962f-bcecc7fab133",
   "metadata": {
    "id": "cc51231e-c6d0-489f-962f-bcecc7fab133",
    "outputId": "b363c9b7-3218-47e5-de30-063d36fae865",
    "tags": []
   },
   "outputs": [
    {
     "name": "stdout",
     "output_type": "stream",
     "text": [
      "Linear Regression Mean Squared Error: 1711.6035133198932\n",
      "Baseline Model Mean Squared Error: 3481.813810487228\n"
     ]
    }
   ],
   "source": [
    "# Create a pipeline with the preprocessor and the linear regression model\n",
    "lr_pipeline = Pipeline(steps=[('preprocessor', preprocessor),\n",
    "                              ('regressor', LinearRegression())])\n",
    "\n",
    "# Train and evaluate the models\n",
    "pipelines = [lr_pipeline]\n",
    "model_names = ['Linear Regression']\n",
    "\n",
    "for pipeline, model_name in zip(pipelines, model_names):\n",
    "    # Train the model\n",
    "    pipeline.fit(X_train, y_train)\n",
    "    \n",
    "    # Evaluate the model\n",
    "    y_pred = lr_pipeline.predict(X_test)\n",
    "    mse = mean_squared_error(y_test, y_pred)\n",
    "    print(f\"{model_name} Mean Squared Error: {mse}\")\n",
    "\n",
    "# Calculate the mean squared error for the baseline model\n",
    "mse_baseline = mean_squared_error(y_test, [y_baseline] * len(y_test))\n",
    "print(f\"Baseline Model Mean Squared Error: {mse_baseline}\") \n"
   ]
  },
  {
   "cell_type": "code",
   "execution_count": 34,
   "id": "56939bf7-93eb-4437-b29c-370f84dbb59b",
   "metadata": {
    "id": "56939bf7-93eb-4437-b29c-370f84dbb59b",
    "outputId": "9f6ddcf2-3031-4478-9b62-a8aad7bbd728",
    "tags": []
   },
   "outputs": [
    {
     "name": "stdout",
     "output_type": "stream",
     "text": [
      "Linear Regression:\n",
      "MAE: 23.51\n",
      "MSE: 1711.60\n",
      "RMSE: 41.37\n",
      "R2:0.51\n"
     ]
    }
   ],
   "source": [
    "mae_lr = mean_absolute_error(y_test, y_pred)\n",
    "mse_lr = mean_squared_error(y_test, y_pred)\n",
    "rmse_lr = np.sqrt(mse_lr)\n",
    "r2_lr = r2_score(y_test, y_pred)\n",
    "print(\"Linear Regression:\")\n",
    "print(f\"MAE: {mae_lr:.2f}\")\n",
    "print(f\"MSE: {mse_lr:.2f}\")\n",
    "print(f\"RMSE: {rmse_lr:.2f}\")\n",
    "print(f\"R2:{r2_lr:.2f}\")"
   ]
  },
  {
   "cell_type": "code",
   "execution_count": 37,
   "id": "ae9fe7a4-0ef9-4fe8-9fa1-bedf138004f2",
   "metadata": {
    "id": "ae9fe7a4-0ef9-4fe8-9fa1-bedf138004f2",
    "outputId": "d2e313ff-481b-45ae-affc-3df85d56d1b0",
    "tags": []
   },
   "outputs": [
    {
     "name": "stdout",
     "output_type": "stream",
     "text": [
      "Coefficients:\n",
      "                                                 feature  coefficient\n",
      "24016  cat__brand_id_85, 85, 85, 85, 84, 84, 84, 84, ...  2622.257351\n",
      "12762    cat__brand_id_135, 135, 135, 135, 135, 135, 135  2544.797772\n",
      "23960  cat__brand_id_85, 85, 85, 84, 85, 84, 84, 84, ...  2042.254444\n",
      "28131  cat__group0_id_100, 100, 100, 100, 100, 100, 3...  1781.281518\n",
      "29270  cat__group0_id_200, 200, 100, 100, 100, 200, 2...  1174.393782\n",
      "...                                                  ...          ...\n",
      "6574                       cat__brand_id_11, 84, 106, 84     0.008582\n",
      "17179                      cat__brand_id_84, 11, 84, 106    -0.007795\n",
      "26227                 cat__brand_id_88, 85, 112, 112, 11     0.006171\n",
      "4418                  cat__brand_id_11, 11, 85, 118, 118    -0.003122\n",
      "15216                    cat__brand_id_196, 196, 106, 11    -0.000037\n",
      "\n",
      "[34066 rows x 2 columns]\n"
     ]
    }
   ],
   "source": [
    "# Get the Linear Regression model from the pipeline\n",
    "lr_model = lr_pipeline.named_steps['regressor']\n",
    "\n",
    "# Get the coefficients\n",
    "coefficients = lr_model.coef_\n",
    "\n",
    "# Get the preprocessor from the pipeline\n",
    "preprocessor = lr_pipeline.named_steps['preprocessor']\n",
    "\n",
    "# Transform the training data using the preprocessor\n",
    "X_train_transformed = preprocessor.transform(X_train)\n",
    "\n",
    "# Get the feature names after preprocessing\n",
    "# This line assumes that the preprocessor is a ColumnTransformer\n",
    "feature_names = preprocessor.get_feature_names_out()\n",
    "\n",
    "# Create a DataFrame with feature names and their coefficients\n",
    "coef_df = pd.DataFrame({'feature': feature_names, 'coefficient': coefficients})\n",
    "\n",
    "# Sort the DataFrame by the absolute value of coefficients (descending order)\n",
    "coef_df['abs_coefficient'] = coef_df['coefficient'].abs()\n",
    "coef_df = coef_df.sort_values(by='abs_coefficient', ascending=False).drop(columns=['abs_coefficient'])\n",
    "\n",
    "# Display the coefficients\n",
    "print(\"Coefficients:\")\n",
    "print(coef_df)"
   ]
  },
  {
   "cell_type": "code",
   "execution_count": null,
   "id": "87cfa1da-8ac3-4514-ac6e-0c0a41f9ac7e",
   "metadata": {
    "id": "87cfa1da-8ac3-4514-ac6e-0c0a41f9ac7e"
   },
   "outputs": [],
   "source": []
  },
  {
   "cell_type": "code",
   "execution_count": null,
   "id": "8367a079-d871-4369-8276-7c7d87ab3e5b",
   "metadata": {
    "id": "8367a079-d871-4369-8276-7c7d87ab3e5b"
   },
   "outputs": [],
   "source": []
  },
  {
   "cell_type": "markdown",
   "id": "42d2c74b-6667-413e-8f0e-f22b4af9044d",
   "metadata": {
    "id": "42d2c74b-6667-413e-8f0e-f22b4af9044d"
   },
   "source": [
    "- XGBoost Model"
   ]
  },
  {
   "cell_type": "code",
   "execution_count": 38,
   "id": "b2c55c75-b0ec-45d3-931b-aa21c01c99b2",
   "metadata": {
    "id": "b2c55c75-b0ec-45d3-931b-aa21c01c99b2",
    "outputId": "ed261824-364c-4775-80cd-0e3397dd9de7",
    "tags": []
   },
   "outputs": [
    {
     "name": "stdout",
     "output_type": "stream",
     "text": [
      "Baseline Model Mean Squared Error: 3481.813810487228\n"
     ]
    }
   ],
   "source": [
    "# Create a pipeline for the XGBoost model\n",
    "xgb_pipeline = Pipeline(steps=[('preprocessor', preprocessor),\n",
    "                               ('regressor', XGBRegressor(gamma= 0.1,learning_rate= 0.2,max_depth=9,n_estimators=400, n_jobs=-1, random_state=42))])\n",
    "\n",
    "# Train and evaluate the models\n",
    "pipelines = [xgb_pipeline]\n",
    "model_names = ['xgboost']\n",
    "\n",
    "# Train and evaluate the models\n",
    "for pipeline, model_name in zip(pipelines, model_names):\n",
    "    # Train the model\n",
    "    pipeline.fit(X_train, y_train)\n",
    "    \n",
    "    # Evaluate the model\n",
    "    y_pred_xg = xgb_pipeline.predict(X_test)\n",
    "\n",
    "# Calculate the mean squared error for the baseline model\n",
    "y_baseline = y_train.mean()\n",
    "mse_baseline = mean_squared_error(y_test, [y_baseline] * len(y_test))\n",
    "print(f\"Baseline Model Mean Squared Error: {mse_baseline}\")\n"
   ]
  },
  {
   "cell_type": "code",
   "execution_count": 39,
   "id": "92b81feb-4177-4f19-ae10-6e96de274bbf",
   "metadata": {
    "id": "92b81feb-4177-4f19-ae10-6e96de274bbf",
    "outputId": "f175719d-6cd4-4eb2-bb65-75a4821088c1",
    "tags": []
   },
   "outputs": [
    {
     "name": "stdout",
     "output_type": "stream",
     "text": [
      "XGBoost :\n",
      "MAE: 20.72\n",
      "MSE: 1478.84\n",
      "RMSE: 38.46\n",
      "R2:0.58\n"
     ]
    }
   ],
   "source": [
    "# Evaluate the model\n",
    "y_pred_xg = xgb_pipeline.predict(X_test)\n",
    "mae_xg = mean_absolute_error(y_test, y_pred_xg)\n",
    "mse_xg = mean_squared_error(y_test, y_pred_xg)\n",
    "rmse_xg = np.sqrt(mse_xg)\n",
    "r2_xg = r2_score(y_test, y_pred_xg)\n",
    "print(\"XGBoost :\")\n",
    "print(f\"MAE: {mae_xg:.2f}\")\n",
    "print(f\"MSE: {mse_xg:.2f}\")\n",
    "print(f\"RMSE: {rmse_xg:.2f}\")\n",
    "print(f\"R2:{r2_xg:.2f}\")"
   ]
  },
  {
   "cell_type": "code",
   "execution_count": null,
   "id": "1a3db6cd-94a5-463c-9b13-b3fb8b03b43f",
   "metadata": {},
   "outputs": [],
   "source": [
    "XGBoost :\n",
    "MAE: 21.87\n",
    "MSE: 1578.00\n",
    "RMSE: 39.72\n",
    "R2:0.55"
   ]
  },
  {
   "cell_type": "markdown",
   "id": "d7c1e0a0-9db1-421d-b68c-f9da13e3cade",
   "metadata": {
    "id": "d7c1e0a0-9db1-421d-b68c-f9da13e3cade"
   },
   "source": [
    "- Tuning the model"
   ]
  },
  {
   "cell_type": "code",
   "execution_count": 23,
   "id": "0eb6060c-7d6f-4d80-9552-b5b47f54e5cc",
   "metadata": {
    "id": "0eb6060c-7d6f-4d80-9552-b5b47f54e5cc",
    "tags": []
   },
   "outputs": [],
   "source": [
    "xgb_param_grid = {\n",
    "    'regressor__n_estimators': [100, 200, 300,400],\n",
    "    'regressor__learning_rate': [0.01, 0.1, 0.2],\n",
    "    'regressor__max_depth': [3, 6, 9],\n",
    "    'regressor__gamma': [0, 0.1, 0.2]\n",
    "}"
   ]
  },
  {
   "cell_type": "code",
   "execution_count": 24,
   "id": "8c734afd-33f1-4fab-8650-2b08708c37f1",
   "metadata": {
    "id": "8c734afd-33f1-4fab-8650-2b08708c37f1",
    "tags": []
   },
   "outputs": [],
   "source": [
    "xgb_grid_search = GridSearchCV(xgb_pipeline, xgb_param_grid, scoring='neg_mean_squared_error',\n",
    "                               cv=3, n_jobs=-1, verbose=2)\n"
   ]
  },
  {
   "cell_type": "code",
   "execution_count": 25,
   "id": "5cad5d29-41a3-4032-8823-ad66bd637fbc",
   "metadata": {
    "id": "5cad5d29-41a3-4032-8823-ad66bd637fbc",
    "outputId": "bd8a10a0-aefa-46d7-eb51-645f7bda78d4",
    "tags": []
   },
   "outputs": [
    {
     "name": "stdout",
     "output_type": "stream",
     "text": [
      "Fitting 3 folds for each of 108 candidates, totalling 324 fits\n",
      "[CV] END regressor__gamma=0, regressor__learning_rate=0.01, regressor__max_depth=3, regressor__n_estimators=100; total time=  25.8s\n",
      "[CV] END regressor__gamma=0, regressor__learning_rate=0.01, regressor__max_depth=3, regressor__n_estimators=300; total time= 1.3min\n",
      "[CV] END regressor__gamma=0, regressor__learning_rate=0.01, regressor__max_depth=6, regressor__n_estimators=200; total time= 1.8min\n",
      "[CV] END regressor__gamma=0, regressor__learning_rate=0.01, regressor__max_depth=9, regressor__n_estimators=100; total time= 1.4min\n",
      "[CV] END regressor__gamma=0, regressor__learning_rate=0.01, regressor__max_depth=9, regressor__n_estimators=300; total time= 4.3min\n",
      "[CV] END regressor__gamma=0, regressor__learning_rate=0.1, regressor__max_depth=3, regressor__n_estimators=300; total time= 1.4min\n",
      "[CV] END regressor__gamma=0, regressor__learning_rate=0.1, regressor__max_depth=3, regressor__n_estimators=400; total time= 1.9min\n",
      "[CV] END regressor__gamma=0, regressor__learning_rate=0.1, regressor__max_depth=6, regressor__n_estimators=300; total time= 2.8min\n",
      "[CV] END regressor__gamma=0, regressor__learning_rate=0.1, regressor__max_depth=9, regressor__n_estimators=200; total time= 2.8min\n",
      "[CV] END regressor__gamma=0, regressor__learning_rate=0.2, regressor__max_depth=3, regressor__n_estimators=100; total time=  31.2s\n",
      "[CV] END regressor__gamma=0, regressor__learning_rate=0.2, regressor__max_depth=3, regressor__n_estimators=200; total time= 1.0min\n",
      "[CV] END regressor__gamma=0, regressor__learning_rate=0.2, regressor__max_depth=3, regressor__n_estimators=300; total time= 1.6min\n",
      "[CV] END regressor__gamma=0, regressor__learning_rate=0.2, regressor__max_depth=3, regressor__n_estimators=400; total time= 2.1min\n",
      "[CV] END regressor__gamma=0, regressor__learning_rate=0.2, regressor__max_depth=6, regressor__n_estimators=300; total time= 2.9min\n",
      "[CV] END regressor__gamma=0, regressor__learning_rate=0.2, regressor__max_depth=9, regressor__n_estimators=200; total time= 3.0min\n",
      "[CV] END regressor__gamma=0, regressor__learning_rate=0.2, regressor__max_depth=9, regressor__n_estimators=400; total time= 6.2min\n",
      "[CV] END regressor__gamma=0.1, regressor__learning_rate=0.01, regressor__max_depth=6, regressor__n_estimators=400; total time= 4.4min\n",
      "[CV] END regressor__gamma=0.1, regressor__learning_rate=0.01, regressor__max_depth=9, regressor__n_estimators=300; total time= 4.7min\n",
      "[CV] END regressor__gamma=0.1, regressor__learning_rate=0.1, regressor__max_depth=3, regressor__n_estimators=400; total time= 2.0min\n",
      "[CV] END regressor__gamma=0.1, regressor__learning_rate=0.1, regressor__max_depth=6, regressor__n_estimators=200; total time= 1.9min\n",
      "[CV] END regressor__gamma=0.1, regressor__learning_rate=0.1, regressor__max_depth=9, regressor__n_estimators=100; total time= 1.5min\n",
      "[CV] END regressor__gamma=0.1, regressor__learning_rate=0.1, regressor__max_depth=9, regressor__n_estimators=200; total time= 2.9min\n",
      "[CV] END regressor__gamma=0.1, regressor__learning_rate=0.2, regressor__max_depth=3, regressor__n_estimators=100; total time=  32.1s\n",
      "[CV] END regressor__gamma=0.1, regressor__learning_rate=0.2, regressor__max_depth=3, regressor__n_estimators=100; total time=  33.0s\n"
     ]
    },
    {
     "name": "stderr",
     "output_type": "stream",
     "text": [
      "/opt/homebrew/Caskroom/miniforge/base/lib/python3.10/site-packages/joblib/externals/loky/process_executor.py:700: UserWarning: A worker stopped while some jobs were given to the executor. This can be caused by a too short worker timeout or by a memory leak.\n",
      "  warnings.warn(\n"
     ]
    },
    {
     "name": "stdout",
     "output_type": "stream",
     "text": [
      "[CV] END regressor__gamma=0, regressor__learning_rate=0.01, regressor__max_depth=3, regressor__n_estimators=300; total time= 1.3min\n",
      "[CV] END regressor__gamma=0, regressor__learning_rate=0.01, regressor__max_depth=6, regressor__n_estimators=100; total time=  53.2s\n",
      "[CV] END regressor__gamma=0, regressor__learning_rate=0.01, regressor__max_depth=6, regressor__n_estimators=300; total time= 2.7min\n",
      "[CV] END regressor__gamma=0, regressor__learning_rate=0.01, regressor__max_depth=9, regressor__n_estimators=200; total time= 2.8min\n",
      "[CV] END regressor__gamma=0, regressor__learning_rate=0.01, regressor__max_depth=9, regressor__n_estimators=400; total time= 6.1min\n",
      "[CV] END regressor__gamma=0, regressor__learning_rate=0.1, regressor__max_depth=6, regressor__n_estimators=400; total time= 3.7min\n",
      "[CV] END regressor__gamma=0, regressor__learning_rate=0.1, regressor__max_depth=9, regressor__n_estimators=400; total time= 5.8min\n",
      "[CV] END regressor__gamma=0, regressor__learning_rate=0.2, regressor__max_depth=6, regressor__n_estimators=300; total time= 2.9min\n",
      "[CV] END regressor__gamma=0, regressor__learning_rate=0.2, regressor__max_depth=9, regressor__n_estimators=100; total time= 1.5min\n",
      "[CV] END regressor__gamma=0, regressor__learning_rate=0.2, regressor__max_depth=9, regressor__n_estimators=300; total time= 4.6min\n",
      "[CV] END regressor__gamma=0.1, regressor__learning_rate=0.01, regressor__max_depth=3, regressor__n_estimators=300; total time= 1.8min\n",
      "[CV] END regressor__gamma=0.1, regressor__learning_rate=0.01, regressor__max_depth=6, regressor__n_estimators=100; total time= 1.1min\n",
      "[CV] END regressor__gamma=0.1, regressor__learning_rate=0.01, regressor__max_depth=6, regressor__n_estimators=300; total time= 3.4min\n",
      "[CV] END regressor__gamma=0.1, regressor__learning_rate=0.01, regressor__max_depth=9, regressor__n_estimators=200; total time= 3.2min\n",
      "[CV] END regressor__gamma=0.1, regressor__learning_rate=0.1, regressor__max_depth=3, regressor__n_estimators=100; total time=  29.2s\n",
      "[CV] END regressor__gamma=0.1, regressor__learning_rate=0.1, regressor__max_depth=3, regressor__n_estimators=100; total time=  30.1s\n",
      "[CV] END regressor__gamma=0.1, regressor__learning_rate=0.1, regressor__max_depth=3, regressor__n_estimators=200; total time=  59.3s\n",
      "[CV] END regressor__gamma=0.1, regressor__learning_rate=0.1, regressor__max_depth=3, regressor__n_estimators=300; total time= 1.5min\n",
      "[CV] END regressor__gamma=0.1, regressor__learning_rate=0.1, regressor__max_depth=6, regressor__n_estimators=100; total time=  57.6s\n",
      "[CV] END regressor__gamma=0.1, regressor__learning_rate=0.1, regressor__max_depth=6, regressor__n_estimators=100; total time=  56.4s\n",
      "[CV] END regressor__gamma=0.1, regressor__learning_rate=0.1, regressor__max_depth=6, regressor__n_estimators=300; total time= 2.8min\n",
      "[CV] END regressor__gamma=0.1, regressor__learning_rate=0.1, regressor__max_depth=9, regressor__n_estimators=300; total time= 4.4min\n",
      "[CV] END regressor__gamma=0.1, regressor__learning_rate=0.2, regressor__max_depth=3, regressor__n_estimators=300; total time= 1.6min\n",
      "[CV] END regressor__gamma=0.1, regressor__learning_rate=0.2, regressor__max_depth=3, regressor__n_estimators=400; total time= 2.1min\n",
      "[CV] END regressor__gamma=0.1, regressor__learning_rate=0.2, regressor__max_depth=6, regressor__n_estimators=300; total time= 3.0min\n",
      "[CV] END regressor__gamma=0.1, regressor__learning_rate=0.2, regressor__max_depth=9, regressor__n_estimators=200; total time= 3.0min\n",
      "[CV] END regressor__gamma=0, regressor__learning_rate=0.01, regressor__max_depth=3, regressor__n_estimators=200; total time=  52.6s\n",
      "[CV] END regressor__gamma=0, regressor__learning_rate=0.01, regressor__max_depth=6, regressor__n_estimators=100; total time=  52.4s\n",
      "[CV] END regressor__gamma=0, regressor__learning_rate=0.01, regressor__max_depth=6, regressor__n_estimators=200; total time= 1.8min\n",
      "[CV] END regressor__gamma=0, regressor__learning_rate=0.01, regressor__max_depth=9, regressor__n_estimators=100; total time= 1.4min\n",
      "[CV] END regressor__gamma=0, regressor__learning_rate=0.01, regressor__max_depth=9, regressor__n_estimators=200; total time= 2.8min\n",
      "[CV] END regressor__gamma=0, regressor__learning_rate=0.1, regressor__max_depth=3, regressor__n_estimators=100; total time=  27.8s\n",
      "[CV] END regressor__gamma=0, regressor__learning_rate=0.1, regressor__max_depth=3, regressor__n_estimators=200; total time=  57.1s\n",
      "[CV] END regressor__gamma=0, regressor__learning_rate=0.1, regressor__max_depth=3, regressor__n_estimators=200; total time=  57.0s\n",
      "[CV] END regressor__gamma=0, regressor__learning_rate=0.1, regressor__max_depth=3, regressor__n_estimators=300; total time= 1.5min\n",
      "[CV] END regressor__gamma=0, regressor__learning_rate=0.1, regressor__max_depth=6, regressor__n_estimators=100; total time=  54.1s\n",
      "[CV] END regressor__gamma=0, regressor__learning_rate=0.1, regressor__max_depth=6, regressor__n_estimators=300; total time= 2.8min\n",
      "[CV] END regressor__gamma=0, regressor__learning_rate=0.1, regressor__max_depth=9, regressor__n_estimators=200; total time= 2.8min\n",
      "[CV] END regressor__gamma=0, regressor__learning_rate=0.1, regressor__max_depth=9, regressor__n_estimators=400; total time= 5.7min\n",
      "[CV] END regressor__gamma=0, regressor__learning_rate=0.2, regressor__max_depth=6, regressor__n_estimators=400; total time= 4.0min\n",
      "[CV] END regressor__gamma=0, regressor__learning_rate=0.2, regressor__max_depth=9, regressor__n_estimators=400; total time= 6.2min\n",
      "[CV] END regressor__gamma=0.1, regressor__learning_rate=0.01, regressor__max_depth=6, regressor__n_estimators=100; total time= 1.1min\n",
      "[CV] END regressor__gamma=0.1, regressor__learning_rate=0.01, regressor__max_depth=6, regressor__n_estimators=300; total time= 3.4min\n",
      "[CV] END regressor__gamma=0.1, regressor__learning_rate=0.01, regressor__max_depth=9, regressor__n_estimators=200; total time= 3.2min\n",
      "[CV] END regressor__gamma=0.1, regressor__learning_rate=0.01, regressor__max_depth=9, regressor__n_estimators=400; total time= 6.3min\n",
      "[CV] END regressor__gamma=0.1, regressor__learning_rate=0.1, regressor__max_depth=6, regressor__n_estimators=400; total time= 3.8min\n",
      "[CV] END regressor__gamma=0.1, regressor__learning_rate=0.1, regressor__max_depth=9, regressor__n_estimators=400; total time= 5.9min\n",
      "[CV] END regressor__gamma=0.1, regressor__learning_rate=0.2, regressor__max_depth=6, regressor__n_estimators=200; total time= 2.0min\n",
      "[CV] END regressor__gamma=0.1, regressor__learning_rate=0.2, regressor__max_depth=9, regressor__n_estimators=100; total time= 1.5min\n",
      "[CV] END regressor__gamma=0.1, regressor__learning_rate=0.2, regressor__max_depth=9, regressor__n_estimators=300; total time= 4.5min\n",
      "[CV] END regressor__gamma=0.2, regressor__learning_rate=0.01, regressor__max_depth=3, regressor__n_estimators=200; total time= 1.2min\n",
      "[CV] END regressor__gamma=0, regressor__learning_rate=0.01, regressor__max_depth=3, regressor__n_estimators=300; total time= 1.3min\n",
      "[CV] END regressor__gamma=0, regressor__learning_rate=0.01, regressor__max_depth=6, regressor__n_estimators=200; total time= 1.8min\n",
      "[CV] END regressor__gamma=0, regressor__learning_rate=0.01, regressor__max_depth=6, regressor__n_estimators=400; total time= 3.5min\n",
      "[CV] END regressor__gamma=0, regressor__learning_rate=0.01, regressor__max_depth=9, regressor__n_estimators=400; total time= 5.9min\n",
      "[CV] END regressor__gamma=0, regressor__learning_rate=0.1, regressor__max_depth=6, regressor__n_estimators=300; total time= 2.8min\n",
      "[CV] END regressor__gamma=0, regressor__learning_rate=0.1, regressor__max_depth=9, regressor__n_estimators=100; total time= 1.4min\n",
      "[CV] END regressor__gamma=0, regressor__learning_rate=0.1, regressor__max_depth=9, regressor__n_estimators=300; total time= 4.3min\n",
      "[CV] END regressor__gamma=0, regressor__learning_rate=0.2, regressor__max_depth=3, regressor__n_estimators=400; total time= 2.1min\n",
      "[CV] END regressor__gamma=0, regressor__learning_rate=0.2, regressor__max_depth=6, regressor__n_estimators=200; total time= 1.9min\n",
      "[CV] END regressor__gamma=0, regressor__learning_rate=0.2, regressor__max_depth=9, regressor__n_estimators=100; total time= 1.4min\n",
      "[CV] END regressor__gamma=0, regressor__learning_rate=0.2, regressor__max_depth=9, regressor__n_estimators=200; total time= 3.0min\n",
      "[CV] END regressor__gamma=0.1, regressor__learning_rate=0.01, regressor__max_depth=3, regressor__n_estimators=100; total time=  38.7s\n",
      "[CV] END regressor__gamma=0.1, regressor__learning_rate=0.01, regressor__max_depth=3, regressor__n_estimators=200; total time= 1.2min\n",
      "[CV] END regressor__gamma=0.1, regressor__learning_rate=0.01, regressor__max_depth=3, regressor__n_estimators=300; total time= 1.8min\n",
      "[CV] END regressor__gamma=0.1, regressor__learning_rate=0.01, regressor__max_depth=3, regressor__n_estimators=400; total time= 2.3min\n",
      "[CV] END regressor__gamma=0.1, regressor__learning_rate=0.01, regressor__max_depth=6, regressor__n_estimators=400; total time= 4.4min\n",
      "[CV] END regressor__gamma=0.1, regressor__learning_rate=0.01, regressor__max_depth=9, regressor__n_estimators=300; total time= 4.6min\n",
      "[CV] END regressor__gamma=0.1, regressor__learning_rate=0.1, regressor__max_depth=3, regressor__n_estimators=400; total time= 2.0min\n",
      "[CV] END regressor__gamma=0.1, regressor__learning_rate=0.1, regressor__max_depth=6, regressor__n_estimators=200; total time= 1.9min\n",
      "[CV] END regressor__gamma=0.1, regressor__learning_rate=0.1, regressor__max_depth=9, regressor__n_estimators=100; total time= 1.5min\n",
      "[CV] END regressor__gamma=0.1, regressor__learning_rate=0.1, regressor__max_depth=9, regressor__n_estimators=200; total time= 2.9min\n",
      "[CV] END regressor__gamma=0.1, regressor__learning_rate=0.1, regressor__max_depth=9, regressor__n_estimators=400; total time= 5.9min\n",
      "[CV] END regressor__gamma=0.1, regressor__learning_rate=0.2, regressor__max_depth=6, regressor__n_estimators=400; total time= 4.0min\n",
      "[CV] END regressor__gamma=0.1, regressor__learning_rate=0.2, regressor__max_depth=9, regressor__n_estimators=400; total time= 6.0min\n",
      "[CV] END regressor__gamma=0.2, regressor__learning_rate=0.01, regressor__max_depth=6, regressor__n_estimators=100; total time= 1.1min\n",
      "[CV] END regressor__gamma=0.2, regressor__learning_rate=0.01, regressor__max_depth=6, regressor__n_estimators=300; total time= 3.3min\n",
      "[CV] END regressor__gamma=0, regressor__learning_rate=0.01, regressor__max_depth=3, regressor__n_estimators=200; total time=  52.4s\n",
      "[CV] END regressor__gamma=0, regressor__learning_rate=0.01, regressor__max_depth=6, regressor__n_estimators=100; total time=  53.5s\n",
      "[CV] END regressor__gamma=0, regressor__learning_rate=0.01, regressor__max_depth=6, regressor__n_estimators=300; total time= 2.7min\n",
      "[CV] END regressor__gamma=0, regressor__learning_rate=0.01, regressor__max_depth=9, regressor__n_estimators=100; total time= 1.4min\n",
      "[CV] END regressor__gamma=0, regressor__learning_rate=0.01, regressor__max_depth=9, regressor__n_estimators=300; total time= 4.4min\n",
      "[CV] END regressor__gamma=0, regressor__learning_rate=0.1, regressor__max_depth=3, regressor__n_estimators=400; total time= 2.0min\n",
      "[CV] END regressor__gamma=0, regressor__learning_rate=0.1, regressor__max_depth=6, regressor__n_estimators=200; total time= 1.8min\n",
      "[CV] END regressor__gamma=0, regressor__learning_rate=0.1, regressor__max_depth=9, regressor__n_estimators=100; total time= 1.4min\n",
      "[CV] END regressor__gamma=0, regressor__learning_rate=0.1, regressor__max_depth=9, regressor__n_estimators=300; total time= 4.3min\n",
      "[CV] END regressor__gamma=0, regressor__learning_rate=0.2, regressor__max_depth=3, regressor__n_estimators=200; total time= 1.0min\n",
      "[CV] END regressor__gamma=0, regressor__learning_rate=0.2, regressor__max_depth=3, regressor__n_estimators=300; total time= 1.6min\n",
      "[CV] END regressor__gamma=0, regressor__learning_rate=0.2, regressor__max_depth=6, regressor__n_estimators=100; total time=  56.5s\n",
      "[CV] END regressor__gamma=0, regressor__learning_rate=0.2, regressor__max_depth=6, regressor__n_estimators=200; total time= 1.9min\n",
      "[CV] END regressor__gamma=0, regressor__learning_rate=0.2, regressor__max_depth=9, regressor__n_estimators=100; total time= 1.4min\n",
      "[CV] END regressor__gamma=0, regressor__learning_rate=0.2, regressor__max_depth=9, regressor__n_estimators=300; total time= 4.6min\n",
      "[CV] END regressor__gamma=0.1, regressor__learning_rate=0.01, regressor__max_depth=3, regressor__n_estimators=200; total time= 1.2min\n",
      "[CV] END regressor__gamma=0.1, regressor__learning_rate=0.01, regressor__max_depth=3, regressor__n_estimators=400; total time= 2.4min\n",
      "[CV] END regressor__gamma=0.1, regressor__learning_rate=0.01, regressor__max_depth=6, regressor__n_estimators=200; total time= 2.3min\n",
      "[CV] END regressor__gamma=0.1, regressor__learning_rate=0.01, regressor__max_depth=9, regressor__n_estimators=100; total time= 1.8min\n",
      "[CV] END regressor__gamma=0.1, regressor__learning_rate=0.01, regressor__max_depth=9, regressor__n_estimators=300; total time= 4.7min\n",
      "[CV] END regressor__gamma=0.1, regressor__learning_rate=0.1, regressor__max_depth=3, regressor__n_estimators=300; total time= 1.6min\n",
      "[CV] END regressor__gamma=0.1, regressor__learning_rate=0.1, regressor__max_depth=3, regressor__n_estimators=400; total time= 2.0min\n",
      "[CV] END regressor__gamma=0.1, regressor__learning_rate=0.1, regressor__max_depth=6, regressor__n_estimators=300; total time= 2.8min\n",
      "[CV] END regressor__gamma=0.1, regressor__learning_rate=0.1, regressor__max_depth=9, regressor__n_estimators=200; total time= 2.9min\n",
      "[CV] END regressor__gamma=0.1, regressor__learning_rate=0.2, regressor__max_depth=3, regressor__n_estimators=100; total time=  32.1s\n",
      "[CV] END regressor__gamma=0.1, regressor__learning_rate=0.2, regressor__max_depth=3, regressor__n_estimators=200; total time= 1.1min\n",
      "[CV] END regressor__gamma=0.1, regressor__learning_rate=0.2, regressor__max_depth=3, regressor__n_estimators=200; total time= 1.1min\n",
      "[CV] END regressor__gamma=0.1, regressor__learning_rate=0.2, regressor__max_depth=3, regressor__n_estimators=300; total time= 1.6min\n",
      "[CV] END regressor__gamma=0.1, regressor__learning_rate=0.2, regressor__max_depth=6, regressor__n_estimators=100; total time=  57.1s\n",
      "[CV] END regressor__gamma=0.1, regressor__learning_rate=0.2, regressor__max_depth=6, regressor__n_estimators=300; total time= 3.0min\n",
      "[CV] END regressor__gamma=0.1, regressor__learning_rate=0.2, regressor__max_depth=9, regressor__n_estimators=100; total time= 1.5min\n",
      "[CV] END regressor__gamma=0.1, regressor__learning_rate=0.2, regressor__max_depth=9, regressor__n_estimators=300; total time= 4.5min\n",
      "[CV] END regressor__gamma=0.2, regressor__learning_rate=0.01, regressor__max_depth=3, regressor__n_estimators=300; total time= 1.7min\n",
      "[CV] END regressor__gamma=0.2, regressor__learning_rate=0.01, regressor__max_depth=6, regressor__n_estimators=100; total time= 1.1min\n",
      "[CV] END regressor__gamma=0.2, regressor__learning_rate=0.01, regressor__max_depth=6, regressor__n_estimators=300; total time= 3.3min\n",
      "[CV] END regressor__gamma=0.2, regressor__learning_rate=0.01, regressor__max_depth=9, regressor__n_estimators=200; total time= 3.4min\n",
      "[CV] END regressor__gamma=0.2, regressor__learning_rate=0.01, regressor__max_depth=9, regressor__n_estimators=400; total time= 6.8min\n",
      "[CV] END regressor__gamma=0, regressor__learning_rate=0.01, regressor__max_depth=3, regressor__n_estimators=100; total time=  25.9s\n",
      "[CV] END regressor__gamma=0, regressor__learning_rate=0.01, regressor__max_depth=3, regressor__n_estimators=400; total time= 1.8min\n",
      "[CV] END regressor__gamma=0, regressor__learning_rate=0.01, regressor__max_depth=6, regressor__n_estimators=400; total time= 3.5min\n",
      "[CV] END regressor__gamma=0, regressor__learning_rate=0.01, regressor__max_depth=9, regressor__n_estimators=300; total time= 4.4min\n",
      "[CV] END regressor__gamma=0, regressor__learning_rate=0.1, regressor__max_depth=3, regressor__n_estimators=400; total time= 2.0min\n",
      "[CV] END regressor__gamma=0, regressor__learning_rate=0.1, regressor__max_depth=6, regressor__n_estimators=200; total time= 1.8min\n",
      "[CV] END regressor__gamma=0, regressor__learning_rate=0.1, regressor__max_depth=9, regressor__n_estimators=100; total time= 1.4min\n",
      "[CV] END regressor__gamma=0, regressor__learning_rate=0.1, regressor__max_depth=9, regressor__n_estimators=200; total time= 2.8min\n",
      "[CV] END regressor__gamma=0, regressor__learning_rate=0.2, regressor__max_depth=3, regressor__n_estimators=100; total time=  31.4s\n",
      "[CV] END regressor__gamma=0, regressor__learning_rate=0.2, regressor__max_depth=3, regressor__n_estimators=100; total time=  31.9s\n",
      "[CV] END regressor__gamma=0, regressor__learning_rate=0.2, regressor__max_depth=3, regressor__n_estimators=200; total time= 1.0min\n",
      "[CV] END regressor__gamma=0, regressor__learning_rate=0.2, regressor__max_depth=3, regressor__n_estimators=300; total time= 1.6min\n",
      "[CV] END regressor__gamma=0, regressor__learning_rate=0.2, regressor__max_depth=6, regressor__n_estimators=100; total time=  58.5s\n",
      "[CV] END regressor__gamma=0, regressor__learning_rate=0.2, regressor__max_depth=6, regressor__n_estimators=100; total time=  55.4s\n",
      "[CV] END regressor__gamma=0, regressor__learning_rate=0.2, regressor__max_depth=6, regressor__n_estimators=400; total time= 4.0min\n",
      "[CV] END regressor__gamma=0, regressor__learning_rate=0.2, regressor__max_depth=9, regressor__n_estimators=300; total time= 4.6min\n",
      "[CV] END regressor__gamma=0.1, regressor__learning_rate=0.01, regressor__max_depth=3, regressor__n_estimators=400; total time= 2.4min\n",
      "[CV] END regressor__gamma=0.1, regressor__learning_rate=0.01, regressor__max_depth=6, regressor__n_estimators=200; total time= 2.2min\n",
      "[CV] END regressor__gamma=0.1, regressor__learning_rate=0.01, regressor__max_depth=6, regressor__n_estimators=400; total time= 4.2min\n",
      "[CV] END regressor__gamma=0.1, regressor__learning_rate=0.01, regressor__max_depth=9, regressor__n_estimators=400; total time= 6.3min\n",
      "[CV] END regressor__gamma=0.1, regressor__learning_rate=0.1, regressor__max_depth=6, regressor__n_estimators=400; total time= 3.8min\n",
      "[CV] END regressor__gamma=0.1, regressor__learning_rate=0.1, regressor__max_depth=9, regressor__n_estimators=300; total time= 4.4min\n",
      "[CV] END regressor__gamma=0.1, regressor__learning_rate=0.2, regressor__max_depth=3, regressor__n_estimators=400; total time= 2.1min\n",
      "[CV] END regressor__gamma=0.1, regressor__learning_rate=0.2, regressor__max_depth=6, regressor__n_estimators=200; total time= 2.0min\n",
      "[CV] END regressor__gamma=0.1, regressor__learning_rate=0.2, regressor__max_depth=9, regressor__n_estimators=100; total time= 1.5min\n",
      "[CV] END regressor__gamma=0.1, regressor__learning_rate=0.2, regressor__max_depth=9, regressor__n_estimators=200; total time= 3.0min\n",
      "[CV] END regressor__gamma=0.2, regressor__learning_rate=0.01, regressor__max_depth=3, regressor__n_estimators=100; total time=  35.4s\n",
      "[CV] END regressor__gamma=0.2, regressor__learning_rate=0.01, regressor__max_depth=3, regressor__n_estimators=200; total time= 1.2min\n",
      "[CV] END regressor__gamma=0.2, regressor__learning_rate=0.01, regressor__max_depth=3, regressor__n_estimators=300; total time= 1.7min\n",
      "[CV] END regressor__gamma=0.2, regressor__learning_rate=0.01, regressor__max_depth=3, regressor__n_estimators=400; total time= 2.2min\n",
      "[CV] END regressor__gamma=0.2, regressor__learning_rate=0.01, regressor__max_depth=6, regressor__n_estimators=400; total time= 4.3min\n",
      "[CV] END regressor__gamma=0.2, regressor__learning_rate=0.01, regressor__max_depth=9, regressor__n_estimators=300; total time= 5.1min\n",
      "[CV] END regressor__gamma=0.2, regressor__learning_rate=0.1, regressor__max_depth=3, regressor__n_estimators=400; total time= 2.2min\n",
      "[CV] END regressor__gamma=0.2, regressor__learning_rate=0.1, regressor__max_depth=6, regressor__n_estimators=200; total time= 2.0min\n",
      "[CV] END regressor__gamma=0.2, regressor__learning_rate=0.1, regressor__max_depth=9, regressor__n_estimators=100; total time= 1.6min\n",
      "[CV] END regressor__gamma=0.2, regressor__learning_rate=0.1, regressor__max_depth=9, regressor__n_estimators=200; total time= 3.1min\n",
      "[CV] END regressor__gamma=0.2, regressor__learning_rate=0.2, regressor__max_depth=3, regressor__n_estimators=100; total time=  33.9s\n",
      "[CV] END regressor__gamma=0.2, regressor__learning_rate=0.2, regressor__max_depth=3, regressor__n_estimators=200; total time= 1.1min\n",
      "[CV] END regressor__gamma=0, regressor__learning_rate=0.01, regressor__max_depth=3, regressor__n_estimators=100; total time=  26.3s\n",
      "[CV] END regressor__gamma=0, regressor__learning_rate=0.01, regressor__max_depth=3, regressor__n_estimators=400; total time= 1.8min\n",
      "[CV] END regressor__gamma=0, regressor__learning_rate=0.01, regressor__max_depth=6, regressor__n_estimators=300; total time= 2.7min\n",
      "[CV] END regressor__gamma=0, regressor__learning_rate=0.01, regressor__max_depth=9, regressor__n_estimators=200; total time= 2.8min\n",
      "[CV] END regressor__gamma=0, regressor__learning_rate=0.1, regressor__max_depth=3, regressor__n_estimators=100; total time=  27.8s\n",
      "[CV] END regressor__gamma=0, regressor__learning_rate=0.1, regressor__max_depth=3, regressor__n_estimators=100; total time=  29.0s\n",
      "[CV] END regressor__gamma=0, regressor__learning_rate=0.1, regressor__max_depth=3, regressor__n_estimators=200; total time=  57.1s\n",
      "[CV] END regressor__gamma=0, regressor__learning_rate=0.1, regressor__max_depth=3, regressor__n_estimators=300; total time= 1.5min\n",
      "[CV] END regressor__gamma=0, regressor__learning_rate=0.1, regressor__max_depth=6, regressor__n_estimators=100; total time=  56.6s\n",
      "[CV] END regressor__gamma=0, regressor__learning_rate=0.1, regressor__max_depth=6, regressor__n_estimators=100; total time=  55.1s\n",
      "[CV] END regressor__gamma=0, regressor__learning_rate=0.1, regressor__max_depth=6, regressor__n_estimators=400; total time= 3.7min\n",
      "[CV] END regressor__gamma=0, regressor__learning_rate=0.1, regressor__max_depth=9, regressor__n_estimators=300; total time= 4.3min\n",
      "[CV] END regressor__gamma=0, regressor__learning_rate=0.2, regressor__max_depth=3, regressor__n_estimators=400; total time= 2.1min\n",
      "[CV] END regressor__gamma=0, regressor__learning_rate=0.2, regressor__max_depth=6, regressor__n_estimators=200; total time= 1.9min\n",
      "[CV] END regressor__gamma=0, regressor__learning_rate=0.2, regressor__max_depth=6, regressor__n_estimators=400; total time= 4.0min\n",
      "[CV] END regressor__gamma=0, regressor__learning_rate=0.2, regressor__max_depth=9, regressor__n_estimators=400; total time= 6.2min\n",
      "[CV] END regressor__gamma=0.1, regressor__learning_rate=0.01, regressor__max_depth=6, regressor__n_estimators=300; total time= 3.4min\n",
      "[CV] END regressor__gamma=0.1, regressor__learning_rate=0.01, regressor__max_depth=9, regressor__n_estimators=100; total time= 1.6min\n",
      "[CV] END regressor__gamma=0.1, regressor__learning_rate=0.01, regressor__max_depth=9, regressor__n_estimators=400; total time= 6.2min\n",
      "[CV] END regressor__gamma=0.1, regressor__learning_rate=0.1, regressor__max_depth=6, regressor__n_estimators=200; total time= 1.9min\n",
      "[CV] END regressor__gamma=0.1, regressor__learning_rate=0.1, regressor__max_depth=6, regressor__n_estimators=400; total time= 3.9min\n",
      "[CV] END regressor__gamma=0.1, regressor__learning_rate=0.1, regressor__max_depth=9, regressor__n_estimators=400; total time= 5.9min\n",
      "[CV] END regressor__gamma=0.1, regressor__learning_rate=0.2, regressor__max_depth=6, regressor__n_estimators=300; total time= 3.0min\n",
      "[CV] END regressor__gamma=0.1, regressor__learning_rate=0.2, regressor__max_depth=9, regressor__n_estimators=200; total time= 3.0min\n",
      "[CV] END regressor__gamma=0.1, regressor__learning_rate=0.2, regressor__max_depth=9, regressor__n_estimators=400; total time= 6.0min\n",
      "[CV] END regressor__gamma=0.2, regressor__learning_rate=0.01, regressor__max_depth=6, regressor__n_estimators=400; total time= 4.3min\n",
      "[CV] END regressor__gamma=0.2, regressor__learning_rate=0.01, regressor__max_depth=9, regressor__n_estimators=300; total time= 5.1min\n",
      "[CV] END regressor__gamma=0.2, regressor__learning_rate=0.1, regressor__max_depth=3, regressor__n_estimators=400; total time= 2.2min\n",
      "[CV] END regressor__gamma=0.2, regressor__learning_rate=0.1, regressor__max_depth=6, regressor__n_estimators=200; total time= 2.0min\n",
      "[CV] END regressor__gamma=0.2, regressor__learning_rate=0.1, regressor__max_depth=9, regressor__n_estimators=100; total time= 1.6min\n",
      "[CV] END regressor__gamma=0.2, regressor__learning_rate=0.1, regressor__max_depth=9, regressor__n_estimators=200; total time= 3.1min\n",
      "[CV] END regressor__gamma=0.2, regressor__learning_rate=0.2, regressor__max_depth=3, regressor__n_estimators=100; total time=  33.6s\n",
      "[CV] END regressor__gamma=0.2, regressor__learning_rate=0.2, regressor__max_depth=3, regressor__n_estimators=100; total time=  34.4s\n",
      "[CV] END regressor__gamma=0.2, regressor__learning_rate=0.2, regressor__max_depth=3, regressor__n_estimators=200; total time= 1.1min\n",
      "[CV] END regressor__gamma=0.2, regressor__learning_rate=0.01, regressor__max_depth=9, regressor__n_estimators=200; total time= 3.4min\n",
      "[CV] END regressor__gamma=0.2, regressor__learning_rate=0.1, regressor__max_depth=3, regressor__n_estimators=100; total time=  32.8s\n",
      "[CV] END regressor__gamma=0.2, regressor__learning_rate=0.1, regressor__max_depth=3, regressor__n_estimators=100; total time=  33.1s\n",
      "[CV] END regressor__gamma=0.2, regressor__learning_rate=0.1, regressor__max_depth=3, regressor__n_estimators=200; total time= 1.1min\n",
      "[CV] END regressor__gamma=0.2, regressor__learning_rate=0.1, regressor__max_depth=3, regressor__n_estimators=300; total time= 1.6min\n",
      "[CV] END regressor__gamma=0.2, regressor__learning_rate=0.1, regressor__max_depth=6, regressor__n_estimators=100; total time= 1.0min\n",
      "[CV] END regressor__gamma=0.2, regressor__learning_rate=0.1, regressor__max_depth=6, regressor__n_estimators=100; total time= 1.0min\n",
      "[CV] END regressor__gamma=0.2, regressor__learning_rate=0.1, regressor__max_depth=6, regressor__n_estimators=300; total time= 3.1min\n",
      "[CV] END regressor__gamma=0.2, regressor__learning_rate=0.1, regressor__max_depth=9, regressor__n_estimators=300; total time= 4.6min\n",
      "[CV] END regressor__gamma=0.2, regressor__learning_rate=0.2, regressor__max_depth=3, regressor__n_estimators=300; total time= 1.7min\n",
      "[CV] END regressor__gamma=0.2, regressor__learning_rate=0.2, regressor__max_depth=3, regressor__n_estimators=400; total time= 2.2min\n",
      "[CV] END regressor__gamma=0.2, regressor__learning_rate=0.2, regressor__max_depth=6, regressor__n_estimators=300; total time= 3.1min\n",
      "[CV] END regressor__gamma=0.2, regressor__learning_rate=0.2, regressor__max_depth=9, regressor__n_estimators=200; total time= 3.3min\n",
      "[CV] END regressor__gamma=0.2, regressor__learning_rate=0.01, regressor__max_depth=3, regressor__n_estimators=100; total time=  35.1s\n",
      "[CV] END regressor__gamma=0.2, regressor__learning_rate=0.01, regressor__max_depth=3, regressor__n_estimators=100; total time=  35.8s\n",
      "[CV] END regressor__gamma=0.2, regressor__learning_rate=0.01, regressor__max_depth=3, regressor__n_estimators=200; total time= 1.2min\n",
      "[CV] END regressor__gamma=0.2, regressor__learning_rate=0.01, regressor__max_depth=3, regressor__n_estimators=300; total time= 1.7min\n",
      "[CV] END regressor__gamma=0.2, regressor__learning_rate=0.01, regressor__max_depth=6, regressor__n_estimators=100; total time= 1.1min\n",
      "[CV] END regressor__gamma=0.2, regressor__learning_rate=0.01, regressor__max_depth=6, regressor__n_estimators=200; total time= 2.2min\n",
      "[CV] END regressor__gamma=0.2, regressor__learning_rate=0.01, regressor__max_depth=9, regressor__n_estimators=100; total time= 1.7min\n",
      "[CV] END regressor__gamma=0.2, regressor__learning_rate=0.01, regressor__max_depth=9, regressor__n_estimators=200; total time= 3.4min\n",
      "[CV] END regressor__gamma=0.2, regressor__learning_rate=0.1, regressor__max_depth=3, regressor__n_estimators=100; total time=  32.6s\n",
      "[CV] END regressor__gamma=0.2, regressor__learning_rate=0.1, regressor__max_depth=3, regressor__n_estimators=200; total time= 1.1min\n",
      "[CV] END regressor__gamma=0.2, regressor__learning_rate=0.1, regressor__max_depth=3, regressor__n_estimators=200; total time= 1.1min\n",
      "[CV] END regressor__gamma=0.2, regressor__learning_rate=0.1, regressor__max_depth=3, regressor__n_estimators=300; total time= 1.6min\n",
      "[CV] END regressor__gamma=0.2, regressor__learning_rate=0.1, regressor__max_depth=6, regressor__n_estimators=100; total time= 1.0min\n",
      "[CV] END regressor__gamma=0.2, regressor__learning_rate=0.1, regressor__max_depth=6, regressor__n_estimators=300; total time= 3.1min\n",
      "[CV] END regressor__gamma=0.2, regressor__learning_rate=0.1, regressor__max_depth=9, regressor__n_estimators=100; total time= 1.6min\n",
      "[CV] END regressor__gamma=0.2, regressor__learning_rate=0.1, regressor__max_depth=9, regressor__n_estimators=300; total time= 4.6min\n",
      "[CV] END regressor__gamma=0.2, regressor__learning_rate=0.2, regressor__max_depth=3, regressor__n_estimators=400; total time= 2.2min\n",
      "[CV] END regressor__gamma=0.2, regressor__learning_rate=0.2, regressor__max_depth=6, regressor__n_estimators=200; total time= 2.0min\n",
      "[CV] END regressor__gamma=0.2, regressor__learning_rate=0.2, regressor__max_depth=9, regressor__n_estimators=100; total time= 1.6min\n",
      "[CV] END regressor__gamma=0.2, regressor__learning_rate=0.2, regressor__max_depth=9, regressor__n_estimators=200; total time= 3.3min\n"
     ]
    },
    {
     "data": {
      "text/html": [
       "<style>#sk-container-id-1 {color: black;background-color: white;}#sk-container-id-1 pre{padding: 0;}#sk-container-id-1 div.sk-toggleable {background-color: white;}#sk-container-id-1 label.sk-toggleable__label {cursor: pointer;display: block;width: 100%;margin-bottom: 0;padding: 0.3em;box-sizing: border-box;text-align: center;}#sk-container-id-1 label.sk-toggleable__label-arrow:before {content: \"▸\";float: left;margin-right: 0.25em;color: #696969;}#sk-container-id-1 label.sk-toggleable__label-arrow:hover:before {color: black;}#sk-container-id-1 div.sk-estimator:hover label.sk-toggleable__label-arrow:before {color: black;}#sk-container-id-1 div.sk-toggleable__content {max-height: 0;max-width: 0;overflow: hidden;text-align: left;background-color: #f0f8ff;}#sk-container-id-1 div.sk-toggleable__content pre {margin: 0.2em;color: black;border-radius: 0.25em;background-color: #f0f8ff;}#sk-container-id-1 input.sk-toggleable__control:checked~div.sk-toggleable__content {max-height: 200px;max-width: 100%;overflow: auto;}#sk-container-id-1 input.sk-toggleable__control:checked~label.sk-toggleable__label-arrow:before {content: \"▾\";}#sk-container-id-1 div.sk-estimator input.sk-toggleable__control:checked~label.sk-toggleable__label {background-color: #d4ebff;}#sk-container-id-1 div.sk-label input.sk-toggleable__control:checked~label.sk-toggleable__label {background-color: #d4ebff;}#sk-container-id-1 input.sk-hidden--visually {border: 0;clip: rect(1px 1px 1px 1px);clip: rect(1px, 1px, 1px, 1px);height: 1px;margin: -1px;overflow: hidden;padding: 0;position: absolute;width: 1px;}#sk-container-id-1 div.sk-estimator {font-family: monospace;background-color: #f0f8ff;border: 1px dotted black;border-radius: 0.25em;box-sizing: border-box;margin-bottom: 0.5em;}#sk-container-id-1 div.sk-estimator:hover {background-color: #d4ebff;}#sk-container-id-1 div.sk-parallel-item::after {content: \"\";width: 100%;border-bottom: 1px solid gray;flex-grow: 1;}#sk-container-id-1 div.sk-label:hover label.sk-toggleable__label {background-color: #d4ebff;}#sk-container-id-1 div.sk-serial::before {content: \"\";position: absolute;border-left: 1px solid gray;box-sizing: border-box;top: 0;bottom: 0;left: 50%;z-index: 0;}#sk-container-id-1 div.sk-serial {display: flex;flex-direction: column;align-items: center;background-color: white;padding-right: 0.2em;padding-left: 0.2em;position: relative;}#sk-container-id-1 div.sk-item {position: relative;z-index: 1;}#sk-container-id-1 div.sk-parallel {display: flex;align-items: stretch;justify-content: center;background-color: white;position: relative;}#sk-container-id-1 div.sk-item::before, #sk-container-id-1 div.sk-parallel-item::before {content: \"\";position: absolute;border-left: 1px solid gray;box-sizing: border-box;top: 0;bottom: 0;left: 50%;z-index: -1;}#sk-container-id-1 div.sk-parallel-item {display: flex;flex-direction: column;z-index: 1;position: relative;background-color: white;}#sk-container-id-1 div.sk-parallel-item:first-child::after {align-self: flex-end;width: 50%;}#sk-container-id-1 div.sk-parallel-item:last-child::after {align-self: flex-start;width: 50%;}#sk-container-id-1 div.sk-parallel-item:only-child::after {width: 0;}#sk-container-id-1 div.sk-dashed-wrapped {border: 1px dashed gray;margin: 0 0.4em 0.5em 0.4em;box-sizing: border-box;padding-bottom: 0.4em;background-color: white;}#sk-container-id-1 div.sk-label label {font-family: monospace;font-weight: bold;display: inline-block;line-height: 1.2em;}#sk-container-id-1 div.sk-label-container {text-align: center;}#sk-container-id-1 div.sk-container {/* jupyter's `normalize.less` sets `[hidden] { display: none; }` but bootstrap.min.css set `[hidden] { display: none !important; }` so we also need the `!important` here to be able to override the default hidden behavior on the sphinx rendered scikit-learn.org. See: https://github.com/scikit-learn/scikit-learn/issues/21755 */display: inline-block !important;position: relative;}#sk-container-id-1 div.sk-text-repr-fallback {display: none;}</style><div id=\"sk-container-id-1\" class=\"sk-top-container\"><div class=\"sk-text-repr-fallback\"><pre>GridSearchCV(cv=3,\n",
       "             estimator=Pipeline(steps=[(&#x27;preprocessor&#x27;,\n",
       "                                        ColumnTransformer(transformers=[(&#x27;num&#x27;,\n",
       "                                                                         StandardScaler(),\n",
       "                                                                         [&#x27;price_difference&#x27;]),\n",
       "                                                                        (&#x27;cat&#x27;,\n",
       "                                                                         OneHotEncoder(handle_unknown=&#x27;ignore&#x27;),\n",
       "                                                                         [&#x27;brand_id&#x27;,\n",
       "                                                                          &#x27;group0_id&#x27;]),\n",
       "                                                                        (&#x27;bin&#x27;,\n",
       "                                                                         &#x27;passthrough&#x27;,\n",
       "                                                                         [&#x27;add_on_products&#x27;])])),\n",
       "                                       (&#x27;regressor&#x27;,\n",
       "                                        XGBRegressor(base_score=None,\n",
       "                                                     booster=None,\n",
       "                                                     callbacks=None,\n",
       "                                                     colsample_bylevel=None,\n",
       "                                                     co...\n",
       "                                                     min_child_weight=None,\n",
       "                                                     missing=nan,\n",
       "                                                     monotone_constraints=None,\n",
       "                                                     n_estimators=100,\n",
       "                                                     n_jobs=-1,\n",
       "                                                     num_parallel_tree=None,\n",
       "                                                     predictor=None,\n",
       "                                                     random_state=42, ...))]),\n",
       "             n_jobs=-1,\n",
       "             param_grid={&#x27;regressor__gamma&#x27;: [0, 0.1, 0.2],\n",
       "                         &#x27;regressor__learning_rate&#x27;: [0.01, 0.1, 0.2],\n",
       "                         &#x27;regressor__max_depth&#x27;: [3, 6, 9],\n",
       "                         &#x27;regressor__n_estimators&#x27;: [100, 200, 300, 400]},\n",
       "             scoring=&#x27;neg_mean_squared_error&#x27;, verbose=2)</pre><b>In a Jupyter environment, please rerun this cell to show the HTML representation or trust the notebook. <br />On GitHub, the HTML representation is unable to render, please try loading this page with nbviewer.org.</b></div><div class=\"sk-container\" hidden><div class=\"sk-item sk-dashed-wrapped\"><div class=\"sk-label-container\"><div class=\"sk-label sk-toggleable\"><input class=\"sk-toggleable__control sk-hidden--visually\" id=\"sk-estimator-id-1\" type=\"checkbox\" ><label for=\"sk-estimator-id-1\" class=\"sk-toggleable__label sk-toggleable__label-arrow\">GridSearchCV</label><div class=\"sk-toggleable__content\"><pre>GridSearchCV(cv=3,\n",
       "             estimator=Pipeline(steps=[(&#x27;preprocessor&#x27;,\n",
       "                                        ColumnTransformer(transformers=[(&#x27;num&#x27;,\n",
       "                                                                         StandardScaler(),\n",
       "                                                                         [&#x27;price_difference&#x27;]),\n",
       "                                                                        (&#x27;cat&#x27;,\n",
       "                                                                         OneHotEncoder(handle_unknown=&#x27;ignore&#x27;),\n",
       "                                                                         [&#x27;brand_id&#x27;,\n",
       "                                                                          &#x27;group0_id&#x27;]),\n",
       "                                                                        (&#x27;bin&#x27;,\n",
       "                                                                         &#x27;passthrough&#x27;,\n",
       "                                                                         [&#x27;add_on_products&#x27;])])),\n",
       "                                       (&#x27;regressor&#x27;,\n",
       "                                        XGBRegressor(base_score=None,\n",
       "                                                     booster=None,\n",
       "                                                     callbacks=None,\n",
       "                                                     colsample_bylevel=None,\n",
       "                                                     co...\n",
       "                                                     min_child_weight=None,\n",
       "                                                     missing=nan,\n",
       "                                                     monotone_constraints=None,\n",
       "                                                     n_estimators=100,\n",
       "                                                     n_jobs=-1,\n",
       "                                                     num_parallel_tree=None,\n",
       "                                                     predictor=None,\n",
       "                                                     random_state=42, ...))]),\n",
       "             n_jobs=-1,\n",
       "             param_grid={&#x27;regressor__gamma&#x27;: [0, 0.1, 0.2],\n",
       "                         &#x27;regressor__learning_rate&#x27;: [0.01, 0.1, 0.2],\n",
       "                         &#x27;regressor__max_depth&#x27;: [3, 6, 9],\n",
       "                         &#x27;regressor__n_estimators&#x27;: [100, 200, 300, 400]},\n",
       "             scoring=&#x27;neg_mean_squared_error&#x27;, verbose=2)</pre></div></div></div><div class=\"sk-parallel\"><div class=\"sk-parallel-item\"><div class=\"sk-item\"><div class=\"sk-label-container\"><div class=\"sk-label sk-toggleable\"><input class=\"sk-toggleable__control sk-hidden--visually\" id=\"sk-estimator-id-2\" type=\"checkbox\" ><label for=\"sk-estimator-id-2\" class=\"sk-toggleable__label sk-toggleable__label-arrow\">estimator: Pipeline</label><div class=\"sk-toggleable__content\"><pre>Pipeline(steps=[(&#x27;preprocessor&#x27;,\n",
       "                 ColumnTransformer(transformers=[(&#x27;num&#x27;, StandardScaler(),\n",
       "                                                  [&#x27;price_difference&#x27;]),\n",
       "                                                 (&#x27;cat&#x27;,\n",
       "                                                  OneHotEncoder(handle_unknown=&#x27;ignore&#x27;),\n",
       "                                                  [&#x27;brand_id&#x27;, &#x27;group0_id&#x27;]),\n",
       "                                                 (&#x27;bin&#x27;, &#x27;passthrough&#x27;,\n",
       "                                                  [&#x27;add_on_products&#x27;])])),\n",
       "                (&#x27;regressor&#x27;,\n",
       "                 XGBRegressor(base_score=None, booster=None, callbacks=None,\n",
       "                              colsample_bylevel=None, colsample_bynode=None,\n",
       "                              colsampl...\n",
       "                              feature_types=None, gamma=None, gpu_id=None,\n",
       "                              grow_policy=None, importance_type=None,\n",
       "                              interaction_constraints=None, learning_rate=None,\n",
       "                              max_bin=None, max_cat_threshold=None,\n",
       "                              max_cat_to_onehot=None, max_delta_step=None,\n",
       "                              max_depth=None, max_leaves=None,\n",
       "                              min_child_weight=None, missing=nan,\n",
       "                              monotone_constraints=None, n_estimators=100,\n",
       "                              n_jobs=-1, num_parallel_tree=None, predictor=None,\n",
       "                              random_state=42, ...))])</pre></div></div></div><div class=\"sk-serial\"><div class=\"sk-item\"><div class=\"sk-serial\"><div class=\"sk-item sk-dashed-wrapped\"><div class=\"sk-label-container\"><div class=\"sk-label sk-toggleable\"><input class=\"sk-toggleable__control sk-hidden--visually\" id=\"sk-estimator-id-3\" type=\"checkbox\" ><label for=\"sk-estimator-id-3\" class=\"sk-toggleable__label sk-toggleable__label-arrow\">preprocessor: ColumnTransformer</label><div class=\"sk-toggleable__content\"><pre>ColumnTransformer(transformers=[(&#x27;num&#x27;, StandardScaler(), [&#x27;price_difference&#x27;]),\n",
       "                                (&#x27;cat&#x27;, OneHotEncoder(handle_unknown=&#x27;ignore&#x27;),\n",
       "                                 [&#x27;brand_id&#x27;, &#x27;group0_id&#x27;]),\n",
       "                                (&#x27;bin&#x27;, &#x27;passthrough&#x27;, [&#x27;add_on_products&#x27;])])</pre></div></div></div><div class=\"sk-parallel\"><div class=\"sk-parallel-item\"><div class=\"sk-item\"><div class=\"sk-label-container\"><div class=\"sk-label sk-toggleable\"><input class=\"sk-toggleable__control sk-hidden--visually\" id=\"sk-estimator-id-4\" type=\"checkbox\" ><label for=\"sk-estimator-id-4\" class=\"sk-toggleable__label sk-toggleable__label-arrow\">num</label><div class=\"sk-toggleable__content\"><pre>[&#x27;price_difference&#x27;]</pre></div></div></div><div class=\"sk-serial\"><div class=\"sk-item\"><div class=\"sk-estimator sk-toggleable\"><input class=\"sk-toggleable__control sk-hidden--visually\" id=\"sk-estimator-id-5\" type=\"checkbox\" ><label for=\"sk-estimator-id-5\" class=\"sk-toggleable__label sk-toggleable__label-arrow\">StandardScaler</label><div class=\"sk-toggleable__content\"><pre>StandardScaler()</pre></div></div></div></div></div></div><div class=\"sk-parallel-item\"><div class=\"sk-item\"><div class=\"sk-label-container\"><div class=\"sk-label sk-toggleable\"><input class=\"sk-toggleable__control sk-hidden--visually\" id=\"sk-estimator-id-6\" type=\"checkbox\" ><label for=\"sk-estimator-id-6\" class=\"sk-toggleable__label sk-toggleable__label-arrow\">cat</label><div class=\"sk-toggleable__content\"><pre>[&#x27;brand_id&#x27;, &#x27;group0_id&#x27;]</pre></div></div></div><div class=\"sk-serial\"><div class=\"sk-item\"><div class=\"sk-estimator sk-toggleable\"><input class=\"sk-toggleable__control sk-hidden--visually\" id=\"sk-estimator-id-7\" type=\"checkbox\" ><label for=\"sk-estimator-id-7\" class=\"sk-toggleable__label sk-toggleable__label-arrow\">OneHotEncoder</label><div class=\"sk-toggleable__content\"><pre>OneHotEncoder(handle_unknown=&#x27;ignore&#x27;)</pre></div></div></div></div></div></div><div class=\"sk-parallel-item\"><div class=\"sk-item\"><div class=\"sk-label-container\"><div class=\"sk-label sk-toggleable\"><input class=\"sk-toggleable__control sk-hidden--visually\" id=\"sk-estimator-id-8\" type=\"checkbox\" ><label for=\"sk-estimator-id-8\" class=\"sk-toggleable__label sk-toggleable__label-arrow\">bin</label><div class=\"sk-toggleable__content\"><pre>[&#x27;add_on_products&#x27;]</pre></div></div></div><div class=\"sk-serial\"><div class=\"sk-item\"><div class=\"sk-estimator sk-toggleable\"><input class=\"sk-toggleable__control sk-hidden--visually\" id=\"sk-estimator-id-9\" type=\"checkbox\" ><label for=\"sk-estimator-id-9\" class=\"sk-toggleable__label sk-toggleable__label-arrow\">passthrough</label><div class=\"sk-toggleable__content\"><pre>passthrough</pre></div></div></div></div></div></div></div></div><div class=\"sk-item\"><div class=\"sk-estimator sk-toggleable\"><input class=\"sk-toggleable__control sk-hidden--visually\" id=\"sk-estimator-id-10\" type=\"checkbox\" ><label for=\"sk-estimator-id-10\" class=\"sk-toggleable__label sk-toggleable__label-arrow\">XGBRegressor</label><div class=\"sk-toggleable__content\"><pre>XGBRegressor(base_score=None, booster=None, callbacks=None,\n",
       "             colsample_bylevel=None, colsample_bynode=None,\n",
       "             colsample_bytree=None, early_stopping_rounds=None,\n",
       "             enable_categorical=False, eval_metric=None, feature_types=None,\n",
       "             gamma=None, gpu_id=None, grow_policy=None, importance_type=None,\n",
       "             interaction_constraints=None, learning_rate=None, max_bin=None,\n",
       "             max_cat_threshold=None, max_cat_to_onehot=None,\n",
       "             max_delta_step=None, max_depth=None, max_leaves=None,\n",
       "             min_child_weight=None, missing=nan, monotone_constraints=None,\n",
       "             n_estimators=100, n_jobs=-1, num_parallel_tree=None,\n",
       "             predictor=None, random_state=42, ...)</pre></div></div></div></div></div></div></div></div></div></div></div></div>"
      ],
      "text/plain": [
       "GridSearchCV(cv=3,\n",
       "             estimator=Pipeline(steps=[('preprocessor',\n",
       "                                        ColumnTransformer(transformers=[('num',\n",
       "                                                                         StandardScaler(),\n",
       "                                                                         ['price_difference']),\n",
       "                                                                        ('cat',\n",
       "                                                                         OneHotEncoder(handle_unknown='ignore'),\n",
       "                                                                         ['brand_id',\n",
       "                                                                          'group0_id']),\n",
       "                                                                        ('bin',\n",
       "                                                                         'passthrough',\n",
       "                                                                         ['add_on_products'])])),\n",
       "                                       ('regressor',\n",
       "                                        XGBRegressor(base_score=None,\n",
       "                                                     booster=None,\n",
       "                                                     callbacks=None,\n",
       "                                                     colsample_bylevel=None,\n",
       "                                                     co...\n",
       "                                                     min_child_weight=None,\n",
       "                                                     missing=nan,\n",
       "                                                     monotone_constraints=None,\n",
       "                                                     n_estimators=100,\n",
       "                                                     n_jobs=-1,\n",
       "                                                     num_parallel_tree=None,\n",
       "                                                     predictor=None,\n",
       "                                                     random_state=42, ...))]),\n",
       "             n_jobs=-1,\n",
       "             param_grid={'regressor__gamma': [0, 0.1, 0.2],\n",
       "                         'regressor__learning_rate': [0.01, 0.1, 0.2],\n",
       "                         'regressor__max_depth': [3, 6, 9],\n",
       "                         'regressor__n_estimators': [100, 200, 300, 400]},\n",
       "             scoring='neg_mean_squared_error', verbose=2)"
      ]
     },
     "execution_count": 25,
     "metadata": {},
     "output_type": "execute_result"
    }
   ],
   "source": [
    "xgb_grid_search.fit(X_train, y_train)"
   ]
  },
  {
   "cell_type": "code",
   "execution_count": 26,
   "id": "56452fc9-5fe9-4ff7-b697-9c1acf04d0b2",
   "metadata": {
    "id": "56452fc9-5fe9-4ff7-b697-9c1acf04d0b2",
    "tags": []
   },
   "outputs": [],
   "source": [
    "best_params = xgb_grid_search.best_params_\n",
    "best_pipeline = xgb_grid_search.best_estimator_\n"
   ]
  },
  {
   "cell_type": "code",
   "execution_count": 27,
   "id": "3c1b5851-baea-4da9-ae0c-7b53c0bf5acd",
   "metadata": {
    "id": "3c1b5851-baea-4da9-ae0c-7b53c0bf5acd",
    "tags": []
   },
   "outputs": [
    {
     "name": "stdout",
     "output_type": "stream",
     "text": [
      "Best XGBoost Mean Squared Error: 445.1097743711459\n"
     ]
    }
   ],
   "source": [
    "y_pred_best = best_pipeline.predict(X_test)\n",
    "mse_best = mean_squared_error(y_test, y_pred_best)\n",
    "print(f\"Best XGBoost Mean Squared Error: {mse_best}\")\n"
   ]
  },
  {
   "cell_type": "code",
   "execution_count": 28,
   "id": "0effc423-cf76-4b79-a79a-62b17b024d7d",
   "metadata": {
    "id": "0effc423-cf76-4b79-a79a-62b17b024d7d",
    "tags": []
   },
   "outputs": [
    {
     "name": "stdout",
     "output_type": "stream",
     "text": [
      "Best parameters found by grid search:\n",
      "regressor__gamma: 0.1\n",
      "regressor__learning_rate: 0.2\n",
      "regressor__max_depth: 9\n",
      "regressor__n_estimators: 400\n",
      "[CV] END regressor__gamma=0.2, regressor__learning_rate=0.1, regressor__max_depth=6, regressor__n_estimators=400; total time= 4.1min\n",
      "[CV] END regressor__gamma=0.2, regressor__learning_rate=0.1, regressor__max_depth=9, regressor__n_estimators=400; total time= 6.2min\n",
      "[CV] END regressor__gamma=0.2, regressor__learning_rate=0.2, regressor__max_depth=6, regressor__n_estimators=200; total time= 2.0min\n",
      "[CV] END regressor__gamma=0.2, regressor__learning_rate=0.2, regressor__max_depth=9, regressor__n_estimators=100; total time= 1.5min\n",
      "[CV] END regressor__gamma=0.2, regressor__learning_rate=0.2, regressor__max_depth=9, regressor__n_estimators=300; total time= 4.6min\n",
      "[CV] END regressor__gamma=0, regressor__learning_rate=0.01, regressor__max_depth=3, regressor__n_estimators=200; total time=  52.1s\n",
      "[CV] END regressor__gamma=0, regressor__learning_rate=0.01, regressor__max_depth=3, regressor__n_estimators=400; total time= 1.8min\n",
      "[CV] END regressor__gamma=0, regressor__learning_rate=0.01, regressor__max_depth=6, regressor__n_estimators=400; total time= 3.5min\n",
      "[CV] END regressor__gamma=0, regressor__learning_rate=0.01, regressor__max_depth=9, regressor__n_estimators=400; total time= 5.9min\n",
      "[CV] END regressor__gamma=0, regressor__learning_rate=0.1, regressor__max_depth=6, regressor__n_estimators=200; total time= 1.8min\n",
      "[CV] END regressor__gamma=0, regressor__learning_rate=0.1, regressor__max_depth=6, regressor__n_estimators=400; total time= 3.7min\n",
      "[CV] END regressor__gamma=0, regressor__learning_rate=0.1, regressor__max_depth=9, regressor__n_estimators=400; total time= 5.7min\n",
      "[CV] END regressor__gamma=0, regressor__learning_rate=0.2, regressor__max_depth=6, regressor__n_estimators=300; total time= 2.9min\n",
      "[CV] END regressor__gamma=0, regressor__learning_rate=0.2, regressor__max_depth=9, regressor__n_estimators=200; total time= 3.0min\n",
      "[CV] END regressor__gamma=0.1, regressor__learning_rate=0.01, regressor__max_depth=3, regressor__n_estimators=100; total time=  38.9s\n",
      "[CV] END regressor__gamma=0.1, regressor__learning_rate=0.01, regressor__max_depth=3, regressor__n_estimators=100; total time=  37.5s\n",
      "[CV] END regressor__gamma=0.1, regressor__learning_rate=0.01, regressor__max_depth=3, regressor__n_estimators=200; total time= 1.2min\n",
      "[CV] END regressor__gamma=0.1, regressor__learning_rate=0.01, regressor__max_depth=3, regressor__n_estimators=300; total time= 1.8min\n",
      "[CV] END regressor__gamma=0.1, regressor__learning_rate=0.01, regressor__max_depth=6, regressor__n_estimators=100; total time= 1.2min\n",
      "[CV] END regressor__gamma=0.1, regressor__learning_rate=0.01, regressor__max_depth=6, regressor__n_estimators=200; total time= 2.3min\n",
      "[CV] END regressor__gamma=0.1, regressor__learning_rate=0.01, regressor__max_depth=9, regressor__n_estimators=100; total time= 1.8min\n",
      "[CV] END regressor__gamma=0.1, regressor__learning_rate=0.01, regressor__max_depth=9, regressor__n_estimators=200; total time= 3.2min\n",
      "[CV] END regressor__gamma=0.1, regressor__learning_rate=0.1, regressor__max_depth=3, regressor__n_estimators=100; total time=  29.5s\n",
      "[CV] END regressor__gamma=0.1, regressor__learning_rate=0.1, regressor__max_depth=3, regressor__n_estimators=200; total time=  59.4s\n",
      "[CV] END regressor__gamma=0.1, regressor__learning_rate=0.1, regressor__max_depth=3, regressor__n_estimators=200; total time= 1.0min\n",
      "[CV] END regressor__gamma=0.1, regressor__learning_rate=0.1, regressor__max_depth=3, regressor__n_estimators=300; total time= 1.5min\n",
      "[CV] END regressor__gamma=0.1, regressor__learning_rate=0.1, regressor__max_depth=6, regressor__n_estimators=100; total time=  56.7s\n",
      "[CV] END regressor__gamma=0.1, regressor__learning_rate=0.1, regressor__max_depth=6, regressor__n_estimators=300; total time= 2.9min\n",
      "[CV] END regressor__gamma=0.1, regressor__learning_rate=0.1, regressor__max_depth=9, regressor__n_estimators=100; total time= 1.5min\n",
      "[CV] END regressor__gamma=0.1, regressor__learning_rate=0.1, regressor__max_depth=9, regressor__n_estimators=300; total time= 4.4min\n",
      "[CV] END regressor__gamma=0.1, regressor__learning_rate=0.2, regressor__max_depth=3, regressor__n_estimators=400; total time= 2.1min\n",
      "[CV] END regressor__gamma=0.1, regressor__learning_rate=0.2, regressor__max_depth=6, regressor__n_estimators=200; total time= 2.0min\n",
      "[CV] END regressor__gamma=0.1, regressor__learning_rate=0.2, regressor__max_depth=6, regressor__n_estimators=400; total time= 4.0min\n",
      "[CV] END regressor__gamma=0.1, regressor__learning_rate=0.2, regressor__max_depth=9, regressor__n_estimators=400; total time= 6.0min\n",
      "[CV] END regressor__gamma=0.2, regressor__learning_rate=0.01, regressor__max_depth=6, regressor__n_estimators=300; total time= 3.3min\n",
      "[CV] END regressor__gamma=0.2, regressor__learning_rate=0.01, regressor__max_depth=9, regressor__n_estimators=100; total time= 1.7min\n",
      "[CV] END regressor__gamma=0.2, regressor__learning_rate=0.01, regressor__max_depth=9, regressor__n_estimators=400; total time= 6.8min\n",
      "[CV] END regressor__gamma=0.2, regressor__learning_rate=0.1, regressor__max_depth=6, regressor__n_estimators=200; total time= 2.0min\n",
      "[CV] END regressor__gamma=0.2, regressor__learning_rate=0.1, regressor__max_depth=6, regressor__n_estimators=400; total time= 4.1min\n",
      "[CV] END regressor__gamma=0.2, regressor__learning_rate=0.1, regressor__max_depth=9, regressor__n_estimators=400; total time= 6.2min\n",
      "[CV] END regressor__gamma=0.2, regressor__learning_rate=0.2, regressor__max_depth=6, regressor__n_estimators=300; total time= 3.1min\n",
      "[CV] END regressor__gamma=0.2, regressor__learning_rate=0.2, regressor__max_depth=9, regressor__n_estimators=100; total time= 1.6min\n",
      "[CV] END regressor__gamma=0.2, regressor__learning_rate=0.2, regressor__max_depth=9, regressor__n_estimators=300; total time= 4.2min\n",
      "[CV] END regressor__gamma=0.2, regressor__learning_rate=0.2, regressor__max_depth=3, regressor__n_estimators=300; total time= 1.7min\n",
      "[CV] END regressor__gamma=0.2, regressor__learning_rate=0.2, regressor__max_depth=6, regressor__n_estimators=100; total time= 1.1min\n",
      "[CV] END regressor__gamma=0.2, regressor__learning_rate=0.2, regressor__max_depth=6, regressor__n_estimators=100; total time=  59.5s\n",
      "[CV] END regressor__gamma=0.2, regressor__learning_rate=0.2, regressor__max_depth=6, regressor__n_estimators=400; total time= 4.3min\n",
      "[CV] END regressor__gamma=0.2, regressor__learning_rate=0.2, regressor__max_depth=9, regressor__n_estimators=300; total time= 4.2min\n",
      "[CV] END regressor__gamma=0.1, regressor__learning_rate=0.2, regressor__max_depth=3, regressor__n_estimators=200; total time= 1.1min\n",
      "[CV] END regressor__gamma=0.1, regressor__learning_rate=0.2, regressor__max_depth=3, regressor__n_estimators=300; total time= 1.6min\n",
      "[CV] END regressor__gamma=0.1, regressor__learning_rate=0.2, regressor__max_depth=6, regressor__n_estimators=100; total time=  59.2s\n",
      "[CV] END regressor__gamma=0.1, regressor__learning_rate=0.2, regressor__max_depth=6, regressor__n_estimators=100; total time=  56.1s\n",
      "[CV] END regressor__gamma=0.1, regressor__learning_rate=0.2, regressor__max_depth=6, regressor__n_estimators=400; total time= 4.0min\n",
      "[CV] END regressor__gamma=0.1, regressor__learning_rate=0.2, regressor__max_depth=9, regressor__n_estimators=300; total time= 4.5min\n",
      "[CV] END regressor__gamma=0.2, regressor__learning_rate=0.01, regressor__max_depth=3, regressor__n_estimators=400; total time= 2.3min\n",
      "[CV] END regressor__gamma=0.2, regressor__learning_rate=0.01, regressor__max_depth=6, regressor__n_estimators=200; total time= 2.2min\n",
      "[CV] END regressor__gamma=0.2, regressor__learning_rate=0.01, regressor__max_depth=9, regressor__n_estimators=100; total time= 1.7min\n",
      "[CV] END regressor__gamma=0.2, regressor__learning_rate=0.01, regressor__max_depth=9, regressor__n_estimators=300; total time= 5.1min\n",
      "[CV] END regressor__gamma=0.2, regressor__learning_rate=0.1, regressor__max_depth=3, regressor__n_estimators=300; total time= 1.6min\n",
      "[CV] END regressor__gamma=0.2, regressor__learning_rate=0.1, regressor__max_depth=3, regressor__n_estimators=400; total time= 2.2min\n",
      "[CV] END regressor__gamma=0.2, regressor__learning_rate=0.1, regressor__max_depth=6, regressor__n_estimators=300; total time= 3.1min\n",
      "[CV] END regressor__gamma=0.2, regressor__learning_rate=0.1, regressor__max_depth=9, regressor__n_estimators=200; total time= 3.1min\n",
      "[CV] END regressor__gamma=0.2, regressor__learning_rate=0.1, regressor__max_depth=9, regressor__n_estimators=400; total time= 6.2min\n",
      "[CV] END regressor__gamma=0.2, regressor__learning_rate=0.2, regressor__max_depth=6, regressor__n_estimators=400; total time= 4.3min\n",
      "[CV] END regressor__gamma=0.2, regressor__learning_rate=0.2, regressor__max_depth=9, regressor__n_estimators=400; total time= 4.9min\n",
      "[CV] END regressor__gamma=0.2, regressor__learning_rate=0.01, regressor__max_depth=3, regressor__n_estimators=400; total time= 2.3min\n",
      "[CV] END regressor__gamma=0.2, regressor__learning_rate=0.01, regressor__max_depth=6, regressor__n_estimators=200; total time= 2.2min\n",
      "[CV] END regressor__gamma=0.2, regressor__learning_rate=0.01, regressor__max_depth=6, regressor__n_estimators=400; total time= 4.3min\n",
      "[CV] END regressor__gamma=0.2, regressor__learning_rate=0.01, regressor__max_depth=9, regressor__n_estimators=400; total time= 6.7min\n",
      "[CV] END regressor__gamma=0.2, regressor__learning_rate=0.1, regressor__max_depth=6, regressor__n_estimators=400; total time= 4.1min\n",
      "[CV] END regressor__gamma=0.2, regressor__learning_rate=0.1, regressor__max_depth=9, regressor__n_estimators=300; total time= 4.6min\n",
      "[CV] END regressor__gamma=0.2, regressor__learning_rate=0.2, regressor__max_depth=3, regressor__n_estimators=400; total time= 2.3min\n",
      "[CV] END regressor__gamma=0.2, regressor__learning_rate=0.2, regressor__max_depth=6, regressor__n_estimators=200; total time= 2.0min\n",
      "[CV] END regressor__gamma=0.2, regressor__learning_rate=0.2, regressor__max_depth=6, regressor__n_estimators=400; total time= 4.3min\n",
      "[CV] END regressor__gamma=0.2, regressor__learning_rate=0.2, regressor__max_depth=9, regressor__n_estimators=400; total time= 4.2min\n",
      "[CV] END regressor__gamma=0.2, regressor__learning_rate=0.2, regressor__max_depth=3, regressor__n_estimators=200; total time= 1.1min\n",
      "[CV] END regressor__gamma=0.2, regressor__learning_rate=0.2, regressor__max_depth=3, regressor__n_estimators=300; total time= 1.7min\n",
      "[CV] END regressor__gamma=0.2, regressor__learning_rate=0.2, regressor__max_depth=6, regressor__n_estimators=100; total time= 1.0min\n",
      "[CV] END regressor__gamma=0.2, regressor__learning_rate=0.2, regressor__max_depth=6, regressor__n_estimators=300; total time= 3.1min\n",
      "[CV] END regressor__gamma=0.2, regressor__learning_rate=0.2, regressor__max_depth=9, regressor__n_estimators=200; total time= 3.3min\n",
      "[CV] END regressor__gamma=0.2, regressor__learning_rate=0.2, regressor__max_depth=9, regressor__n_estimators=400; total time= 4.0min\n"
     ]
    }
   ],
   "source": [
    "best_params = xgb_grid_search.best_params_\n",
    "print(\"Best parameters found by grid search:\")\n",
    "for param, value in best_params.items():\n",
    "    print(f\"{param}: {value}\")"
   ]
  },
  {
   "cell_type": "code",
   "execution_count": 29,
   "id": "4074a538-61eb-440d-9c96-4d35171ad3bb",
   "metadata": {
    "tags": []
   },
   "outputs": [
    {
     "name": "stdout",
     "output_type": "stream",
     "text": [
      "Best XGBoost Mean Squared Error: 445.1097743711459\n",
      "MAE_best: 10.18\n",
      "RMSE_best: 21.10\n",
      "R2_best:0.75\n"
     ]
    }
   ],
   "source": [
    "mse_best = mean_squared_error(y_test, y_pred_best)\n",
    "mae_best = mean_absolute_error(y_test, y_pred_best)\n",
    "rmse_best = np.sqrt(mse_best)\n",
    "r2_best = r2_score(y_test, y_pred_best)\n",
    "print(f\"Best XGBoost Mean Squared Error: {mse_best}\")\n",
    "print(f\"MAE_best: {mae_best:.2f}\")\n",
    "print(f\"RMSE_best: {rmse_best:.2f}\")\n",
    "print(f\"R2_best:{r2_best:.2f}\")"
   ]
  },
  {
   "cell_type": "code",
   "execution_count": null,
   "id": "92d18003-34e0-4d72-a993-987bc1f0268c",
   "metadata": {},
   "outputs": [],
   "source": []
  },
  {
   "cell_type": "code",
   "execution_count": null,
   "id": "0140040c-5f12-4b4d-9a2b-c719813bfe1e",
   "metadata": {},
   "outputs": [],
   "source": []
  },
  {
   "cell_type": "code",
   "execution_count": 30,
   "id": "1c9dffa3-534b-4ff8-9b2a-438ad74af718",
   "metadata": {
    "tags": []
   },
   "outputs": [],
   "source": [
    "xgb_feature_importances = best_pipeline.named_steps[\"regressor\"].feature_importances_\n"
   ]
  },
  {
   "cell_type": "code",
   "execution_count": 32,
   "id": "176a0d63-78ed-47cd-975c-bcef9236d793",
   "metadata": {
    "tags": []
   },
   "outputs": [],
   "source": [
    "# Get the feature names after one-hot encoding\n",
    "cat_feature_names = best_pipeline.named_steps[\"preprocessor\"].named_transformers_[\"cat\"].get_feature_names_out(categorical_features)\n",
    "\n",
    "# Combine all feature names\n",
    "all_feature_names = np.concatenate([numeric_features, cat_feature_names, binary_features])\n"
   ]
  },
  {
   "cell_type": "code",
   "execution_count": 33,
   "id": "80a91487-f2ab-4812-8434-ef9b5d462731",
   "metadata": {
    "tags": []
   },
   "outputs": [],
   "source": [
    "importances_df = pd.DataFrame({\"feature\": all_feature_names, \"importance\": xgb_feature_importances})\n"
   ]
  },
  {
   "cell_type": "code",
   "execution_count": 34,
   "id": "51ba3cd9-70a2-4b75-b13b-905a165492ad",
   "metadata": {
    "tags": []
   },
   "outputs": [
    {
     "data": {
      "text/html": [
       "<div>\n",
       "<style scoped>\n",
       "    .dataframe tbody tr th:only-of-type {\n",
       "        vertical-align: middle;\n",
       "    }\n",
       "\n",
       "    .dataframe tbody tr th {\n",
       "        vertical-align: top;\n",
       "    }\n",
       "\n",
       "    .dataframe thead th {\n",
       "        text-align: right;\n",
       "    }\n",
       "</style>\n",
       "<table border=\"1\" class=\"dataframe\">\n",
       "  <thead>\n",
       "    <tr style=\"text-align: right;\">\n",
       "      <th></th>\n",
       "      <th>feature</th>\n",
       "      <th>importance</th>\n",
       "    </tr>\n",
       "  </thead>\n",
       "  <tbody>\n",
       "    <tr>\n",
       "      <th>0</th>\n",
       "      <td>price_difference</td>\n",
       "      <td>0.000539</td>\n",
       "    </tr>\n",
       "    <tr>\n",
       "      <th>1</th>\n",
       "      <td>brand_id_11</td>\n",
       "      <td>0.079690</td>\n",
       "    </tr>\n",
       "    <tr>\n",
       "      <th>2</th>\n",
       "      <td>brand_id_84</td>\n",
       "      <td>0.000950</td>\n",
       "    </tr>\n",
       "    <tr>\n",
       "      <th>3</th>\n",
       "      <td>brand_id_85</td>\n",
       "      <td>0.000942</td>\n",
       "    </tr>\n",
       "    <tr>\n",
       "      <th>4</th>\n",
       "      <td>brand_id_86</td>\n",
       "      <td>0.000437</td>\n",
       "    </tr>\n",
       "    <tr>\n",
       "      <th>5</th>\n",
       "      <td>brand_id_87</td>\n",
       "      <td>0.001947</td>\n",
       "    </tr>\n",
       "    <tr>\n",
       "      <th>6</th>\n",
       "      <td>brand_id_88</td>\n",
       "      <td>0.000258</td>\n",
       "    </tr>\n",
       "    <tr>\n",
       "      <th>7</th>\n",
       "      <td>brand_id_89</td>\n",
       "      <td>0.001266</td>\n",
       "    </tr>\n",
       "    <tr>\n",
       "      <th>8</th>\n",
       "      <td>brand_id_90</td>\n",
       "      <td>0.000252</td>\n",
       "    </tr>\n",
       "    <tr>\n",
       "      <th>9</th>\n",
       "      <td>brand_id_91</td>\n",
       "      <td>0.000052</td>\n",
       "    </tr>\n",
       "    <tr>\n",
       "      <th>10</th>\n",
       "      <td>brand_id_92</td>\n",
       "      <td>0.000551</td>\n",
       "    </tr>\n",
       "    <tr>\n",
       "      <th>11</th>\n",
       "      <td>brand_id_93</td>\n",
       "      <td>0.000939</td>\n",
       "    </tr>\n",
       "    <tr>\n",
       "      <th>12</th>\n",
       "      <td>brand_id_94</td>\n",
       "      <td>0.001008</td>\n",
       "    </tr>\n",
       "    <tr>\n",
       "      <th>13</th>\n",
       "      <td>brand_id_96</td>\n",
       "      <td>0.000002</td>\n",
       "    </tr>\n",
       "    <tr>\n",
       "      <th>14</th>\n",
       "      <td>brand_id_97</td>\n",
       "      <td>0.000094</td>\n",
       "    </tr>\n",
       "  </tbody>\n",
       "</table>\n",
       "</div>"
      ],
      "text/plain": [
       "             feature  importance\n",
       "0   price_difference    0.000539\n",
       "1        brand_id_11    0.079690\n",
       "2        brand_id_84    0.000950\n",
       "3        brand_id_85    0.000942\n",
       "4        brand_id_86    0.000437\n",
       "5        brand_id_87    0.001947\n",
       "6        brand_id_88    0.000258\n",
       "7        brand_id_89    0.001266\n",
       "8        brand_id_90    0.000252\n",
       "9        brand_id_91    0.000052\n",
       "10       brand_id_92    0.000551\n",
       "11       brand_id_93    0.000939\n",
       "12       brand_id_94    0.001008\n",
       "13       brand_id_96    0.000002\n",
       "14       brand_id_97    0.000094"
      ]
     },
     "execution_count": 34,
     "metadata": {},
     "output_type": "execute_result"
    }
   ],
   "source": [
    "importances_df.head(15)"
   ]
  },
  {
   "cell_type": "code",
   "execution_count": null,
   "id": "f9dd62bd-3400-4b1c-9035-30667b8bd4e8",
   "metadata": {},
   "outputs": [],
   "source": []
  },
  {
   "cell_type": "code",
   "execution_count": null,
   "id": "d35b806d-1636-46b6-9458-49385ca9e9fa",
   "metadata": {},
   "outputs": [],
   "source": []
  },
  {
   "cell_type": "markdown",
   "id": "f052e80b-d8c2-4dd0-972d-2cdc4169b6f6",
   "metadata": {
    "id": "f052e80b-d8c2-4dd0-972d-2cdc4169b6f6"
   },
   "source": [
    "- Random Forest Model"
   ]
  },
  {
   "cell_type": "code",
   "execution_count": 24,
   "id": "e76133dd-12a0-4921-9903-69e606a3ba92",
   "metadata": {
    "id": "e76133dd-12a0-4921-9903-69e606a3ba92",
    "outputId": "1604c2a3-6a4f-4319-eebc-e1e9b3e9b7ec",
    "tags": []
   },
   "outputs": [
    {
     "name": "stdout",
     "output_type": "stream",
     "text": [
      "Baseline Model Mean Squared Error: 3481.813810487228\n"
     ]
    }
   ],
   "source": [
    "rf_pipeline = Pipeline(steps=[('preprocessor', preprocessor),\n",
    "                              ('regressor', RandomForestRegressor(n_jobs=-1, random_state=42))])\n",
    "\n",
    "# Train and evaluate the models\n",
    "pipelines = [rf_pipeline]\n",
    "model_names = ['Random Forest']\n",
    "\n",
    "for pipeline, model_name in zip(pipelines, model_names):\n",
    "    # Train the model\n",
    "    pipeline.fit(X_train, y_train)\n",
    "    \n",
    "    # Evaluate the model\n",
    "    y_pred_rf = pipeline.predict(X_test)\n",
    "\n",
    "# Calculate the mean squared error for the baseline model\n",
    "y_baseline = y_train.mean()\n",
    "mse_baseline = mean_squared_error(y_test, [y_baseline] * len(y_test))\n",
    "print(f\"Baseline Model Mean Squared Error: {mse_baseline}\")"
   ]
  },
  {
   "cell_type": "code",
   "execution_count": 25,
   "id": "20a6c0b4-8d79-493f-adde-420d552f3caa",
   "metadata": {
    "id": "20a6c0b4-8d79-493f-adde-420d552f3caa",
    "outputId": "fe266cd7-5f27-434a-8334-e5d769c0f25d",
    "tags": []
   },
   "outputs": [
    {
     "name": "stdout",
     "output_type": "stream",
     "text": [
      "MAE: 21.39\n",
      "MSE: 1744.57\n",
      "RMSE: 41.77\n",
      "R2:0.50\n"
     ]
    }
   ],
   "source": [
    "# Evaluate the best model\n",
    "y_pred_rf = rf_pipeline.predict(X_test)\n",
    "mae_rf = mean_absolute_error(y_test, y_pred_rf)\n",
    "mse_rf = mean_squared_error(y_test, y_pred_rf)\n",
    "rmse_rf = np.sqrt(mse_rf)\n",
    "r2_rf = r2_score(y_test, y_pred_rf)\n",
    "\n",
    "print(f\"MAE: {mae_rf:.2f}\")\n",
    "print(f\"MSE: {mse_rf:.2f}\")\n",
    "print(f\"RMSE: {rmse_rf:.2f}\")\n",
    "print(f\"R2:{r2_rf:.2f}\")"
   ]
  },
  {
   "cell_type": "code",
   "execution_count": null,
   "id": "a984eac4-e24d-4433-a903-b3af9ca5494e",
   "metadata": {
    "id": "a984eac4-e24d-4433-a903-b3af9ca5494e"
   },
   "outputs": [],
   "source": []
  }
 ],
 "metadata": {
  "colab": {
   "provenance": []
  },
  "kernelspec": {
   "display_name": "Python 3 (ipykernel)",
   "language": "python",
   "name": "python3"
  },
  "language_info": {
   "codemirror_mode": {
    "name": "ipython",
    "version": 3
   },
   "file_extension": ".py",
   "mimetype": "text/x-python",
   "name": "python",
   "nbconvert_exporter": "python",
   "pygments_lexer": "ipython3",
   "version": "3.10.9"
  }
 },
 "nbformat": 4,
 "nbformat_minor": 5
}
