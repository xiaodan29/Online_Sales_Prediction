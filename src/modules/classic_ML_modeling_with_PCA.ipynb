{
 "cells": [
  {
   "cell_type": "markdown",
   "id": "2a80b207-271c-4c6e-a23f-4a9767172071",
   "metadata": {
    "id": "2a80b207-271c-4c6e-a23f-4a9767172071",
    "tags": []
   },
   "source": [
    "### Modeling"
   ]
  },
  {
   "cell_type": "code",
   "execution_count": 1,
   "id": "440f8533-09b0-4014-bf5b-dcb0744c618f",
   "metadata": {
    "executionInfo": {
     "elapsed": 3493,
     "status": "ok",
     "timestamp": 1682107871904,
     "user": {
      "displayName": "LEAH CHEN",
      "userId": "04389040899043702332"
     },
     "user_tz": 420
    },
    "id": "440f8533-09b0-4014-bf5b-dcb0744c618f",
    "tags": []
   },
   "outputs": [],
   "source": [
    "import pandas as pd\n",
    "import numpy as np\n",
    "import seaborn as sns\n",
    "import matplotlib.pyplot as plt\n",
    "from sklearn.model_selection import train_test_split\n",
    "from sklearn.model_selection import train_test_split\n",
    "from sklearn.preprocessing import StandardScaler, OneHotEncoder\n",
    "from sklearn.compose import ColumnTransformer\n",
    "from sklearn.pipeline import Pipeline\n",
    "from sklearn.linear_model import LinearRegression\n",
    "from sklearn.ensemble import RandomForestRegressor\n",
    "from xgboost import XGBRegressor\n",
    "from sklearn.metrics import mean_squared_error\n",
    "from sklearn.metrics import mean_absolute_error\n",
    "from sklearn.metrics import r2_score\n",
    "from sklearn.linear_model import Ridge, Lasso\n",
    "from xgboost import XGBRegressor\n",
    "from sklearn.model_selection import GridSearchCV\n",
    "from sklearn.decomposition import PCA\n"
   ]
  },
  {
   "cell_type": "markdown",
   "id": "nTKRPu4iH904",
   "metadata": {
    "id": "nTKRPu4iH904"
   },
   "source": [
    "- from Google Drive"
   ]
  },
  {
   "cell_type": "code",
   "execution_count": null,
   "id": "3dc11ef1-249e-4d4a-a37a-8a5690398ef2",
   "metadata": {},
   "outputs": [],
   "source": [
    "from google.colab import drive\n",
    "drive.mount('/content/drive')"
   ]
  },
  {
   "cell_type": "code",
   "execution_count": 3,
   "id": "IAjBRfFVH5Av",
   "metadata": {
    "executionInfo": {
     "elapsed": 18842,
     "status": "ok",
     "timestamp": 1682107891584,
     "user": {
      "displayName": "LEAH CHEN",
      "userId": "04389040899043702332"
     },
     "user_tz": 420
    },
    "id": "IAjBRfFVH5Av"
   },
   "outputs": [],
   "source": [
    "df = pd.read_csv('/content/drive/Othercomputers/My Mac/Final Project/Time-Series-Forecasting/data/cleaned_05_1.csv')"
   ]
  },
  {
   "cell_type": "code",
   "execution_count": null,
   "id": "D6x5ULbHH47a",
   "metadata": {
    "id": "D6x5ULbHH47a"
   },
   "outputs": [],
   "source": []
  },
  {
   "cell_type": "markdown",
   "id": "0306byS6IBgr",
   "metadata": {
    "id": "0306byS6IBgr"
   },
   "source": [
    "- from Local Computer"
   ]
  },
  {
   "cell_type": "code",
   "execution_count": 2,
   "id": "396fdf36-772a-487c-9d7a-b9c902a1c466",
   "metadata": {
    "id": "396fdf36-772a-487c-9d7a-b9c902a1c466",
    "tags": []
   },
   "outputs": [],
   "source": [
    "df = pd.read_csv('/Users/leahchen/Documents/LHL/Final Project/Time-Series-Forecasting/data/cleaned_05_1.csv')"
   ]
  },
  {
   "cell_type": "code",
   "execution_count": 3,
   "id": "f5dd495a-5030-48c7-bd3b-1d62427eb176",
   "metadata": {
    "colab": {
     "base_uri": "https://localhost:8080/",
     "height": 473
    },
    "executionInfo": {
     "elapsed": 135,
     "status": "ok",
     "timestamp": 1682107892487,
     "user": {
      "displayName": "LEAH CHEN",
      "userId": "04389040899043702332"
     },
     "user_tz": 420
    },
    "id": "f5dd495a-5030-48c7-bd3b-1d62427eb176",
    "outputId": "8becab89-5207-4c0a-a8e3-8b946056b917",
    "tags": []
   },
   "outputs": [
    {
     "data": {
      "text/html": [
       "<div>\n",
       "<style scoped>\n",
       "    .dataframe tbody tr th:only-of-type {\n",
       "        vertical-align: middle;\n",
       "    }\n",
       "\n",
       "    .dataframe tbody tr th {\n",
       "        vertical-align: top;\n",
       "    }\n",
       "\n",
       "    .dataframe thead th {\n",
       "        text-align: right;\n",
       "    }\n",
       "</style>\n",
       "<table border=\"1\" class=\"dataframe\">\n",
       "  <thead>\n",
       "    <tr style=\"text-align: right;\">\n",
       "      <th></th>\n",
       "      <th>order_id</th>\n",
       "      <th>country</th>\n",
       "      <th>CreatedAt</th>\n",
       "      <th>quantity</th>\n",
       "      <th>gift_quantity</th>\n",
       "      <th>gross_revenue</th>\n",
       "      <th>profit</th>\n",
       "      <th>day_of_week</th>\n",
       "      <th>month_of_year</th>\n",
       "      <th>hour_of_day</th>\n",
       "      <th>...</th>\n",
       "      <th>payment_CARD_CSOB</th>\n",
       "      <th>payment_CHECKOUT_CARD</th>\n",
       "      <th>payment_PAYPAL_EXPRESS</th>\n",
       "      <th>payment_CHECKOUT_APPLE</th>\n",
       "      <th>payment_CHECKOUT_BANCONTACT</th>\n",
       "      <th>payment_BANK_TRANSFER</th>\n",
       "      <th>payment_CASH</th>\n",
       "      <th>payment_CSOB_CARD</th>\n",
       "      <th>payment_INVOICE_HUF</th>\n",
       "      <th>payment_PAYPAL_IDEALO</th>\n",
       "    </tr>\n",
       "  </thead>\n",
       "  <tbody>\n",
       "    <tr>\n",
       "      <th>0</th>\n",
       "      <td>1900079010</td>\n",
       "      <td>Czech Republic</td>\n",
       "      <td>2019-06-01 06:26:00</td>\n",
       "      <td>3</td>\n",
       "      <td>0.0</td>\n",
       "      <td>265.519767</td>\n",
       "      <td>109.789535</td>\n",
       "      <td>5</td>\n",
       "      <td>6</td>\n",
       "      <td>6</td>\n",
       "      <td>...</td>\n",
       "      <td>0</td>\n",
       "      <td>0</td>\n",
       "      <td>0</td>\n",
       "      <td>0</td>\n",
       "      <td>0</td>\n",
       "      <td>0</td>\n",
       "      <td>0</td>\n",
       "      <td>0</td>\n",
       "      <td>0</td>\n",
       "      <td>0</td>\n",
       "    </tr>\n",
       "    <tr>\n",
       "      <th>1</th>\n",
       "      <td>1900079006</td>\n",
       "      <td>Czech Republic</td>\n",
       "      <td>2019-06-01 06:26:00</td>\n",
       "      <td>5</td>\n",
       "      <td>0.0</td>\n",
       "      <td>80.658914</td>\n",
       "      <td>34.230620</td>\n",
       "      <td>5</td>\n",
       "      <td>6</td>\n",
       "      <td>6</td>\n",
       "      <td>...</td>\n",
       "      <td>0</td>\n",
       "      <td>0</td>\n",
       "      <td>0</td>\n",
       "      <td>0</td>\n",
       "      <td>0</td>\n",
       "      <td>0</td>\n",
       "      <td>0</td>\n",
       "      <td>0</td>\n",
       "      <td>0</td>\n",
       "      <td>0</td>\n",
       "    </tr>\n",
       "    <tr>\n",
       "      <th>2</th>\n",
       "      <td>1900080490</td>\n",
       "      <td>Czech Republic</td>\n",
       "      <td>2019-06-01 11:57:00</td>\n",
       "      <td>2</td>\n",
       "      <td>0.0</td>\n",
       "      <td>228.329457</td>\n",
       "      <td>53.247287</td>\n",
       "      <td>5</td>\n",
       "      <td>6</td>\n",
       "      <td>11</td>\n",
       "      <td>...</td>\n",
       "      <td>1</td>\n",
       "      <td>0</td>\n",
       "      <td>0</td>\n",
       "      <td>0</td>\n",
       "      <td>0</td>\n",
       "      <td>0</td>\n",
       "      <td>0</td>\n",
       "      <td>0</td>\n",
       "      <td>0</td>\n",
       "      <td>0</td>\n",
       "    </tr>\n",
       "    <tr>\n",
       "      <th>3</th>\n",
       "      <td>1900078998</td>\n",
       "      <td>Czech Republic</td>\n",
       "      <td>2019-06-01 06:26:00</td>\n",
       "      <td>2</td>\n",
       "      <td>0.0</td>\n",
       "      <td>23.384108</td>\n",
       "      <td>11.603101</td>\n",
       "      <td>5</td>\n",
       "      <td>6</td>\n",
       "      <td>6</td>\n",
       "      <td>...</td>\n",
       "      <td>1</td>\n",
       "      <td>0</td>\n",
       "      <td>0</td>\n",
       "      <td>0</td>\n",
       "      <td>0</td>\n",
       "      <td>0</td>\n",
       "      <td>0</td>\n",
       "      <td>0</td>\n",
       "      <td>0</td>\n",
       "      <td>0</td>\n",
       "    </tr>\n",
       "    <tr>\n",
       "      <th>4</th>\n",
       "      <td>1900078996</td>\n",
       "      <td>Slovakia</td>\n",
       "      <td>2019-06-01 09:34:00</td>\n",
       "      <td>1</td>\n",
       "      <td>0.0</td>\n",
       "      <td>45.199763</td>\n",
       "      <td>17.174569</td>\n",
       "      <td>5</td>\n",
       "      <td>6</td>\n",
       "      <td>9</td>\n",
       "      <td>...</td>\n",
       "      <td>0</td>\n",
       "      <td>0</td>\n",
       "      <td>0</td>\n",
       "      <td>0</td>\n",
       "      <td>0</td>\n",
       "      <td>0</td>\n",
       "      <td>0</td>\n",
       "      <td>0</td>\n",
       "      <td>0</td>\n",
       "      <td>0</td>\n",
       "    </tr>\n",
       "  </tbody>\n",
       "</table>\n",
       "<p>5 rows × 57 columns</p>\n",
       "</div>"
      ],
      "text/plain": [
       "     order_id         country            CreatedAt  quantity  gift_quantity  \\\n",
       "0  1900079010  Czech Republic  2019-06-01 06:26:00         3            0.0   \n",
       "1  1900079006  Czech Republic  2019-06-01 06:26:00         5            0.0   \n",
       "2  1900080490  Czech Republic  2019-06-01 11:57:00         2            0.0   \n",
       "3  1900078998  Czech Republic  2019-06-01 06:26:00         2            0.0   \n",
       "4  1900078996        Slovakia  2019-06-01 09:34:00         1            0.0   \n",
       "\n",
       "   gross_revenue      profit  day_of_week  month_of_year  hour_of_day  ...  \\\n",
       "0     265.519767  109.789535            5              6            6  ...   \n",
       "1      80.658914   34.230620            5              6            6  ...   \n",
       "2     228.329457   53.247287            5              6           11  ...   \n",
       "3      23.384108   11.603101            5              6            6  ...   \n",
       "4      45.199763   17.174569            5              6            9  ...   \n",
       "\n",
       "   payment_CARD_CSOB  payment_CHECKOUT_CARD  payment_PAYPAL_EXPRESS  \\\n",
       "0                  0                      0                       0   \n",
       "1                  0                      0                       0   \n",
       "2                  1                      0                       0   \n",
       "3                  1                      0                       0   \n",
       "4                  0                      0                       0   \n",
       "\n",
       "   payment_CHECKOUT_APPLE  payment_CHECKOUT_BANCONTACT  payment_BANK_TRANSFER  \\\n",
       "0                       0                            0                      0   \n",
       "1                       0                            0                      0   \n",
       "2                       0                            0                      0   \n",
       "3                       0                            0                      0   \n",
       "4                       0                            0                      0   \n",
       "\n",
       "   payment_CASH  payment_CSOB_CARD  payment_INVOICE_HUF  payment_PAYPAL_IDEALO  \n",
       "0             0                  0                    0                      0  \n",
       "1             0                  0                    0                      0  \n",
       "2             0                  0                    0                      0  \n",
       "3             0                  0                    0                      0  \n",
       "4             0                  0                    0                      0  \n",
       "\n",
       "[5 rows x 57 columns]"
      ]
     },
     "execution_count": 3,
     "metadata": {},
     "output_type": "execute_result"
    }
   ],
   "source": [
    "df.head()"
   ]
  },
  {
   "cell_type": "code",
   "execution_count": 4,
   "id": "1156906e-7cbe-4335-9a0d-a9fbfa8d4be5",
   "metadata": {
    "colab": {
     "base_uri": "https://localhost:8080/",
     "height": 473
    },
    "executionInfo": {
     "elapsed": 1220,
     "status": "ok",
     "timestamp": 1682107896225,
     "user": {
      "displayName": "LEAH CHEN",
      "userId": "04389040899043702332"
     },
     "user_tz": 420
    },
    "id": "1156906e-7cbe-4335-9a0d-a9fbfa8d4be5",
    "outputId": "5cd71a6b-fb8e-4300-ed9a-cd8c1c41a03b",
    "tags": []
   },
   "outputs": [
    {
     "data": {
      "text/html": [
       "<div>\n",
       "<style scoped>\n",
       "    .dataframe tbody tr th:only-of-type {\n",
       "        vertical-align: middle;\n",
       "    }\n",
       "\n",
       "    .dataframe tbody tr th {\n",
       "        vertical-align: top;\n",
       "    }\n",
       "\n",
       "    .dataframe thead th {\n",
       "        text-align: right;\n",
       "    }\n",
       "</style>\n",
       "<table border=\"1\" class=\"dataframe\">\n",
       "  <thead>\n",
       "    <tr style=\"text-align: right;\">\n",
       "      <th></th>\n",
       "      <th>order_id</th>\n",
       "      <th>country</th>\n",
       "      <th>CreatedAt</th>\n",
       "      <th>quantity</th>\n",
       "      <th>gift_quantity</th>\n",
       "      <th>gross_revenue</th>\n",
       "      <th>profit</th>\n",
       "      <th>day_of_week</th>\n",
       "      <th>month_of_year</th>\n",
       "      <th>hour_of_day</th>\n",
       "      <th>...</th>\n",
       "      <th>payment_CARD_CSOB</th>\n",
       "      <th>payment_CHECKOUT_CARD</th>\n",
       "      <th>payment_PAYPAL_EXPRESS</th>\n",
       "      <th>payment_CHECKOUT_APPLE</th>\n",
       "      <th>payment_CHECKOUT_BANCONTACT</th>\n",
       "      <th>payment_BANK_TRANSFER</th>\n",
       "      <th>payment_CASH</th>\n",
       "      <th>payment_CSOB_CARD</th>\n",
       "      <th>payment_INVOICE_HUF</th>\n",
       "      <th>payment_PAYPAL_IDEALO</th>\n",
       "    </tr>\n",
       "  </thead>\n",
       "  <tbody>\n",
       "    <tr>\n",
       "      <th>0</th>\n",
       "      <td>1900079010</td>\n",
       "      <td>Czech Republic</td>\n",
       "      <td>2019-06-01 06:26:00</td>\n",
       "      <td>3</td>\n",
       "      <td>0.0</td>\n",
       "      <td>265.52</td>\n",
       "      <td>109.79</td>\n",
       "      <td>5</td>\n",
       "      <td>6</td>\n",
       "      <td>6</td>\n",
       "      <td>...</td>\n",
       "      <td>0</td>\n",
       "      <td>0</td>\n",
       "      <td>0</td>\n",
       "      <td>0</td>\n",
       "      <td>0</td>\n",
       "      <td>0</td>\n",
       "      <td>0</td>\n",
       "      <td>0</td>\n",
       "      <td>0</td>\n",
       "      <td>0</td>\n",
       "    </tr>\n",
       "    <tr>\n",
       "      <th>1</th>\n",
       "      <td>1900079006</td>\n",
       "      <td>Czech Republic</td>\n",
       "      <td>2019-06-01 06:26:00</td>\n",
       "      <td>5</td>\n",
       "      <td>0.0</td>\n",
       "      <td>80.66</td>\n",
       "      <td>34.23</td>\n",
       "      <td>5</td>\n",
       "      <td>6</td>\n",
       "      <td>6</td>\n",
       "      <td>...</td>\n",
       "      <td>0</td>\n",
       "      <td>0</td>\n",
       "      <td>0</td>\n",
       "      <td>0</td>\n",
       "      <td>0</td>\n",
       "      <td>0</td>\n",
       "      <td>0</td>\n",
       "      <td>0</td>\n",
       "      <td>0</td>\n",
       "      <td>0</td>\n",
       "    </tr>\n",
       "    <tr>\n",
       "      <th>2</th>\n",
       "      <td>1900080490</td>\n",
       "      <td>Czech Republic</td>\n",
       "      <td>2019-06-01 11:57:00</td>\n",
       "      <td>2</td>\n",
       "      <td>0.0</td>\n",
       "      <td>228.33</td>\n",
       "      <td>53.25</td>\n",
       "      <td>5</td>\n",
       "      <td>6</td>\n",
       "      <td>11</td>\n",
       "      <td>...</td>\n",
       "      <td>1</td>\n",
       "      <td>0</td>\n",
       "      <td>0</td>\n",
       "      <td>0</td>\n",
       "      <td>0</td>\n",
       "      <td>0</td>\n",
       "      <td>0</td>\n",
       "      <td>0</td>\n",
       "      <td>0</td>\n",
       "      <td>0</td>\n",
       "    </tr>\n",
       "    <tr>\n",
       "      <th>3</th>\n",
       "      <td>1900078998</td>\n",
       "      <td>Czech Republic</td>\n",
       "      <td>2019-06-01 06:26:00</td>\n",
       "      <td>2</td>\n",
       "      <td>0.0</td>\n",
       "      <td>23.38</td>\n",
       "      <td>11.60</td>\n",
       "      <td>5</td>\n",
       "      <td>6</td>\n",
       "      <td>6</td>\n",
       "      <td>...</td>\n",
       "      <td>1</td>\n",
       "      <td>0</td>\n",
       "      <td>0</td>\n",
       "      <td>0</td>\n",
       "      <td>0</td>\n",
       "      <td>0</td>\n",
       "      <td>0</td>\n",
       "      <td>0</td>\n",
       "      <td>0</td>\n",
       "      <td>0</td>\n",
       "    </tr>\n",
       "    <tr>\n",
       "      <th>4</th>\n",
       "      <td>1900078996</td>\n",
       "      <td>Slovakia</td>\n",
       "      <td>2019-06-01 09:34:00</td>\n",
       "      <td>1</td>\n",
       "      <td>0.0</td>\n",
       "      <td>45.20</td>\n",
       "      <td>17.17</td>\n",
       "      <td>5</td>\n",
       "      <td>6</td>\n",
       "      <td>9</td>\n",
       "      <td>...</td>\n",
       "      <td>0</td>\n",
       "      <td>0</td>\n",
       "      <td>0</td>\n",
       "      <td>0</td>\n",
       "      <td>0</td>\n",
       "      <td>0</td>\n",
       "      <td>0</td>\n",
       "      <td>0</td>\n",
       "      <td>0</td>\n",
       "      <td>0</td>\n",
       "    </tr>\n",
       "  </tbody>\n",
       "</table>\n",
       "<p>5 rows × 57 columns</p>\n",
       "</div>"
      ],
      "text/plain": [
       "     order_id         country            CreatedAt  quantity  gift_quantity  \\\n",
       "0  1900079010  Czech Republic  2019-06-01 06:26:00         3            0.0   \n",
       "1  1900079006  Czech Republic  2019-06-01 06:26:00         5            0.0   \n",
       "2  1900080490  Czech Republic  2019-06-01 11:57:00         2            0.0   \n",
       "3  1900078998  Czech Republic  2019-06-01 06:26:00         2            0.0   \n",
       "4  1900078996        Slovakia  2019-06-01 09:34:00         1            0.0   \n",
       "\n",
       "   gross_revenue  profit  day_of_week  month_of_year  hour_of_day  ...  \\\n",
       "0         265.52  109.79            5              6            6  ...   \n",
       "1          80.66   34.23            5              6            6  ...   \n",
       "2         228.33   53.25            5              6           11  ...   \n",
       "3          23.38   11.60            5              6            6  ...   \n",
       "4          45.20   17.17            5              6            9  ...   \n",
       "\n",
       "   payment_CARD_CSOB  payment_CHECKOUT_CARD  payment_PAYPAL_EXPRESS  \\\n",
       "0                  0                      0                       0   \n",
       "1                  0                      0                       0   \n",
       "2                  1                      0                       0   \n",
       "3                  1                      0                       0   \n",
       "4                  0                      0                       0   \n",
       "\n",
       "   payment_CHECKOUT_APPLE  payment_CHECKOUT_BANCONTACT  payment_BANK_TRANSFER  \\\n",
       "0                       0                            0                      0   \n",
       "1                       0                            0                      0   \n",
       "2                       0                            0                      0   \n",
       "3                       0                            0                      0   \n",
       "4                       0                            0                      0   \n",
       "\n",
       "   payment_CASH  payment_CSOB_CARD  payment_INVOICE_HUF  payment_PAYPAL_IDEALO  \n",
       "0             0                  0                    0                      0  \n",
       "1             0                  0                    0                      0  \n",
       "2             0                  0                    0                      0  \n",
       "3             0                  0                    0                      0  \n",
       "4             0                  0                    0                      0  \n",
       "\n",
       "[5 rows x 57 columns]"
      ]
     },
     "execution_count": 4,
     "metadata": {},
     "output_type": "execute_result"
    }
   ],
   "source": [
    "# Assuming your DataFrame is named 'df'\n",
    "df1 = df.round(2)\n",
    "\n",
    "# If you want to round specific columns, you can do it like this:\n",
    "columns_to_round = ['gross_revenue','profit','average_price']\n",
    "df1 = df.copy()\n",
    "for col in columns_to_round:\n",
    "    df1[col] = df[col].round(2)\n",
    "\n",
    "df1.head()"
   ]
  },
  {
   "cell_type": "code",
   "execution_count": 5,
   "id": "1cf6b48d-2521-42de-8d73-313bd6303d9d",
   "metadata": {
    "id": "1cf6b48d-2521-42de-8d73-313bd6303d9d",
    "tags": []
   },
   "outputs": [],
   "source": [
    "# Replace 'inf' values with NaN\n",
    "df1['average_price'] = df1['average_price'].replace(float('inf'), np.nan)\n",
    "\n",
    "# Recalculate the mean, excluding NaN values\n",
    "mean_price = df1['average_price'].mean()\n",
    "\n",
    "# Fill NaN values in the 'average_price' column with the new mean\n",
    "df1['average_price'].fillna(mean_price, inplace=True)\n"
   ]
  },
  {
   "cell_type": "code",
   "execution_count": 7,
   "id": "e30b80ee-54ba-476f-807a-43d9791a1d38",
   "metadata": {
    "colab": {
     "base_uri": "https://localhost:8080/"
    },
    "executionInfo": {
     "elapsed": 147,
     "status": "ok",
     "timestamp": 1682107900201,
     "user": {
      "displayName": "LEAH CHEN",
      "userId": "04389040899043702332"
     },
     "user_tz": 420
    },
    "id": "e30b80ee-54ba-476f-807a-43d9791a1d38",
    "outputId": "2dc8f9e5-76bc-47c1-a424-8b7b4ec68587",
    "tags": []
   },
   "outputs": [
    {
     "name": "stdout",
     "output_type": "stream",
     "text": [
      "Are there any inf values in the column? False\n"
     ]
    }
   ],
   "source": [
    "# Check for any 'inf' values in the 'average_price' column\n",
    "inf_values = (df1['average_price'] == float('inf')).any()\n",
    "print('Are there any inf values in the column?', inf_values)\n"
   ]
  },
  {
   "cell_type": "code",
   "execution_count": null,
   "id": "972a2b6b-f04d-4d1a-9ef7-bc862c5fe82a",
   "metadata": {},
   "outputs": [],
   "source": []
  },
  {
   "cell_type": "markdown",
   "id": "f69ae395-8b84-44ea-b4ad-5029a2f9b477",
   "metadata": {
    "id": "fd8e765f-3dd2-4e14-a806-5dd35d557620"
   },
   "source": [
    "- Covert date-related features as cyclical features"
   ]
  },
  {
   "cell_type": "code",
   "execution_count": 5,
   "id": "5bf82376-5827-41ec-811b-b0440eb4871b",
   "metadata": {
    "executionInfo": {
     "elapsed": 891,
     "status": "ok",
     "timestamp": 1682107904073,
     "user": {
      "displayName": "LEAH CHEN",
      "userId": "04389040899043702332"
     },
     "user_tz": 420
    },
    "id": "5bf82376-5827-41ec-811b-b0440eb4871b",
    "tags": []
   },
   "outputs": [],
   "source": [
    "def encode_cyclical(df1, col, max_val):\n",
    "    df1[col + '_sin'] = np.sin(2 * np.pi * df[col]/max_val)\n",
    "    df1[col + '_cos'] = np.cos(2 * np.pi * df[col]/max_val)\n",
    "    return df1\n",
    "\n",
    "# Encode date-related features as cyclical features\n",
    "df1 = encode_cyclical(df, 'day_of_week', 6)\n",
    "df1 = encode_cyclical(df, 'month_of_year', 11)\n",
    "df1 = encode_cyclical(df, 'hour_of_day', 23)\n",
    "df1 = encode_cyclical(df, 'week_of_year', 52)\n",
    "\n",
    "# Drop the original date-related features\n",
    "df1 = df1.drop(['day_of_week', 'month_of_year', 'hour_of_day', 'year', 'week_of_year'], axis=1)"
   ]
  },
  {
   "cell_type": "code",
   "execution_count": 6,
   "id": "da17a1fc-f778-4d96-944e-996bf4f8961c",
   "metadata": {
    "executionInfo": {
     "elapsed": 376,
     "status": "ok",
     "timestamp": 1682107907121,
     "user": {
      "displayName": "LEAH CHEN",
      "userId": "04389040899043702332"
     },
     "user_tz": 420
    },
    "id": "da17a1fc-f778-4d96-944e-996bf4f8961c",
    "tags": []
   },
   "outputs": [],
   "source": [
    "# Define the features (X) and the target variable (y)\n",
    "X = df1.drop(columns=['gross_revenue', 'profit','average_price', 'order_id','total_sales_country_product', 'avg_sales_country_product', 'total_sales_country_product_month',\n",
    "                    'avg_sales_country_product_day'])\n",
    "y = df1['gross_revenue']"
   ]
  },
  {
   "cell_type": "code",
   "execution_count": 10,
   "id": "04b859b3-e5e1-4475-9a22-20b55b73898b",
   "metadata": {
    "executionInfo": {
     "elapsed": 2586,
     "status": "ok",
     "timestamp": 1682107910689,
     "user": {
      "displayName": "LEAH CHEN",
      "userId": "04389040899043702332"
     },
     "user_tz": 420
    },
    "id": "04b859b3-e5e1-4475-9a22-20b55b73898b",
    "tags": []
   },
   "outputs": [],
   "source": [
    "# Split the data into training and testing sets\n",
    "X_train, X_test, y_train, y_test = train_test_split(X, y, test_size=0.2, random_state=42)"
   ]
  },
  {
   "cell_type": "code",
   "execution_count": 13,
   "id": "958a7218-9e60-4ff0-8e86-3e7782655d4b",
   "metadata": {
    "executionInfo": {
     "elapsed": 6,
     "status": "ok",
     "timestamp": 1682107910690,
     "user": {
      "displayName": "LEAH CHEN",
      "userId": "04389040899043702332"
     },
     "user_tz": 420
    },
    "id": "958a7218-9e60-4ff0-8e86-3e7782655d4b",
    "tags": []
   },
   "outputs": [],
   "source": [
    "# Define the lists of numeric, categorical, binary, and cyclical features\n",
    "numeric_features = ['quantity','price_difference']\n",
    "categorical_features = ['country','gift_quantity'] \n",
    "binary_features = ['morning', 'afternoon', 'evening']\n",
    "cyclical_features = ['day_of_week_sin', 'day_of_week_cos', 'month_of_year_sin', 'month_of_year_cos', \n",
    "                     'hour_of_day_sin', 'hour_of_day_cos', 'week_of_year_sin', 'week_of_year_cos']"
   ]
  },
  {
   "cell_type": "code",
   "execution_count": 14,
   "id": "7e167c1d-29b6-4c73-b3a3-4754be60c37c",
   "metadata": {
    "executionInfo": {
     "elapsed": 125,
     "status": "ok",
     "timestamp": 1682107911455,
     "user": {
      "displayName": "LEAH CHEN",
      "userId": "04389040899043702332"
     },
     "user_tz": 420
    },
    "id": "7e167c1d-29b6-4c73-b3a3-4754be60c37c",
    "tags": []
   },
   "outputs": [],
   "source": [
    "# Create transformers for numeric, categorical, binary, and cyclical features\n",
    "numeric_transformer = StandardScaler()\n",
    "categorical_transformer = OneHotEncoder(handle_unknown='ignore')\n",
    "binary_transformer = 'passthrough'\n",
    "\n",
    "# Create a column transformer that applies the appropriate transformations to each feature subset\n",
    "preprocessor = ColumnTransformer(\n",
    "    transformers=[\n",
    "        ('num', numeric_transformer, numeric_features),\n",
    "        ('cat', categorical_transformer, categorical_features),\n",
    "        ('bin', binary_transformer, binary_features),\n",
    "        ('cyc', 'passthrough', cyclical_features)])"
   ]
  },
  {
   "cell_type": "code",
   "execution_count": 15,
   "id": "29efb1c5-9531-4835-ae6d-e0218f3c1364",
   "metadata": {
    "executionInfo": {
     "elapsed": 127,
     "status": "ok",
     "timestamp": 1682107913850,
     "user": {
      "displayName": "LEAH CHEN",
      "userId": "04389040899043702332"
     },
     "user_tz": 420
    },
    "id": "29efb1c5-9531-4835-ae6d-e0218f3c1364",
    "tags": []
   },
   "outputs": [],
   "source": [
    "# Create a baseline model (mean of the target variable)\n",
    "y_baseline = np.mean(y_train)"
   ]
  },
  {
   "cell_type": "code",
   "execution_count": 16,
   "id": "c5115dc9-149e-42c6-a64a-4612a6f55605",
   "metadata": {
    "id": "c5115dc9-149e-42c6-a64a-4612a6f55605",
    "tags": []
   },
   "outputs": [
    {
     "data": {
      "text/html": [
       "<div>\n",
       "<style scoped>\n",
       "    .dataframe tbody tr th:only-of-type {\n",
       "        vertical-align: middle;\n",
       "    }\n",
       "\n",
       "    .dataframe tbody tr th {\n",
       "        vertical-align: top;\n",
       "    }\n",
       "\n",
       "    .dataframe thead th {\n",
       "        text-align: right;\n",
       "    }\n",
       "</style>\n",
       "<table border=\"1\" class=\"dataframe\">\n",
       "  <thead>\n",
       "    <tr style=\"text-align: right;\">\n",
       "      <th></th>\n",
       "      <th>country</th>\n",
       "      <th>CreatedAt</th>\n",
       "      <th>quantity</th>\n",
       "      <th>gift_quantity</th>\n",
       "      <th>price_difference</th>\n",
       "      <th>morning</th>\n",
       "      <th>afternoon</th>\n",
       "      <th>evening</th>\n",
       "      <th>category_football</th>\n",
       "      <th>category_running</th>\n",
       "      <th>...</th>\n",
       "      <th>payment_INVOICE_HUF</th>\n",
       "      <th>payment_PAYPAL_IDEALO</th>\n",
       "      <th>day_of_week_sin</th>\n",
       "      <th>day_of_week_cos</th>\n",
       "      <th>month_of_year_sin</th>\n",
       "      <th>month_of_year_cos</th>\n",
       "      <th>hour_of_day_sin</th>\n",
       "      <th>hour_of_day_cos</th>\n",
       "      <th>week_of_year_sin</th>\n",
       "      <th>week_of_year_cos</th>\n",
       "    </tr>\n",
       "  </thead>\n",
       "  <tbody>\n",
       "    <tr>\n",
       "      <th>39784</th>\n",
       "      <td>Hungary</td>\n",
       "      <td>2019-08-17 08:52:00</td>\n",
       "      <td>2</td>\n",
       "      <td>0.0</td>\n",
       "      <td>-11.82</td>\n",
       "      <td>1</td>\n",
       "      <td>0</td>\n",
       "      <td>0</td>\n",
       "      <td>1</td>\n",
       "      <td>0</td>\n",
       "      <td>...</td>\n",
       "      <td>0</td>\n",
       "      <td>0</td>\n",
       "      <td>-8.660254e-01</td>\n",
       "      <td>0.5</td>\n",
       "      <td>-0.989821</td>\n",
       "      <td>-0.142315</td>\n",
       "      <td>0.816970</td>\n",
       "      <td>-0.576680</td>\n",
       "      <td>-0.748511</td>\n",
       "      <td>-0.663123</td>\n",
       "    </tr>\n",
       "    <tr>\n",
       "      <th>700182</th>\n",
       "      <td>Slovakia</td>\n",
       "      <td>2021-08-22 17:25:00</td>\n",
       "      <td>4</td>\n",
       "      <td>0.0</td>\n",
       "      <td>-27.85</td>\n",
       "      <td>0</td>\n",
       "      <td>0</td>\n",
       "      <td>1</td>\n",
       "      <td>0</td>\n",
       "      <td>1</td>\n",
       "      <td>...</td>\n",
       "      <td>0</td>\n",
       "      <td>0</td>\n",
       "      <td>-2.449294e-16</td>\n",
       "      <td>1.0</td>\n",
       "      <td>-0.989821</td>\n",
       "      <td>-0.142315</td>\n",
       "      <td>-0.997669</td>\n",
       "      <td>-0.068242</td>\n",
       "      <td>-0.748511</td>\n",
       "      <td>-0.663123</td>\n",
       "    </tr>\n",
       "    <tr>\n",
       "      <th>164681</th>\n",
       "      <td>Spain</td>\n",
       "      <td>2020-01-21 13:40:00</td>\n",
       "      <td>4</td>\n",
       "      <td>0.0</td>\n",
       "      <td>-16.91</td>\n",
       "      <td>0</td>\n",
       "      <td>1</td>\n",
       "      <td>0</td>\n",
       "      <td>0</td>\n",
       "      <td>1</td>\n",
       "      <td>...</td>\n",
       "      <td>0</td>\n",
       "      <td>0</td>\n",
       "      <td>8.660254e-01</td>\n",
       "      <td>0.5</td>\n",
       "      <td>0.540641</td>\n",
       "      <td>0.841254</td>\n",
       "      <td>-0.398401</td>\n",
       "      <td>-0.917211</td>\n",
       "      <td>0.464723</td>\n",
       "      <td>0.885456</td>\n",
       "    </tr>\n",
       "    <tr>\n",
       "      <th>514491</th>\n",
       "      <td>Romania</td>\n",
       "      <td>2021-03-09 08:45:00</td>\n",
       "      <td>4</td>\n",
       "      <td>0.0</td>\n",
       "      <td>-8.17</td>\n",
       "      <td>1</td>\n",
       "      <td>0</td>\n",
       "      <td>0</td>\n",
       "      <td>1</td>\n",
       "      <td>0</td>\n",
       "      <td>...</td>\n",
       "      <td>0</td>\n",
       "      <td>0</td>\n",
       "      <td>8.660254e-01</td>\n",
       "      <td>0.5</td>\n",
       "      <td>0.989821</td>\n",
       "      <td>-0.142315</td>\n",
       "      <td>0.816970</td>\n",
       "      <td>-0.576680</td>\n",
       "      <td>0.935016</td>\n",
       "      <td>0.354605</td>\n",
       "    </tr>\n",
       "    <tr>\n",
       "      <th>74842</th>\n",
       "      <td>France</td>\n",
       "      <td>2019-10-10 22:10:00</td>\n",
       "      <td>2</td>\n",
       "      <td>0.0</td>\n",
       "      <td>-8.27</td>\n",
       "      <td>0</td>\n",
       "      <td>0</td>\n",
       "      <td>0</td>\n",
       "      <td>0</td>\n",
       "      <td>0</td>\n",
       "      <td>...</td>\n",
       "      <td>0</td>\n",
       "      <td>0</td>\n",
       "      <td>1.224647e-16</td>\n",
       "      <td>-1.0</td>\n",
       "      <td>-0.540641</td>\n",
       "      <td>0.841254</td>\n",
       "      <td>-0.269797</td>\n",
       "      <td>0.962917</td>\n",
       "      <td>-0.970942</td>\n",
       "      <td>0.239316</td>\n",
       "    </tr>\n",
       "  </tbody>\n",
       "</table>\n",
       "<p>5 rows × 52 columns</p>\n",
       "</div>"
      ],
      "text/plain": [
       "         country            CreatedAt  quantity  gift_quantity  \\\n",
       "39784    Hungary  2019-08-17 08:52:00         2            0.0   \n",
       "700182  Slovakia  2021-08-22 17:25:00         4            0.0   \n",
       "164681     Spain  2020-01-21 13:40:00         4            0.0   \n",
       "514491   Romania  2021-03-09 08:45:00         4            0.0   \n",
       "74842     France  2019-10-10 22:10:00         2            0.0   \n",
       "\n",
       "        price_difference  morning  afternoon  evening  category_football  \\\n",
       "39784             -11.82        1          0        0                  1   \n",
       "700182            -27.85        0          0        1                  0   \n",
       "164681            -16.91        0          1        0                  0   \n",
       "514491             -8.17        1          0        0                  1   \n",
       "74842              -8.27        0          0        0                  0   \n",
       "\n",
       "        category_running  ...  payment_INVOICE_HUF  payment_PAYPAL_IDEALO  \\\n",
       "39784                  0  ...                    0                      0   \n",
       "700182                 1  ...                    0                      0   \n",
       "164681                 1  ...                    0                      0   \n",
       "514491                 0  ...                    0                      0   \n",
       "74842                  0  ...                    0                      0   \n",
       "\n",
       "        day_of_week_sin  day_of_week_cos  month_of_year_sin  \\\n",
       "39784     -8.660254e-01              0.5          -0.989821   \n",
       "700182    -2.449294e-16              1.0          -0.989821   \n",
       "164681     8.660254e-01              0.5           0.540641   \n",
       "514491     8.660254e-01              0.5           0.989821   \n",
       "74842      1.224647e-16             -1.0          -0.540641   \n",
       "\n",
       "        month_of_year_cos  hour_of_day_sin  hour_of_day_cos  week_of_year_sin  \\\n",
       "39784           -0.142315         0.816970        -0.576680         -0.748511   \n",
       "700182          -0.142315        -0.997669        -0.068242         -0.748511   \n",
       "164681           0.841254        -0.398401        -0.917211          0.464723   \n",
       "514491          -0.142315         0.816970        -0.576680          0.935016   \n",
       "74842            0.841254        -0.269797         0.962917         -0.970942   \n",
       "\n",
       "        week_of_year_cos  \n",
       "39784          -0.663123  \n",
       "700182         -0.663123  \n",
       "164681          0.885456  \n",
       "514491          0.354605  \n",
       "74842           0.239316  \n",
       "\n",
       "[5 rows x 52 columns]"
      ]
     },
     "execution_count": 16,
     "metadata": {},
     "output_type": "execute_result"
    }
   ],
   "source": [
    "X_train.head()"
   ]
  },
  {
   "cell_type": "code",
   "execution_count": null,
   "id": "8054ffdc-c2b1-4892-810b-ef620e7b2149",
   "metadata": {},
   "outputs": [],
   "source": []
  },
  {
   "cell_type": "markdown",
   "id": "40ae7a5e-0465-4ff5-9afd-946841374d67",
   "metadata": {
    "id": "40ae7a5e-0465-4ff5-9afd-946841374d67"
   },
   "source": [
    "- Linear Regression Model"
   ]
  },
  {
   "cell_type": "code",
   "execution_count": 17,
   "id": "cc51231e-c6d0-489f-962f-bcecc7fab133",
   "metadata": {
    "colab": {
     "base_uri": "https://localhost:8080/"
    },
    "executionInfo": {
     "elapsed": 4068,
     "status": "ok",
     "timestamp": 1682107919733,
     "user": {
      "displayName": "LEAH CHEN",
      "userId": "04389040899043702332"
     },
     "user_tz": 420
    },
    "id": "cc51231e-c6d0-489f-962f-bcecc7fab133",
    "outputId": "e1197f52-1d9f-476d-bff4-bbdf9d71e55a",
    "tags": []
   },
   "outputs": [
    {
     "name": "stdout",
     "output_type": "stream",
     "text": [
      "Linear Regression Mean Squared Error: 2846.026504001451\n",
      "Baseline Model Mean Squared Error: 3536.537490401975\n"
     ]
    }
   ],
   "source": [
    "# Create a pipeline with the preprocessor and the linear regression model\n",
    "lr_pipeline = Pipeline(steps=[('preprocessor', preprocessor),\n",
    "                              ('regressor', LinearRegression())])\n",
    "\n",
    "# Train and evaluate the models\n",
    "pipelines = [lr_pipeline]\n",
    "model_names = ['Linear Regression']\n",
    "\n",
    "for pipeline, model_name in zip(pipelines, model_names):\n",
    "    # Train the model\n",
    "    pipeline.fit(X_train, y_train)\n",
    "    \n",
    "    # Evaluate the model\n",
    "    y_pred = pipeline.predict(X_test)\n",
    "    mse = mean_squared_error(y_test, y_pred)\n",
    "    print(f\"{model_name} Mean Squared Error: {mse}\")\n",
    "\n",
    "# Calculate the mean squared error for the baseline model\n",
    "mse_baseline = mean_squared_error(y_test, [y_baseline] * len(y_test))\n",
    "print(f\"Baseline Model Mean Squared Error: {mse_baseline}\") \n"
   ]
  },
  {
   "cell_type": "code",
   "execution_count": 18,
   "id": "56939bf7-93eb-4437-b29c-370f84dbb59b",
   "metadata": {
    "colab": {
     "base_uri": "https://localhost:8080/"
    },
    "executionInfo": {
     "elapsed": 141,
     "status": "ok",
     "timestamp": 1682107920510,
     "user": {
      "displayName": "LEAH CHEN",
      "userId": "04389040899043702332"
     },
     "user_tz": 420
    },
    "id": "56939bf7-93eb-4437-b29c-370f84dbb59b",
    "outputId": "14f3ac09-245d-46c8-bbba-4d7c6d96fda0",
    "tags": []
   },
   "outputs": [
    {
     "name": "stdout",
     "output_type": "stream",
     "text": [
      "Linear Regression:\n",
      "MAE: 35.03\n",
      "MSE: 2846.03\n",
      "RMSE: 53.35\n",
      "R2:0.20\n"
     ]
    }
   ],
   "source": [
    "mae_lr = mean_absolute_error(y_test, y_pred)\n",
    "mse_lr = mean_squared_error(y_test, y_pred)\n",
    "rmse_lr = np.sqrt(mse_lr)\n",
    "r2_lr = r2_score(y_test, y_pred)\n",
    "print(\"Linear Regression:\")\n",
    "print(f\"MAE: {mae_lr:.2f}\")\n",
    "print(f\"MSE: {mse_lr:.2f}\")\n",
    "print(f\"RMSE: {rmse_lr:.2f}\")\n",
    "print(f\"R2:{r2_lr:.2f}\")"
   ]
  },
  {
   "cell_type": "code",
   "execution_count": 19,
   "id": "ae9fe7a4-0ef9-4fe8-9fa1-bedf138004f2",
   "metadata": {
    "colab": {
     "base_uri": "https://localhost:8080/"
    },
    "executionInfo": {
     "elapsed": 966,
     "status": "ok",
     "timestamp": 1682107926598,
     "user": {
      "displayName": "LEAH CHEN",
      "userId": "04389040899043702332"
     },
     "user_tz": 420
    },
    "id": "ae9fe7a4-0ef9-4fe8-9fa1-bedf138004f2",
    "outputId": "af11a8a6-aee7-434d-94a1-e01e5071230c",
    "tags": []
   },
   "outputs": [
    {
     "name": "stdout",
     "output_type": "stream",
     "text": [
      "Coefficients:\n",
      "                        feature   coefficient\n",
      "25       cat__gift_quantity_2.0  3.236471e+12\n",
      "24       cat__gift_quantity_1.0  3.236471e+12\n",
      "26       cat__gift_quantity_3.0  3.236471e+12\n",
      "23       cat__gift_quantity_0.0  3.236471e+12\n",
      "11         cat__country_Hungary -5.622688e+11\n",
      "17         cat__country_Romania -5.622688e+11\n",
      "18        cat__country_Slovakia -5.622688e+11\n",
      "15          cat__country_Poland -5.622688e+11\n",
      "6   cat__country_Czech Republic -5.622688e+11\n",
      "5          cat__country_Croatia -5.622688e+11\n",
      "16        cat__country_Portugal -5.622688e+11\n",
      "13           cat__country_Italy -5.622688e+11\n",
      "20           cat__country_Spain -5.622688e+11\n",
      "12         cat__country_Ireland -5.622688e+11\n",
      "3          cat__country_Belgium -5.622688e+11\n",
      "9           cat__country_France -5.622688e+11\n",
      "14     cat__country_Netherlands -5.622688e+11\n",
      "19        cat__country_Slovenia -5.622688e+11\n",
      "7          cat__country_Denmark -5.622688e+11\n",
      "10         cat__country_Germany -5.622688e+11\n",
      "8          cat__country_Finland -5.622688e+11\n",
      "21          cat__country_Sweden -5.622688e+11\n",
      "4         cat__country_Bulgaria -5.622688e+11\n",
      "2          cat__country_Austria -5.622688e+11\n",
      "22  cat__country_United Kingdom -5.622688e+11\n",
      "1         num__price_difference -1.747999e+01\n",
      "0                 num__quantity  1.664368e+01\n",
      "36        cyc__week_of_year_sin  1.328689e+01\n",
      "32       cyc__month_of_year_sin -1.054835e+01\n",
      "33       cyc__month_of_year_cos  7.389917e+00\n",
      "37        cyc__week_of_year_cos -6.416097e+00\n",
      "28               bin__afternoon -1.670013e+00\n",
      "29                 bin__evening -1.425347e+00\n",
      "35         cyc__hour_of_day_cos -1.107523e+00\n",
      "34         cyc__hour_of_day_sin -6.573646e-01\n",
      "31         cyc__day_of_week_cos -6.344979e-01\n",
      "27                 bin__morning -6.338535e-01\n",
      "30         cyc__day_of_week_sin  3.932805e-02\n"
     ]
    }
   ],
   "source": [
    "# Get the Linear Regression model from the pipeline\n",
    "lr_model = lr_pipeline.named_steps['regressor']\n",
    "\n",
    "# Get the coefficients\n",
    "coefficients = lr_model.coef_\n",
    "\n",
    "# Get the preprocessor from the pipeline\n",
    "preprocessor = lr_pipeline.named_steps['preprocessor']\n",
    "\n",
    "# Transform the training data using the preprocessor\n",
    "X_train_transformed = preprocessor.transform(X_train)\n",
    "\n",
    "# Get the feature names after preprocessing\n",
    "# This line assumes that the preprocessor is a ColumnTransformer\n",
    "feature_names = preprocessor.get_feature_names_out()\n",
    "\n",
    "# Create a DataFrame with feature names and their coefficients\n",
    "coef_df = pd.DataFrame({'feature': feature_names, 'coefficient': coefficients})\n",
    "\n",
    "# Sort the DataFrame by the absolute value of coefficients (descending order)\n",
    "coef_df['abs_coefficient'] = coef_df['coefficient'].abs()\n",
    "coef_df = coef_df.sort_values(by='abs_coefficient', ascending=False).drop(columns=['abs_coefficient'])\n",
    "\n",
    "# Display the coefficients\n",
    "print(\"Coefficients:\")\n",
    "print(coef_df)"
   ]
  },
  {
   "cell_type": "code",
   "execution_count": 20,
   "id": "3f69b6d6-72ed-4b5a-907c-01753e2305f1",
   "metadata": {
    "colab": {
     "base_uri": "https://localhost:8080/",
     "height": 688
    },
    "executionInfo": {
     "elapsed": 664,
     "status": "ok",
     "timestamp": 1682107929858,
     "user": {
      "displayName": "LEAH CHEN",
      "userId": "04389040899043702332"
     },
     "user_tz": 420
    },
    "id": "3f69b6d6-72ed-4b5a-907c-01753e2305f1",
    "outputId": "7fab6cf2-c843-4b4a-dbfe-b1359807141a",
    "tags": []
   },
   "outputs": [
    {
     "data": {
      "image/png": "[encoded data removed]",
      "text/plain": [
       "<Figure size 1000x600 with 1 Axes>"
      ]
     },
     "metadata": {},
     "output_type": "display_data"
    }
   ],
   "source": [
    "# Select the first 10 features\n",
    "top_n = 10\n",
    "coef_df_top_n = coef_df.head(top_n)\n",
    "\n",
    "# Plot the coefficients of the top 10 features as a line graph\n",
    "plt.figure(figsize=(10, 6))\n",
    "plt.plot(coef_df_top_n['feature'], coef_df_top_n['coefficient'], marker='o')\n",
    "plt.xlabel(\"Feature\")\n",
    "plt.ylabel(\"Coefficient\")\n",
    "plt.title(\"Top 10 Feature Importance in the Linear Regression Model\")\n",
    "plt.xticks(rotation=45)\n",
    "plt.show()\n"
   ]
  },
  {
   "cell_type": "code",
   "execution_count": null,
   "id": "87cfa1da-8ac3-4514-ac6e-0c0a41f9ac7e",
   "metadata": {
    "id": "87cfa1da-8ac3-4514-ac6e-0c0a41f9ac7e"
   },
   "outputs": [],
   "source": []
  },
  {
   "cell_type": "code",
   "execution_count": null,
   "id": "8367a079-d871-4369-8276-7c7d87ab3e5b",
   "metadata": {
    "id": "8367a079-d871-4369-8276-7c7d87ab3e5b"
   },
   "outputs": [],
   "source": []
  },
  {
   "cell_type": "markdown",
   "id": "42d2c74b-6667-413e-8f0e-f22b4af9044d",
   "metadata": {
    "id": "42d2c74b-6667-413e-8f0e-f22b4af9044d"
   },
   "source": [
    "- XGBoost Model"
   ]
  },
  {
   "cell_type": "code",
   "execution_count": 21,
   "id": "b2c55c75-b0ec-45d3-931b-aa21c01c99b2",
   "metadata": {
    "colab": {
     "base_uri": "https://localhost:8080/"
    },
    "executionInfo": {
     "elapsed": 134360,
     "status": "ok",
     "timestamp": 1682108065250,
     "user": {
      "displayName": "LEAH CHEN",
      "userId": "04389040899043702332"
     },
     "user_tz": 420
    },
    "id": "b2c55c75-b0ec-45d3-931b-aa21c01c99b2",
    "outputId": "53849ec1-c8eb-4350-8983-b3641f2c69d3",
    "tags": []
   },
   "outputs": [
    {
     "name": "stdout",
     "output_type": "stream",
     "text": [
      "Baseline Model Mean Squared Error: 3536.537490401975\n"
     ]
    }
   ],
   "source": [
    "# Create a pipeline for the XGBoost model\n",
    "xgb_pipeline = Pipeline(steps=[('preprocessor', preprocessor),\n",
    "                               ('regressor', XGBRegressor(n_jobs=-1, random_state=42))])\n",
    "\n",
    "# Train and evaluate the models\n",
    "pipelines = [xgb_pipeline]\n",
    "model_names = ['xgboost']\n",
    "\n",
    "# Train and evaluate the models\n",
    "for pipeline, model_name in zip(pipelines, model_names):\n",
    "    # Train the model\n",
    "    pipeline.fit(X_train, y_train)\n",
    "    \n",
    "    # Evaluate the model\n",
    "    y_pred_xg = xgb_pipeline.predict(X_test)\n",
    "\n",
    "# Calculate the mean squared error for the baseline model\n",
    "y_baseline = y_train.mean()\n",
    "mse_baseline = mean_squared_error(y_test, [y_baseline] * len(y_test))\n",
    "print(f\"Baseline Model Mean Squared Error: {mse_baseline}\")\n"
   ]
  },
  {
   "cell_type": "code",
   "execution_count": 22,
   "id": "92b81feb-4177-4f19-ae10-6e96de274bbf",
   "metadata": {
    "colab": {
     "base_uri": "https://localhost:8080/"
    },
    "executionInfo": {
     "elapsed": 437,
     "status": "ok",
     "timestamp": 1682108070250,
     "user": {
      "displayName": "LEAH CHEN",
      "userId": "04389040899043702332"
     },
     "user_tz": 420
    },
    "id": "92b81feb-4177-4f19-ae10-6e96de274bbf",
    "outputId": "4aa0e413-e99d-4232-8df3-6d57c3d599d9",
    "tags": []
   },
   "outputs": [
    {
     "name": "stdout",
     "output_type": "stream",
     "text": [
      "XGBoost :\n",
      "MAE: 27.74\n",
      "MSE: 2070.02\n",
      "RMSE: 45.50\n",
      "R2:0.41\n"
     ]
    }
   ],
   "source": [
    "# Evaluate the model\n",
    "y_pred_xg = xgb_pipeline.predict(X_test)\n",
    "mae_xg = mean_absolute_error(y_test, y_pred_xg)\n",
    "mse_xg = mean_squared_error(y_test, y_pred_xg)\n",
    "rmse_xg = np.sqrt(mse_xg)\n",
    "r2_xg = r2_score(y_test, y_pred_xg)\n",
    "print(\"XGBoost :\")\n",
    "print(f\"MAE: {mae_xg:.2f}\")\n",
    "print(f\"MSE: {mse_xg:.2f}\")\n",
    "print(f\"RMSE: {rmse_xg:.2f}\")\n",
    "print(f\"R2:{r2_xg:.2f}\")"
   ]
  },
  {
   "cell_type": "markdown",
   "id": "d7c1e0a0-9db1-421d-b68c-f9da13e3cade",
   "metadata": {
    "id": "d7c1e0a0-9db1-421d-b68c-f9da13e3cade"
   },
   "source": [
    "- Tuning the model"
   ]
  },
  {
   "cell_type": "code",
   "execution_count": 23,
   "id": "0eb6060c-7d6f-4d80-9552-b5b47f54e5cc",
   "metadata": {
    "executionInfo": {
     "elapsed": 284,
     "status": "ok",
     "timestamp": 1682107783363,
     "user": {
      "displayName": "LEAH CHEN",
      "userId": "04389040899043702332"
     },
     "user_tz": 420
    },
    "id": "0eb6060c-7d6f-4d80-9552-b5b47f54e5cc",
    "tags": []
   },
   "outputs": [],
   "source": [
    "xgb_param_grid = {\n",
    "    'regressor__n_estimators': [100, 200, 300,400],\n",
    "    'regressor__learning_rate': [0.01, 0.1, 0.2]\n",
    "}\n"
   ]
  },
  {
   "cell_type": "code",
   "execution_count": 24,
   "id": "8c734afd-33f1-4fab-8650-2b08708c37f1",
   "metadata": {
    "executionInfo": {
     "elapsed": 332,
     "status": "ok",
     "timestamp": 1682107785625,
     "user": {
      "displayName": "LEAH CHEN",
      "userId": "04389040899043702332"
     },
     "user_tz": 420
    },
    "id": "8c734afd-33f1-4fab-8650-2b08708c37f1",
    "tags": []
   },
   "outputs": [],
   "source": [
    "xgb_grid_search = GridSearchCV(xgb_pipeline, xgb_param_grid, scoring='neg_mean_squared_error',\n",
    "                               cv=3, n_jobs=-1, verbose=2)\n"
   ]
  },
  {
   "cell_type": "code",
   "execution_count": 25,
   "id": "5cad5d29-41a3-4032-8823-ad66bd637fbc",
   "metadata": {
    "colab": {
     "base_uri": "https://localhost:8080/"
    },
    "id": "5cad5d29-41a3-4032-8823-ad66bd637fbc",
    "outputId": "a794c4b7-8ec8-45aa-8b6e-b0110b0230fd",
    "tags": []
   },
   "outputs": [
    {
     "name": "stdout",
     "output_type": "stream",
     "text": [
      "Fitting 3 folds for each of 12 candidates, totalling 36 fits\n",
      "[CV] END regressor__learning_rate=0.01, regressor__n_estimators=100; total time= 1.6min\n",
      "[CV] END regressor__learning_rate=0.01, regressor__n_estimators=400; total time= 7.4min\n",
      "[CV] END regressor__learning_rate=0.1, regressor__n_estimators=400; total time= 8.5min\n",
      "[CV] END regressor__learning_rate=0.01, regressor__n_estimators=200; total time= 3.4min\n",
      "[CV] END regressor__learning_rate=0.01, regressor__n_estimators=400; total time= 7.9min\n",
      "[CV] END regressor__learning_rate=0.2, regressor__n_estimators=100; total time= 2.1min\n",
      "[CV] END regressor__learning_rate=0.2, regressor__n_estimators=200; total time= 4.3min\n",
      "[CV] END regressor__learning_rate=0.01, regressor__n_estimators=100; total time= 1.6min\n",
      "[CV] END regressor__learning_rate=0.01, regressor__n_estimators=400; total time= 7.5min\n",
      "[CV] END regressor__learning_rate=0.2, regressor__n_estimators=100; total time= 2.1min\n",
      "[CV] END regressor__learning_rate=0.2, regressor__n_estimators=100; total time= 2.1min\n",
      "[CV] END regressor__learning_rate=0.2, regressor__n_estimators=300; total time= 6.2min\n"
     ]
    },
    {
     "data": {
      "text/html": [
       "<style>#sk-container-id-1 {color: black;background-color: white;}#sk-container-id-1 pre{padding: 0;}#sk-container-id-1 div.sk-toggleable {background-color: white;}#sk-container-id-1 label.sk-toggleable__label {cursor: pointer;display: block;width: 100%;margin-bottom: 0;padding: 0.3em;box-sizing: border-box;text-align: center;}#sk-container-id-1 label.sk-toggleable__label-arrow:before {content: \"▸\";float: left;margin-right: 0.25em;color: #696969;}#sk-container-id-1 label.sk-toggleable__label-arrow:hover:before {color: black;}#sk-container-id-1 div.sk-estimator:hover label.sk-toggleable__label-arrow:before {color: black;}#sk-container-id-1 div.sk-toggleable__content {max-height: 0;max-width: 0;overflow: hidden;text-align: left;background-color: #f0f8ff;}#sk-container-id-1 div.sk-toggleable__content pre {margin: 0.2em;color: black;border-radius: 0.25em;background-color: #f0f8ff;}#sk-container-id-1 input.sk-toggleable__control:checked~div.sk-toggleable__content {max-height: 200px;max-width: 100%;overflow: auto;}#sk-container-id-1 input.sk-toggleable__control:checked~label.sk-toggleable__label-arrow:before {content: \"▾\";}#sk-container-id-1 div.sk-estimator input.sk-toggleable__control:checked~label.sk-toggleable__label {background-color: #d4ebff;}#sk-container-id-1 div.sk-label input.sk-toggleable__control:checked~label.sk-toggleable__label {background-color: #d4ebff;}#sk-container-id-1 input.sk-hidden--visually {border: 0;clip: rect(1px 1px 1px 1px);clip: rect(1px, 1px, 1px, 1px);height: 1px;margin: -1px;overflow: hidden;padding: 0;position: absolute;width: 1px;}#sk-container-id-1 div.sk-estimator {font-family: monospace;background-color: #f0f8ff;border: 1px dotted black;border-radius: 0.25em;box-sizing: border-box;margin-bottom: 0.5em;}#sk-container-id-1 div.sk-estimator:hover {background-color: #d4ebff;}#sk-container-id-1 div.sk-parallel-item::after {content: \"\";width: 100%;border-bottom: 1px solid gray;flex-grow: 1;}#sk-container-id-1 div.sk-label:hover label.sk-toggleable__label {background-color: #d4ebff;}#sk-container-id-1 div.sk-serial::before {content: \"\";position: absolute;border-left: 1px solid gray;box-sizing: border-box;top: 0;bottom: 0;left: 50%;z-index: 0;}#sk-container-id-1 div.sk-serial {display: flex;flex-direction: column;align-items: center;background-color: white;padding-right: 0.2em;padding-left: 0.2em;position: relative;}#sk-container-id-1 div.sk-item {position: relative;z-index: 1;}#sk-container-id-1 div.sk-parallel {display: flex;align-items: stretch;justify-content: center;background-color: white;position: relative;}#sk-container-id-1 div.sk-item::before, #sk-container-id-1 div.sk-parallel-item::before {content: \"\";position: absolute;border-left: 1px solid gray;box-sizing: border-box;top: 0;bottom: 0;left: 50%;z-index: -1;}#sk-container-id-1 div.sk-parallel-item {display: flex;flex-direction: column;z-index: 1;position: relative;background-color: white;}#sk-container-id-1 div.sk-parallel-item:first-child::after {align-self: flex-end;width: 50%;}#sk-container-id-1 div.sk-parallel-item:last-child::after {align-self: flex-start;width: 50%;}#sk-container-id-1 div.sk-parallel-item:only-child::after {width: 0;}#sk-container-id-1 div.sk-dashed-wrapped {border: 1px dashed gray;margin: 0 0.4em 0.5em 0.4em;box-sizing: border-box;padding-bottom: 0.4em;background-color: white;}#sk-container-id-1 div.sk-label label {font-family: monospace;font-weight: bold;display: inline-block;line-height: 1.2em;}#sk-container-id-1 div.sk-label-container {text-align: center;}#sk-container-id-1 div.sk-container {/* jupyter's `normalize.less` sets `[hidden] { display: none; }` but bootstrap.min.css set `[hidden] { display: none !important; }` so we also need the `!important` here to be able to override the default hidden behavior on the sphinx rendered scikit-learn.org. See: https://github.com/scikit-learn/scikit-learn/issues/21755 */display: inline-block !important;position: relative;}#sk-container-id-1 div.sk-text-repr-fallback {display: none;}</style><div id=\"sk-container-id-1\" class=\"sk-top-container\"><div class=\"sk-text-repr-fallback\"><pre>GridSearchCV(cv=3,\n",
       "             estimator=Pipeline(steps=[(&#x27;preprocessor&#x27;,\n",
       "                                        ColumnTransformer(transformers=[(&#x27;num&#x27;,\n",
       "                                                                         StandardScaler(),\n",
       "                                                                         [&#x27;quantity&#x27;,\n",
       "                                                                          &#x27;price_difference&#x27;]),\n",
       "                                                                        (&#x27;cat&#x27;,\n",
       "                                                                         OneHotEncoder(handle_unknown=&#x27;ignore&#x27;),\n",
       "                                                                         [&#x27;country&#x27;,\n",
       "                                                                          &#x27;gift_quantity&#x27;]),\n",
       "                                                                        (&#x27;bin&#x27;,\n",
       "                                                                         &#x27;passthrough&#x27;,\n",
       "                                                                         [&#x27;morning&#x27;,\n",
       "                                                                          &#x27;afternoon&#x27;,\n",
       "                                                                          &#x27;evening&#x27;]),\n",
       "                                                                        (&#x27;cyc&#x27;,\n",
       "                                                                         &#x27;passthrough&#x27;,\n",
       "                                                                         [&#x27;day_of_week_sin&#x27;,\n",
       "                                                                          &#x27;day_of_week_cos&#x27;,\n",
       "                                                                          &#x27;month_of_ye...\n",
       "                                                     max_delta_step=None,\n",
       "                                                     max_depth=None,\n",
       "                                                     max_leaves=None,\n",
       "                                                     min_child_weight=None,\n",
       "                                                     missing=nan,\n",
       "                                                     monotone_constraints=None,\n",
       "                                                     n_estimators=100,\n",
       "                                                     n_jobs=-1,\n",
       "                                                     num_parallel_tree=None,\n",
       "                                                     predictor=None,\n",
       "                                                     random_state=42, ...))]),\n",
       "             n_jobs=-1,\n",
       "             param_grid={&#x27;regressor__learning_rate&#x27;: [0.01, 0.1, 0.2],\n",
       "                         &#x27;regressor__n_estimators&#x27;: [100, 200, 300, 400]},\n",
       "             scoring=&#x27;neg_mean_squared_error&#x27;, verbose=2)</pre><b>In a Jupyter environment, please rerun this cell to show the HTML representation or trust the notebook. <br />On GitHub, the HTML representation is unable to render, please try loading this page with nbviewer.org.</b></div><div class=\"sk-container\" hidden><div class=\"sk-item sk-dashed-wrapped\"><div class=\"sk-label-container\"><div class=\"sk-label sk-toggleable\"><input class=\"sk-toggleable__control sk-hidden--visually\" id=\"sk-estimator-id-1\" type=\"checkbox\" ><label for=\"sk-estimator-id-1\" class=\"sk-toggleable__label sk-toggleable__label-arrow\">GridSearchCV</label><div class=\"sk-toggleable__content\"><pre>GridSearchCV(cv=3,\n",
       "             estimator=Pipeline(steps=[(&#x27;preprocessor&#x27;,\n",
       "                                        ColumnTransformer(transformers=[(&#x27;num&#x27;,\n",
       "                                                                         StandardScaler(),\n",
       "                                                                         [&#x27;quantity&#x27;,\n",
       "                                                                          &#x27;price_difference&#x27;]),\n",
       "                                                                        (&#x27;cat&#x27;,\n",
       "                                                                         OneHotEncoder(handle_unknown=&#x27;ignore&#x27;),\n",
       "                                                                         [&#x27;country&#x27;,\n",
       "                                                                          &#x27;gift_quantity&#x27;]),\n",
       "                                                                        (&#x27;bin&#x27;,\n",
       "                                                                         &#x27;passthrough&#x27;,\n",
       "                                                                         [&#x27;morning&#x27;,\n",
       "                                                                          &#x27;afternoon&#x27;,\n",
       "                                                                          &#x27;evening&#x27;]),\n",
       "                                                                        (&#x27;cyc&#x27;,\n",
       "                                                                         &#x27;passthrough&#x27;,\n",
       "                                                                         [&#x27;day_of_week_sin&#x27;,\n",
       "                                                                          &#x27;day_of_week_cos&#x27;,\n",
       "                                                                          &#x27;month_of_ye...\n",
       "                                                     max_delta_step=None,\n",
       "                                                     max_depth=None,\n",
       "                                                     max_leaves=None,\n",
       "                                                     min_child_weight=None,\n",
       "                                                     missing=nan,\n",
       "                                                     monotone_constraints=None,\n",
       "                                                     n_estimators=100,\n",
       "                                                     n_jobs=-1,\n",
       "                                                     num_parallel_tree=None,\n",
       "                                                     predictor=None,\n",
       "                                                     random_state=42, ...))]),\n",
       "             n_jobs=-1,\n",
       "             param_grid={&#x27;regressor__learning_rate&#x27;: [0.01, 0.1, 0.2],\n",
       "                         &#x27;regressor__n_estimators&#x27;: [100, 200, 300, 400]},\n",
       "             scoring=&#x27;neg_mean_squared_error&#x27;, verbose=2)</pre></div></div></div><div class=\"sk-parallel\"><div class=\"sk-parallel-item\"><div class=\"sk-item\"><div class=\"sk-label-container\"><div class=\"sk-label sk-toggleable\"><input class=\"sk-toggleable__control sk-hidden--visually\" id=\"sk-estimator-id-2\" type=\"checkbox\" ><label for=\"sk-estimator-id-2\" class=\"sk-toggleable__label sk-toggleable__label-arrow\">estimator: Pipeline</label><div class=\"sk-toggleable__content\"><pre>Pipeline(steps=[(&#x27;preprocessor&#x27;,\n",
       "                 ColumnTransformer(transformers=[(&#x27;num&#x27;, StandardScaler(),\n",
       "                                                  [&#x27;quantity&#x27;,\n",
       "                                                   &#x27;price_difference&#x27;]),\n",
       "                                                 (&#x27;cat&#x27;,\n",
       "                                                  OneHotEncoder(handle_unknown=&#x27;ignore&#x27;),\n",
       "                                                  [&#x27;country&#x27;, &#x27;gift_quantity&#x27;]),\n",
       "                                                 (&#x27;bin&#x27;, &#x27;passthrough&#x27;,\n",
       "                                                  [&#x27;morning&#x27;, &#x27;afternoon&#x27;,\n",
       "                                                   &#x27;evening&#x27;]),\n",
       "                                                 (&#x27;cyc&#x27;, &#x27;passthrough&#x27;,\n",
       "                                                  [&#x27;day_of_week_sin&#x27;,\n",
       "                                                   &#x27;day_of_week_cos&#x27;,\n",
       "                                                   &#x27;month_of_year_sin&#x27;,\n",
       "                                                   &#x27;month_of_year_cos&#x27;,...\n",
       "                              feature_types=None, gamma=None, gpu_id=None,\n",
       "                              grow_policy=None, importance_type=None,\n",
       "                              interaction_constraints=None, learning_rate=None,\n",
       "                              max_bin=None, max_cat_threshold=None,\n",
       "                              max_cat_to_onehot=None, max_delta_step=None,\n",
       "                              max_depth=None, max_leaves=None,\n",
       "                              min_child_weight=None, missing=nan,\n",
       "                              monotone_constraints=None, n_estimators=100,\n",
       "                              n_jobs=-1, num_parallel_tree=None, predictor=None,\n",
       "                              random_state=42, ...))])</pre></div></div></div><div class=\"sk-serial\"><div class=\"sk-item\"><div class=\"sk-serial\"><div class=\"sk-item sk-dashed-wrapped\"><div class=\"sk-label-container\"><div class=\"sk-label sk-toggleable\"><input class=\"sk-toggleable__control sk-hidden--visually\" id=\"sk-estimator-id-3\" type=\"checkbox\" ><label for=\"sk-estimator-id-3\" class=\"sk-toggleable__label sk-toggleable__label-arrow\">preprocessor: ColumnTransformer</label><div class=\"sk-toggleable__content\"><pre>ColumnTransformer(transformers=[(&#x27;num&#x27;, StandardScaler(),\n",
       "                                 [&#x27;quantity&#x27;, &#x27;price_difference&#x27;]),\n",
       "                                (&#x27;cat&#x27;, OneHotEncoder(handle_unknown=&#x27;ignore&#x27;),\n",
       "                                 [&#x27;country&#x27;, &#x27;gift_quantity&#x27;]),\n",
       "                                (&#x27;bin&#x27;, &#x27;passthrough&#x27;,\n",
       "                                 [&#x27;morning&#x27;, &#x27;afternoon&#x27;, &#x27;evening&#x27;]),\n",
       "                                (&#x27;cyc&#x27;, &#x27;passthrough&#x27;,\n",
       "                                 [&#x27;day_of_week_sin&#x27;, &#x27;day_of_week_cos&#x27;,\n",
       "                                  &#x27;month_of_year_sin&#x27;, &#x27;month_of_year_cos&#x27;,\n",
       "                                  &#x27;hour_of_day_sin&#x27;, &#x27;hour_of_day_cos&#x27;,\n",
       "                                  &#x27;week_of_year_sin&#x27;, &#x27;week_of_year_cos&#x27;])])</pre></div></div></div><div class=\"sk-parallel\"><div class=\"sk-parallel-item\"><div class=\"sk-item\"><div class=\"sk-label-container\"><div class=\"sk-label sk-toggleable\"><input class=\"sk-toggleable__control sk-hidden--visually\" id=\"sk-estimator-id-4\" type=\"checkbox\" ><label for=\"sk-estimator-id-4\" class=\"sk-toggleable__label sk-toggleable__label-arrow\">num</label><div class=\"sk-toggleable__content\"><pre>[&#x27;quantity&#x27;, &#x27;price_difference&#x27;]</pre></div></div></div><div class=\"sk-serial\"><div class=\"sk-item\"><div class=\"sk-estimator sk-toggleable\"><input class=\"sk-toggleable__control sk-hidden--visually\" id=\"sk-estimator-id-5\" type=\"checkbox\" ><label for=\"sk-estimator-id-5\" class=\"sk-toggleable__label sk-toggleable__label-arrow\">StandardScaler</label><div class=\"sk-toggleable__content\"><pre>StandardScaler()</pre></div></div></div></div></div></div><div class=\"sk-parallel-item\"><div class=\"sk-item\"><div class=\"sk-label-container\"><div class=\"sk-label sk-toggleable\"><input class=\"sk-toggleable__control sk-hidden--visually\" id=\"sk-estimator-id-6\" type=\"checkbox\" ><label for=\"sk-estimator-id-6\" class=\"sk-toggleable__label sk-toggleable__label-arrow\">cat</label><div class=\"sk-toggleable__content\"><pre>[&#x27;country&#x27;, &#x27;gift_quantity&#x27;]</pre></div></div></div><div class=\"sk-serial\"><div class=\"sk-item\"><div class=\"sk-estimator sk-toggleable\"><input class=\"sk-toggleable__control sk-hidden--visually\" id=\"sk-estimator-id-7\" type=\"checkbox\" ><label for=\"sk-estimator-id-7\" class=\"sk-toggleable__label sk-toggleable__label-arrow\">OneHotEncoder</label><div class=\"sk-toggleable__content\"><pre>OneHotEncoder(handle_unknown=&#x27;ignore&#x27;)</pre></div></div></div></div></div></div><div class=\"sk-parallel-item\"><div class=\"sk-item\"><div class=\"sk-label-container\"><div class=\"sk-label sk-toggleable\"><input class=\"sk-toggleable__control sk-hidden--visually\" id=\"sk-estimator-id-8\" type=\"checkbox\" ><label for=\"sk-estimator-id-8\" class=\"sk-toggleable__label sk-toggleable__label-arrow\">bin</label><div class=\"sk-toggleable__content\"><pre>[&#x27;morning&#x27;, &#x27;afternoon&#x27;, &#x27;evening&#x27;]</pre></div></div></div><div class=\"sk-serial\"><div class=\"sk-item\"><div class=\"sk-estimator sk-toggleable\"><input class=\"sk-toggleable__control sk-hidden--visually\" id=\"sk-estimator-id-9\" type=\"checkbox\" ><label for=\"sk-estimator-id-9\" class=\"sk-toggleable__label sk-toggleable__label-arrow\">passthrough</label><div class=\"sk-toggleable__content\"><pre>passthrough</pre></div></div></div></div></div></div><div class=\"sk-parallel-item\"><div class=\"sk-item\"><div class=\"sk-label-container\"><div class=\"sk-label sk-toggleable\"><input class=\"sk-toggleable__control sk-hidden--visually\" id=\"sk-estimator-id-10\" type=\"checkbox\" ><label for=\"sk-estimator-id-10\" class=\"sk-toggleable__label sk-toggleable__label-arrow\">cyc</label><div class=\"sk-toggleable__content\"><pre>[&#x27;day_of_week_sin&#x27;, &#x27;day_of_week_cos&#x27;, &#x27;month_of_year_sin&#x27;, &#x27;month_of_year_cos&#x27;, &#x27;hour_of_day_sin&#x27;, &#x27;hour_of_day_cos&#x27;, &#x27;week_of_year_sin&#x27;, &#x27;week_of_year_cos&#x27;]</pre></div></div></div><div class=\"sk-serial\"><div class=\"sk-item\"><div class=\"sk-estimator sk-toggleable\"><input class=\"sk-toggleable__control sk-hidden--visually\" id=\"sk-estimator-id-11\" type=\"checkbox\" ><label for=\"sk-estimator-id-11\" class=\"sk-toggleable__label sk-toggleable__label-arrow\">passthrough</label><div class=\"sk-toggleable__content\"><pre>passthrough</pre></div></div></div></div></div></div></div></div><div class=\"sk-item\"><div class=\"sk-estimator sk-toggleable\"><input class=\"sk-toggleable__control sk-hidden--visually\" id=\"sk-estimator-id-12\" type=\"checkbox\" ><label for=\"sk-estimator-id-12\" class=\"sk-toggleable__label sk-toggleable__label-arrow\">XGBRegressor</label><div class=\"sk-toggleable__content\"><pre>XGBRegressor(base_score=None, booster=None, callbacks=None,\n",
       "             colsample_bylevel=None, colsample_bynode=None,\n",
       "             colsample_bytree=None, early_stopping_rounds=None,\n",
       "             enable_categorical=False, eval_metric=None, feature_types=None,\n",
       "             gamma=None, gpu_id=None, grow_policy=None, importance_type=None,\n",
       "             interaction_constraints=None, learning_rate=None, max_bin=None,\n",
       "             max_cat_threshold=None, max_cat_to_onehot=None,\n",
       "             max_delta_step=None, max_depth=None, max_leaves=None,\n",
       "             min_child_weight=None, missing=nan, monotone_constraints=None,\n",
       "             n_estimators=100, n_jobs=-1, num_parallel_tree=None,\n",
       "             predictor=None, random_state=42, ...)</pre></div></div></div></div></div></div></div></div></div></div></div></div>"
      ],
      "text/plain": [
       "GridSearchCV(cv=3,\n",
       "             estimator=Pipeline(steps=[('preprocessor',\n",
       "                                        ColumnTransformer(transformers=[('num',\n",
       "                                                                         StandardScaler(),\n",
       "                                                                         ['quantity',\n",
       "                                                                          'price_difference']),\n",
       "                                                                        ('cat',\n",
       "                                                                         OneHotEncoder(handle_unknown='ignore'),\n",
       "                                                                         ['country',\n",
       "                                                                          'gift_quantity']),\n",
       "                                                                        ('bin',\n",
       "                                                                         'passthrough',\n",
       "                                                                         ['morning',\n",
       "                                                                          'afternoon',\n",
       "                                                                          'evening']),\n",
       "                                                                        ('cyc',\n",
       "                                                                         'passthrough',\n",
       "                                                                         ['day_of_week_sin',\n",
       "                                                                          'day_of_week_cos',\n",
       "                                                                          'month_of_ye...\n",
       "                                                     max_delta_step=None,\n",
       "                                                     max_depth=None,\n",
       "                                                     max_leaves=None,\n",
       "                                                     min_child_weight=None,\n",
       "                                                     missing=nan,\n",
       "                                                     monotone_constraints=None,\n",
       "                                                     n_estimators=100,\n",
       "                                                     n_jobs=-1,\n",
       "                                                     num_parallel_tree=None,\n",
       "                                                     predictor=None,\n",
       "                                                     random_state=42, ...))]),\n",
       "             n_jobs=-1,\n",
       "             param_grid={'regressor__learning_rate': [0.01, 0.1, 0.2],\n",
       "                         'regressor__n_estimators': [100, 200, 300, 400]},\n",
       "             scoring='neg_mean_squared_error', verbose=2)"
      ]
     },
     "execution_count": 25,
     "metadata": {},
     "output_type": "execute_result"
    }
   ],
   "source": [
    "xgb_grid_search.fit(X_train, y_train)"
   ]
  },
  {
   "cell_type": "code",
   "execution_count": 26,
   "id": "56452fc9-5fe9-4ff7-b697-9c1acf04d0b2",
   "metadata": {
    "id": "56452fc9-5fe9-4ff7-b697-9c1acf04d0b2",
    "tags": []
   },
   "outputs": [],
   "source": [
    "best_params = xgb_grid_search.best_params_\n",
    "best_pipeline = xgb_grid_search.best_estimator_\n"
   ]
  },
  {
   "cell_type": "code",
   "execution_count": 27,
   "id": "00ba3f63-ecb4-4071-b34d-d255ebd081d8",
   "metadata": {
    "tags": []
   },
   "outputs": [
    {
     "name": "stdout",
     "output_type": "stream",
     "text": [
      "Best parameters found by grid search:\n",
      "regressor__learning_rate: 0.2\n",
      "regressor__n_estimators: 400\n"
     ]
    }
   ],
   "source": [
    "best_params = xgb_grid_search.best_params_\n",
    "print(\"Best parameters found by grid search:\")\n",
    "for param, value in best_params.items():\n",
    "    print(f\"{param}: {value}\")\n"
   ]
  },
  {
   "cell_type": "code",
   "execution_count": 28,
   "id": "3c1b5851-baea-4da9-ae0c-7b53c0bf5acd",
   "metadata": {
    "id": "3c1b5851-baea-4da9-ae0c-7b53c0bf5acd",
    "tags": []
   },
   "outputs": [
    {
     "name": "stdout",
     "output_type": "stream",
     "text": [
      "Best XGBoost Mean Squared Error: 2037.6230649587612\n",
      "R2:0.42\n",
      "[CV] END regressor__learning_rate=0.01, regressor__n_estimators=200; total time= 3.4min\n",
      "[CV] END regressor__learning_rate=0.1, regressor__n_estimators=100; total time= 1.8min\n",
      "[CV] END regressor__learning_rate=0.1, regressor__n_estimators=200; total time= 3.9min\n",
      "[CV] END regressor__learning_rate=0.1, regressor__n_estimators=300; total time= 6.3min\n",
      "[CV] END regressor__learning_rate=0.2, regressor__n_estimators=300; total time= 5.7min\n"
     ]
    }
   ],
   "source": [
    "y_pred_best = best_pipeline.predict(X_test)\n",
    "mse_best = mean_squared_error(y_test, y_pred_best)\n",
    "r2_best = r2_score(y_test, y_pred_best)\n",
    "print(f\"Best XGBoost Mean Squared Error: {mse_best}\")\n",
    "print(f\"R2:{r2_best:.2f}\")\n"
   ]
  },
  {
   "cell_type": "code",
   "execution_count": null,
   "id": "0effc423-cf76-4b79-a79a-62b17b024d7d",
   "metadata": {
    "id": "0effc423-cf76-4b79-a79a-62b17b024d7d"
   },
   "outputs": [],
   "source": []
  },
  {
   "cell_type": "markdown",
   "id": "14682460-f99f-4fb9-bf3f-860bc7e09326",
   "metadata": {
    "tags": []
   },
   "source": [
    "- get the feature importance "
   ]
  },
  {
   "cell_type": "code",
   "execution_count": 29,
   "id": "c08aeb31-9ef3-49de-93f1-535359b3dcf6",
   "metadata": {
    "tags": []
   },
   "outputs": [
    {
     "name": "stdout",
     "output_type": "stream",
     "text": [
      "Feature importances in descending order:\n",
      "cat__gift_quantity_1.0: 0.4585789442062378\n",
      "cat__gift_quantity_0.0: 0.09627796709537506\n",
      "num__quantity: 0.06326938420534134\n",
      "cat__country_Spain: 0.052028074860572815\n",
      "cat__country_Germany: 0.04603121057152748\n",
      "num__price_difference: 0.04130663350224495\n",
      "cat__country_Hungary: 0.032418131828308105\n",
      "cat__country_Austria: 0.025219321250915527\n",
      "cat__country_Croatia: 0.024631304666399956\n",
      "cat__country_Romania: 0.0175138171762228\n",
      "cyc__week_of_year_cos: 0.0139705715700984\n",
      "cat__country_Slovakia: 0.01269183587282896\n",
      "cat__country_France: 0.012148147448897362\n",
      "cat__country_Ireland: 0.008585312403738499\n",
      "cyc__month_of_year_cos: 0.008347159251570702\n",
      "cyc__week_of_year_sin: 0.007646418176591396\n",
      "cat__country_Czech Republic: 0.007307779975235462\n",
      "cat__country_Sweden: 0.006382205989211798\n",
      "cyc__month_of_year_sin: 0.006274992134422064\n",
      "cat__country_Denmark: 0.006212734151631594\n",
      "bin__afternoon: 0.006124421488493681\n",
      "cyc__day_of_week_sin: 0.005649176891893148\n",
      "bin__evening: 0.005550166592001915\n",
      "cyc__hour_of_day_cos: 0.005413254722952843\n",
      "cyc__day_of_week_cos: 0.005150318145751953\n",
      "cyc__hour_of_day_sin: 0.005103858653455973\n",
      "bin__morning: 0.003970340825617313\n",
      "cat__country_Italy: 0.0037884556222707033\n",
      "cat__country_Netherlands: 0.002889275783672929\n",
      "cat__country_Finland: 0.0028535446617752314\n",
      "cat__country_Belgium: 0.0019383449107408524\n",
      "cat__country_Poland: 0.0015150534454733133\n",
      "cat__country_United Kingdom: 0.0012077817227691412\n",
      "cat__gift_quantity_2.0: 0.0007318103453144431\n",
      "cat__country_Slovenia: 0.0007296237745322287\n",
      "cat__country_Portugal: 0.000542689929716289\n",
      "cat__country_Bulgaria: 0.0\n",
      "cat__gift_quantity_3.0: 0.0\n"
     ]
    }
   ],
   "source": [
    "# Get the XGBoost model from the pipeline\n",
    "xgb_model = xgb_pipeline.named_steps['regressor']\n",
    "\n",
    "# Get the feature importances\n",
    "feature_importances = xgb_model.feature_importances_\n",
    "\n",
    "# Get the feature names from the ColumnTransformer\n",
    "feature_names = preprocessor.get_feature_names_out()\n",
    "\n",
    "# Combine feature names and importances into a list of tuples\n",
    "features_and_importances = list(zip(feature_names, feature_importances))\n",
    "\n",
    "# Sort the list of tuples by importance in descending order\n",
    "sorted_features_and_importances = sorted(features_and_importances, key=lambda x: x[1], reverse=True)\n",
    "\n",
    "# Print sorted feature importances\n",
    "print(\"Feature importances in descending order:\")\n",
    "for feature_name, importance in sorted_features_and_importances:\n",
    "    print(f\"{feature_name}: {importance}\")\n"
   ]
  },
  {
   "cell_type": "code",
   "execution_count": null,
   "id": "33dc8ef7-04cb-48db-940d-13f0fdb46b22",
   "metadata": {},
   "outputs": [],
   "source": []
  },
  {
   "cell_type": "code",
   "execution_count": null,
   "id": "54ce0029-2961-418c-a111-b2074a2df98d",
   "metadata": {
    "id": "54ce0029-2961-418c-a111-b2074a2df98d"
   },
   "outputs": [],
   "source": []
  },
  {
   "cell_type": "markdown",
   "id": "f052e80b-d8c2-4dd0-972d-2cdc4169b6f6",
   "metadata": {
    "id": "f052e80b-d8c2-4dd0-972d-2cdc4169b6f6"
   },
   "source": [
    "- Random Forest Model"
   ]
  },
  {
   "cell_type": "code",
   "execution_count": 30,
   "id": "e76133dd-12a0-4921-9903-69e606a3ba92",
   "metadata": {
    "colab": {
     "base_uri": "https://localhost:8080/"
    },
    "executionInfo": {
     "elapsed": 44488,
     "status": "ok",
     "timestamp": 1682108143288,
     "user": {
      "displayName": "LEAH CHEN",
      "userId": "04389040899043702332"
     },
     "user_tz": 420
    },
    "id": "e76133dd-12a0-4921-9903-69e606a3ba92",
    "outputId": "bdc3ce98-fa6e-4590-f625-5540f00f6de2",
    "tags": []
   },
   "outputs": [
    {
     "name": "stdout",
     "output_type": "stream",
     "text": [
      "[CV] END regressor__learning_rate=0.01, regressor__n_estimators=300; total time= 5.1min\n",
      "[CV] END regressor__learning_rate=0.1, regressor__n_estimators=200; total time= 3.9min\n",
      "[CV] END regressor__learning_rate=0.1, regressor__n_estimators=400; total time= 8.5min\n",
      "[CV] END regressor__learning_rate=0.2, regressor__n_estimators=300; total time= 4.9min\n",
      "Baseline Model Mean Squared Error: 3536.537490401975\n"
     ]
    }
   ],
   "source": [
    "rf_pipeline = Pipeline(steps=[('preprocessor', preprocessor),\n",
    "                              ('regressor', RandomForestRegressor(n_jobs=-1, random_state=42))])\n",
    "\n",
    "# Train and evaluate the models\n",
    "pipelines = [rf_pipeline]\n",
    "model_names = ['Random Forest']\n",
    "\n",
    "for pipeline, model_name in zip(pipelines, model_names):\n",
    "    # Train the model\n",
    "    pipeline.fit(X_train, y_train)\n",
    "    \n",
    "    # Evaluate the model\n",
    "    y_pred_rf = pipeline.predict(X_test)\n",
    "\n",
    "# Calculate the mean squared error for the baseline model\n",
    "y_baseline = y_train.mean()\n",
    "mse_baseline = mean_squared_error(y_test, [y_baseline] * len(y_test))\n",
    "print(f\"Baseline Model Mean Squared Error: {mse_baseline}\")"
   ]
  },
  {
   "cell_type": "code",
   "execution_count": 31,
   "id": "20a6c0b4-8d79-493f-adde-420d552f3caa",
   "metadata": {
    "colab": {
     "base_uri": "https://localhost:8080/"
    },
    "executionInfo": {
     "elapsed": 1103,
     "status": "ok",
     "timestamp": 1682108147525,
     "user": {
      "displayName": "LEAH CHEN",
      "userId": "04389040899043702332"
     },
     "user_tz": 420
    },
    "id": "20a6c0b4-8d79-493f-adde-420d552f3caa",
    "outputId": "91e8501f-6868-438d-a983-8c8e1d15af32",
    "tags": []
   },
   "outputs": [
    {
     "name": "stdout",
     "output_type": "stream",
     "text": [
      "MAE: 27.53\n",
      "MSE: 2137.86\n",
      "RMSE: 46.24\n",
      "R2:0.40\n"
     ]
    }
   ],
   "source": [
    "# Evaluate the best model\n",
    "y_pred_rf = rf_pipeline.predict(X_test)\n",
    "mae_rf = mean_absolute_error(y_test, y_pred_rf)\n",
    "mse_rf = mean_squared_error(y_test, y_pred_rf)\n",
    "rmse_rf = np.sqrt(mse_rf)\n",
    "r2_rf = r2_score(y_test, y_pred_rf)\n",
    "\n",
    "print(f\"MAE: {mae_rf:.2f}\")\n",
    "print(f\"MSE: {mse_rf:.2f}\")\n",
    "print(f\"RMSE: {rmse_rf:.2f}\")\n",
    "print(f\"R2:{r2_rf:.2f}\")"
   ]
  },
  {
   "cell_type": "code",
   "execution_count": null,
   "id": "a984eac4-e24d-4433-a903-b3af9ca5494e",
   "metadata": {
    "id": "a984eac4-e24d-4433-a903-b3af9ca5494e"
   },
   "outputs": [],
   "source": []
  },
  {
   "cell_type": "code",
   "execution_count": null,
   "id": "j6Ge50QtKYq6",
   "metadata": {
    "id": "j6Ge50QtKYq6"
   },
   "outputs": [],
   "source": []
  },
  {
   "cell_type": "code",
   "execution_count": null,
   "id": "6OVhF5WnKYt0",
   "metadata": {
    "id": "6OVhF5WnKYt0"
   },
   "outputs": [],
   "source": []
  },
  {
   "cell_type": "markdown",
   "id": "dW-4b0DnKeBi",
   "metadata": {
    "id": "dW-4b0DnKeBi"
   },
   "source": [
    "####  Try to use PCA to see if there is a result different"
   ]
  },
  {
   "cell_type": "code",
   "execution_count": 32,
   "id": "VIMz5s45LmhR",
   "metadata": {
    "executionInfo": {
     "elapsed": 131,
     "status": "ok",
     "timestamp": 1682108151009,
     "user": {
      "displayName": "LEAH CHEN",
      "userId": "04389040899043702332"
     },
     "user_tz": 420
    },
    "id": "VIMz5s45LmhR",
    "tags": []
   },
   "outputs": [
    {
     "name": "stdout",
     "output_type": "stream",
     "text": [
      "[CV] END regressor__learning_rate=0.01, regressor__n_estimators=100; total time= 1.6min\n",
      "[CV] END regressor__learning_rate=0.01, regressor__n_estimators=300; total time= 5.4min\n",
      "[CV] END regressor__learning_rate=0.1, regressor__n_estimators=300; total time= 6.3min\n",
      "[CV] END regressor__learning_rate=0.2, regressor__n_estimators=200; total time= 4.3min\n",
      "[CV] END regressor__learning_rate=0.2, regressor__n_estimators=400; total time= 6.0min\n",
      "[CV] END regressor__learning_rate=0.01, regressor__n_estimators=200; total time= 3.4min\n",
      "[CV] END regressor__learning_rate=0.1, regressor__n_estimators=100; total time= 1.8min\n",
      "[CV] END regressor__learning_rate=0.1, regressor__n_estimators=200; total time= 3.9min\n",
      "[CV] END regressor__learning_rate=0.1, regressor__n_estimators=400; total time= 8.5min\n",
      "[CV] END regressor__learning_rate=0.2, regressor__n_estimators=400; total time= 6.0min\n",
      "[CV] END regressor__learning_rate=0.01, regressor__n_estimators=300; total time= 5.1min\n",
      "[CV] END regressor__learning_rate=0.1, regressor__n_estimators=100; total time= 1.9min\n",
      "[CV] END regressor__learning_rate=0.1, regressor__n_estimators=300; total time= 6.2min\n",
      "[CV] END regressor__learning_rate=0.2, regressor__n_estimators=200; total time= 4.3min\n",
      "[CV] END regressor__learning_rate=0.2, regressor__n_estimators=400; total time= 6.0min\n"
     ]
    }
   ],
   "source": [
    "# Create transformers for numeric, categorical, binary, and cyclical features\n",
    "numeric_transformer = StandardScaler()\n",
    "categorical_transformer = OneHotEncoder(handle_unknown='ignore')\n",
    "binary_transformer = 'passthrough'\n",
    "\n",
    "# Create a column transformer that applies the appropriate transformations to each feature subset\n",
    "preprocessor = ColumnTransformer(\n",
    "    transformers=[\n",
    "        ('num', numeric_transformer, numeric_features),\n",
    "        ('cat', categorical_transformer, categorical_features),\n",
    "        ('bin', binary_transformer, binary_features),\n",
    "        ('cyc', 'passthrough', cyclical_features)])"
   ]
  },
  {
   "cell_type": "code",
   "execution_count": 33,
   "id": "NugVtKcoM8BY",
   "metadata": {
    "executionInfo": {
     "elapsed": 761,
     "status": "ok",
     "timestamp": 1682108152772,
     "user": {
      "displayName": "LEAH CHEN",
      "userId": "04389040899043702332"
     },
     "user_tz": 420
    },
    "id": "NugVtKcoM8BY",
    "tags": []
   },
   "outputs": [],
   "source": [
    "# Fit the preprocessor on the training data and transform both the training and test data\n",
    "X_train_preprocessed = preprocessor.fit_transform(X_train)\n",
    "X_test_preprocessed = preprocessor.transform(X_test)\n"
   ]
  },
  {
   "cell_type": "code",
   "execution_count": 34,
   "id": "4Ex0EW9EM70-",
   "metadata": {
    "colab": {
     "base_uri": "https://localhost:8080/",
     "height": 472
    },
    "executionInfo": {
     "elapsed": 1823,
     "status": "ok",
     "timestamp": 1682108155276,
     "user": {
      "displayName": "LEAH CHEN",
      "userId": "04389040899043702332"
     },
     "user_tz": 420
    },
    "id": "4Ex0EW9EM70-",
    "outputId": "4fd06889-b8c6-4494-efe2-afba116e49a7",
    "tags": []
   },
   "outputs": [
    {
     "data": {
      "image/png": "[encoded data removed]",
      "text/plain": [
       "<Figure size 640x480 with 1 Axes>"
      ]
     },
     "metadata": {},
     "output_type": "display_data"
    }
   ],
   "source": [
    "pca = PCA()\n",
    "pca.fit(X_train_preprocessed)\n",
    "\n",
    "# Calculate the cumulative explained variance\n",
    "explained_variance_ratio = np.cumsum(pca.explained_variance_ratio_)\n",
    "\n",
    "# Plot the explained variance ratio\n",
    "plt.figure()\n",
    "plt.plot(range(1, len(explained_variance_ratio) + 1), explained_variance_ratio, 'o-')\n",
    "plt.xlabel('Number of Components')\n",
    "plt.ylabel('Cumulative Explained Variance')\n",
    "plt.title('Elbow Plot')\n",
    "plt.grid()\n",
    "plt.show()\n"
   ]
  },
  {
   "cell_type": "code",
   "execution_count": 35,
   "id": "5FQGO-2YM7m8",
   "metadata": {
    "executionInfo": {
     "elapsed": 5201,
     "status": "ok",
     "timestamp": 1682108167634,
     "user": {
      "displayName": "LEAH CHEN",
      "userId": "04389040899043702332"
     },
     "user_tz": 420
    },
    "id": "5FQGO-2YM7m8",
    "tags": []
   },
   "outputs": [],
   "source": [
    "# Create a PCA transformer with the optimal number of components\n",
    "optimal_n_components = 15  \n",
    "pca_transformer = PCA(n_components=optimal_n_components)\n",
    "\n",
    "# Create a pipeline with the preprocessor, PCA, and the Ridge regression model\n",
    "ridge_pipeline = Pipeline(steps=[\n",
    "    ('preprocessor', preprocessor),\n",
    "    ('pca', pca_transformer),\n",
    "    ('regressor', Ridge())\n",
    "])\n",
    "\n",
    "# Train and evaluate the model\n",
    "ridge_pipeline.fit(X_train, y_train)\n",
    "y_pred_rg = ridge_pipeline.predict(X_test)\n",
    "\n"
   ]
  },
  {
   "cell_type": "code",
   "execution_count": 36,
   "id": "4NajV4kDKY4N",
   "metadata": {
    "colab": {
     "base_uri": "https://localhost:8080/"
    },
    "executionInfo": {
     "elapsed": 120,
     "status": "ok",
     "timestamp": 1682108168927,
     "user": {
      "displayName": "LEAH CHEN",
      "userId": "04389040899043702332"
     },
     "user_tz": 420
    },
    "id": "4NajV4kDKY4N",
    "outputId": "90d7a217-cb08-4bca-a881-4ce9ca81c29c",
    "tags": []
   },
   "outputs": [
    {
     "name": "stdout",
     "output_type": "stream",
     "text": [
      "Ridge Regression with PCA MSE: 2923.8602608063184\n",
      "Ridge Regression with PCA MAE: 35.81\n",
      "Ridge Regression with PCA RMSE: 54.07\n",
      "Ridge Regression with PCA R2:0.17\n"
     ]
    }
   ],
   "source": [
    "# Evaluate the model\n",
    "mse_rg = mean_squared_error(y_test, y_pred_rg)\n",
    "mae_rg = mean_absolute_error(y_test, y_pred_rg)\n",
    "rmse_rg = np.sqrt(mse_rg)\n",
    "r2_rg = r2_score(y_test, y_pred_rg)\n",
    "print(f\"Ridge Regression with PCA MSE: {mse_rg}\")\n",
    "print(f\"Ridge Regression with PCA MAE: {mae_rg:.2f}\")\n",
    "print(f\"Ridge Regression with PCA RMSE: {rmse_rg:.2f}\")\n",
    "print(f\"Ridge Regression with PCA R2:{r2_rg:.2f}\")"
   ]
  },
  {
   "cell_type": "code",
   "execution_count": null,
   "id": "82Gu9dezLI7l",
   "metadata": {
    "id": "82Gu9dezLI7l"
   },
   "outputs": [],
   "source": []
  },
  {
   "cell_type": "code",
   "execution_count": 37,
   "id": "_jsj-nOvLI4X",
   "metadata": {
    "colab": {
     "base_uri": "https://localhost:8080/"
    },
    "executionInfo": {
     "elapsed": 91512,
     "status": "ok",
     "timestamp": 1682108269160,
     "user": {
      "displayName": "LEAH CHEN",
      "userId": "04389040899043702332"
     },
     "user_tz": 420
    },
    "id": "_jsj-nOvLI4X",
    "outputId": "dadcc876-e771-4897-de93-86fc633fa6cc",
    "tags": []
   },
   "outputs": [
    {
     "name": "stdout",
     "output_type": "stream",
     "text": [
      "Best hyperparameters: {'regressor__alpha': 1}\n",
      "Ridge Regression with PCA and Grid Search Mean Squared Error: 2923.860206446704\n"
     ]
    }
   ],
   "source": [
    "# Do the grid search for my model\n",
    "ridge_pipeline = Pipeline(steps=[\n",
    "    ('preprocessor', preprocessor),\n",
    "    ('pca', pca_transformer),\n",
    "    ('regressor', Ridge())\n",
    "])\n",
    "\n",
    "# Define the hyperparameter grid\n",
    "param_grid = {'regressor__alpha': [0.1, 1, 10, 100]}\n",
    "\n",
    "# Perform the grid search\n",
    "grid_search = GridSearchCV(ridge_pipeline, param_grid, scoring='neg_mean_squared_error', cv=5)\n",
    "grid_search.fit(X_train, y_train)\n",
    "\n",
    "# Print the best hyperparameters\n",
    "print(f\"Best hyperparameters: {grid_search.best_params_}\")\n",
    "\n",
    "# Evaluate the best model\n",
    "y_pred_rgBest = grid_search.predict(X_test)\n",
    "mse = mean_squared_error(y_test, y_pred_rgBest)\n",
    "print(f\"Ridge Regression with PCA and Grid Search Mean Squared Error: {mse}\")\n",
    "\n"
   ]
  },
  {
   "cell_type": "code",
   "execution_count": null,
   "id": "6ca66e7f-c3f8-46d9-ab14-d128be26d16a",
   "metadata": {},
   "outputs": [],
   "source": []
  }
 ],
 "metadata": {
  "accelerator": "TPU",
  "colab": {
   "machine_shape": "hm",
   "provenance": [
    {
     "file_id": "14eG69icO-LxoxufvoZt8v985d3ycQFSo",
     "timestamp": 1682102800331
    }
   ]
  },
  "gpuClass": "standard",
  "kernelspec": {
   "display_name": "Python 3 (ipykernel)",
   "language": "python",
   "name": "python3"
  },
  "language_info": {
   "codemirror_mode": {
    "name": "ipython",
    "version": 3
   },
   "file_extension": ".py",
   "mimetype": "text/x-python",
   "name": "python",
   "nbconvert_exporter": "python",
   "pygments_lexer": "ipython3",
   "version": "3.10.9"
  }
 },
 "nbformat": 4,
 "nbformat_minor": 5
}
